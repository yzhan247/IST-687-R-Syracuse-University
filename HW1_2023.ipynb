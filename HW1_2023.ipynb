{
  "nbformat": 4,
  "nbformat_minor": 0,
  "metadata": {
    "colab": {
      "provenance": [],
      "include_colab_link": true
    },
    "kernelspec": {
      "name": "ir",
      "display_name": "R"
    },
    "language_info": {
      "name": "R"
    }
  },
  "cells": [
    {
      "cell_type": "markdown",
      "metadata": {
        "id": "view-in-github",
        "colab_type": "text"
      },
      "source": [
        "<a href=\"https://colab.research.google.com/github/yzhan247/IST-687-R-Syracuse-University/blob/main/HW1_2023.ipynb\" target=\"_parent\"><img src=\"https://colab.research.google.com/assets/colab-badge.svg\" alt=\"Open In Colab\"/></a>"
      ]
    },
    {
      "cell_type": "markdown",
      "metadata": {
        "id": "S5xKlqTBHL2f"
      },
      "source": [
        "## Intro to Data Science - HW 1\n",
        "##### Copyright 2022, Jeffrey Stanton, Jeffrey Saltz, and Jasmina Tacheva"
      ]
    },
    {
      "cell_type": "code",
      "execution_count": null,
      "metadata": {
        "id": "TDArhKc0HL2g"
      },
      "outputs": [],
      "source": [
        "# Enter your name here: Yuqing Zhang"
      ]
    },
    {
      "cell_type": "markdown",
      "metadata": {
        "id": "cGHitmRjHL2g"
      },
      "source": [
        "### Attribution statement: (choose only one and delete the rest)"
      ]
    },
    {
      "cell_type": "code",
      "execution_count": null,
      "metadata": {
        "id": "OD8DkFNXHL2h"
      },
      "outputs": [],
      "source": [
        "\n",
        "# 2. I did this homework with help from the book and the professor and these Internet sources:\n"
      ]
    },
    {
      "cell_type": "markdown",
      "metadata": {
        "id": "wByWQ_c-HL2h"
      },
      "source": [
        "Define a variable:"
      ]
    },
    {
      "cell_type": "code",
      "execution_count": null,
      "metadata": {
        "id": "7aFjla_uHL2h"
      },
      "outputs": [],
      "source": [
        "value <- 150"
      ]
    },
    {
      "cell_type": "markdown",
      "source": [
        "Print the content of this new variable:"
      ],
      "metadata": {
        "id": "S1PgVuy9ZaCh"
      }
    },
    {
      "cell_type": "code",
      "source": [
        "print(value)"
      ],
      "metadata": {
        "id": "CBVUSYQFZh3f",
        "colab": {
          "base_uri": "https://localhost:8080/"
        },
        "outputId": "3592bed6-4d94-43b5-964a-93ec51b97e3f"
      },
      "execution_count": null,
      "outputs": [
        {
          "output_type": "stream",
          "name": "stdout",
          "text": [
            "[1] 150\n"
          ]
        }
      ]
    },
    {
      "cell_type": "markdown",
      "metadata": {
        "id": "uoi3mEmmHL2i"
      },
      "source": [
        "Define the following vectors, which represent the **hospital capacity** (measured in number of hospital beds) and **number of colleges** in each of the five counties in Central New York (CNY) – **Cayuga**, **Cortland**, **Madison**, **Onondaga**, and **Oswego**, in this order (e.g. the first number in the **capacity** vector suggests there are 124 hospital beds in Cayuga county):"
      ]
    },
    {
      "cell_type": "code",
      "execution_count": null,
      "metadata": {
        "id": "6EotifYEHL2i",
        "colab": {
          "base_uri": "https://localhost:8080/",
          "height": 128
        },
        "outputId": "c3a14213-4f88-47b5-a2cb-029df6ee3427"
      },
      "outputs": [
        {
          "output_type": "display_data",
          "data": {
            "text/html": [
              "<table class=\"dataframe\">\n",
              "<caption>A matrix: 3 × 5 of type chr</caption>\n",
              "<tbody>\n",
              "\t<tr><th scope=row>cityName</th><td>Cayuga</td><td>Cortland</td><td>Madison</td><td>Onondaga</td><td>Oswego</td></tr>\n",
              "\t<tr><th scope=row>capacity</th><td>124   </td><td>70      </td><td>51     </td><td>1403    </td><td>86    </td></tr>\n",
              "\t<tr><th scope=row>colleges</th><td>2     </td><td>2       </td><td>3      </td><td>9       </td><td>2     </td></tr>\n",
              "</tbody>\n",
              "</table>\n"
            ],
            "text/markdown": "\nA matrix: 3 × 5 of type chr\n\n| cityName | Cayuga | Cortland | Madison | Onondaga | Oswego |\n| capacity | 124    | 70       | 51      | 1403     | 86     |\n| colleges | 2      | 2        | 3       | 9        | 2      |\n\n",
            "text/latex": "A matrix: 3 × 5 of type chr\n\\begin{tabular}{r|lllll}\n\tcityName & Cayuga & Cortland & Madison & Onondaga & Oswego\\\\\n\tcapacity & 124    & 70       & 51      & 1403     & 86    \\\\\n\tcolleges & 2      & 2        & 3       & 9        & 2     \\\\\n\\end{tabular}\n",
            "text/plain": [
              "         [,1]   [,2]     [,3]    [,4]     [,5]  \n",
              "cityName Cayuga Cortland Madison Onondaga Oswego\n",
              "capacity 124    70       51      1403     86    \n",
              "colleges 2      2        3       9        2     "
            ]
          },
          "metadata": {}
        }
      ],
      "source": [
        "capacity <- c(124, 70, 51, 1403, 86)\n",
        "colleges <- c(2, 2, 3, 9, 2)\n",
        "cityName <- c('Cayuga', 'Cortland', 'Madison','Onondaga','Oswego')\n",
        "rbind (cityName, capacity, colleges)"
      ]
    },
    {
      "cell_type": "markdown",
      "metadata": {
        "id": "TmQjdH24HL2i"
      },
      "source": [
        "# Part 1: Calculating statistics using R  "
      ]
    },
    {
      "cell_type": "markdown",
      "metadata": {
        "id": "52NxYexbHL2j"
      },
      "source": [
        "A.\tShow the number of observations in the **capacity** vector with the length() function: "
      ]
    },
    {
      "cell_type": "code",
      "execution_count": null,
      "metadata": {
        "id": "jvgD1j45HL2j",
        "colab": {
          "base_uri": "https://localhost:8080/",
          "height": 34
        },
        "outputId": "211b36e0-324f-4a0f-d164-a61c773af687"
      },
      "outputs": [
        {
          "output_type": "display_data",
          "data": {
            "text/html": [
              "5"
            ],
            "text/markdown": "5",
            "text/latex": "5",
            "text/plain": [
              "[1] 5"
            ]
          },
          "metadata": {}
        }
      ],
      "source": [
        "length(capacity)"
      ]
    },
    {
      "cell_type": "markdown",
      "metadata": {
        "id": "ufDhv11EHL2j"
      },
      "source": [
        "B.\tShow the number of observations in the **colleges** vector with the length() function:"
      ]
    },
    {
      "cell_type": "code",
      "execution_count": null,
      "metadata": {
        "id": "0zMfsQ4gHL2j",
        "colab": {
          "base_uri": "https://localhost:8080/",
          "height": 34
        },
        "outputId": "5d34daa2-9ed1-45a8-d68c-865e7fca3029"
      },
      "outputs": [
        {
          "output_type": "display_data",
          "data": {
            "text/html": [
              "5"
            ],
            "text/markdown": "5",
            "text/latex": "5",
            "text/plain": [
              "[1] 5"
            ]
          },
          "metadata": {}
        }
      ],
      "source": [
        "length(colleges)"
      ]
    },
    {
      "cell_type": "markdown",
      "metadata": {
        "id": "RXxu154rHL2k"
      },
      "source": [
        "C.\tCalculate the average number of colleges in CNY using the mean() function:"
      ]
    },
    {
      "cell_type": "code",
      "execution_count": null,
      "metadata": {
        "id": "ugsYR8rCHL2k",
        "colab": {
          "base_uri": "https://localhost:8080/",
          "height": 34
        },
        "outputId": "099b8dd0-417c-46bd-958e-73b3b8642933"
      },
      "outputs": [
        {
          "output_type": "display_data",
          "data": {
            "text/html": [
              "3.6"
            ],
            "text/markdown": "3.6",
            "text/latex": "3.6",
            "text/plain": [
              "[1] 3.6"
            ]
          },
          "metadata": {}
        }
      ],
      "source": [
        "mean(colleges)"
      ]
    },
    {
      "cell_type": "markdown",
      "metadata": {
        "id": "segX05F6HL2l"
      },
      "source": [
        "D.\tCalculate the total number of colleges in CNY using the sum() function:"
      ]
    },
    {
      "cell_type": "code",
      "execution_count": null,
      "metadata": {
        "id": "jVFDBr3CHL2l",
        "colab": {
          "base_uri": "https://localhost:8080/",
          "height": 34
        },
        "outputId": "886831ea-3c33-4b04-b6e1-9564586dcf08"
      },
      "outputs": [
        {
          "output_type": "display_data",
          "data": {
            "text/html": [
              "18"
            ],
            "text/markdown": "18",
            "text/latex": "18",
            "text/plain": [
              "[1] 18"
            ]
          },
          "metadata": {}
        }
      ],
      "source": [
        "sum(colleges)"
      ]
    },
    {
      "cell_type": "markdown",
      "metadata": {
        "id": "ULXspYuJHL2j"
      },
      "source": [
        "E.\tCalculate the average CNY hospital capacity using the mean() function:"
      ]
    },
    {
      "cell_type": "code",
      "source": [
        "mean(capacity)"
      ],
      "metadata": {
        "id": "UOg58jIeYagr",
        "colab": {
          "base_uri": "https://localhost:8080/",
          "height": 34
        },
        "outputId": "2d2bce68-e83f-4728-8c09-adcbb22d8bdf"
      },
      "execution_count": null,
      "outputs": [
        {
          "output_type": "display_data",
          "data": {
            "text/html": [
              "346.8"
            ],
            "text/markdown": "346.8",
            "text/latex": "346.8",
            "text/plain": [
              "[1] 346.8"
            ]
          },
          "metadata": {}
        }
      ]
    },
    {
      "cell_type": "markdown",
      "metadata": {
        "id": "9RNBrTK1HL2k"
      },
      "source": [
        "F.\tCalculate the total hospital capacity in CNY using the sum() function:"
      ]
    },
    {
      "cell_type": "code",
      "execution_count": null,
      "metadata": {
        "id": "EzytqkgqHL2l",
        "colab": {
          "base_uri": "https://localhost:8080/",
          "height": 34
        },
        "outputId": "849d8081-589d-40a6-c6c9-4fa0f6b8e588"
      },
      "outputs": [
        {
          "output_type": "display_data",
          "data": {
            "text/html": [
              "1734"
            ],
            "text/markdown": "1734",
            "text/latex": "1734",
            "text/plain": [
              "[1] 1734"
            ]
          },
          "metadata": {}
        }
      ],
      "source": [
        "sum(capacity)"
      ]
    },
    {
      "cell_type": "markdown",
      "metadata": {
        "id": "41RxK-ZjHL2l"
      },
      "source": [
        "G.\tCalculate the average number of colleges in CNY again, this time using **the results from steps B & D**:"
      ]
    },
    {
      "cell_type": "code",
      "execution_count": null,
      "metadata": {
        "id": "muqLZ5B5HL2l",
        "colab": {
          "base_uri": "https://localhost:8080/",
          "height": 34
        },
        "outputId": "5a5f40d2-bbd9-4b82-9584-a18d2da94f6b"
      },
      "outputs": [
        {
          "output_type": "display_data",
          "data": {
            "text/html": [
              "3.6"
            ],
            "text/markdown": "3.6",
            "text/latex": "3.6",
            "text/plain": [
              "[1] 3.6"
            ]
          },
          "metadata": {}
        }
      ],
      "source": [
        "sum(colleges)/length(colleges)"
      ]
    },
    {
      "cell_type": "markdown",
      "metadata": {
        "id": "m-7vj6y6HL2l"
      },
      "source": [
        "H.\tCalculate the average CNY hospital capacity again, this time using **the results from steps A & F**:"
      ]
    },
    {
      "cell_type": "code",
      "execution_count": null,
      "metadata": {
        "id": "FZu31EbIHL2m",
        "colab": {
          "base_uri": "https://localhost:8080/",
          "height": 34
        },
        "outputId": "e8628fb2-b415-4671-cc16-cfe34d27110a"
      },
      "outputs": [
        {
          "output_type": "display_data",
          "data": {
            "text/html": [
              "346.8"
            ],
            "text/markdown": "346.8",
            "text/latex": "346.8",
            "text/plain": [
              "[1] 346.8"
            ]
          },
          "metadata": {}
        }
      ],
      "source": [
        "sum(capacity)/length(capacity)"
      ]
    },
    {
      "cell_type": "markdown",
      "metadata": {
        "id": "RETC7Pb_HL2m"
      },
      "source": [
        "# Part 2: Using the max/min and range functions in R"
      ]
    },
    {
      "cell_type": "markdown",
      "metadata": {
        "id": "s2gcH8z-HL2m"
      },
      "source": [
        "I.\tHow many colleges does the county with most colleges have? Hint: Use the max() function:"
      ]
    },
    {
      "cell_type": "code",
      "execution_count": null,
      "metadata": {
        "id": "dA7clQKuHL2m",
        "colab": {
          "base_uri": "https://localhost:8080/",
          "height": 34
        },
        "outputId": "485cd778-6064-4e59-b048-6f0b413c6628"
      },
      "outputs": [
        {
          "output_type": "display_data",
          "data": {
            "text/html": [
              "9"
            ],
            "text/markdown": "9",
            "text/latex": "9",
            "text/plain": [
              "[1] 9"
            ]
          },
          "metadata": {}
        }
      ],
      "source": [
        "max(colleges)"
      ]
    },
    {
      "cell_type": "markdown",
      "metadata": {
        "id": "EwpI86yFHL2m"
      },
      "source": [
        "J.\tWhat is the hospital capacity of the county with the smallest number of hospital beds in CNY? **Hint:** Use the min() function:"
      ]
    },
    {
      "cell_type": "code",
      "execution_count": null,
      "metadata": {
        "id": "HZtjBBPoHL2m",
        "colab": {
          "base_uri": "https://localhost:8080/",
          "height": 34
        },
        "outputId": "01fbf97d-0c7d-422e-855a-54e312ed909e"
      },
      "outputs": [
        {
          "output_type": "display_data",
          "data": {
            "text/html": [
              "2"
            ],
            "text/markdown": "2",
            "text/latex": "2",
            "text/plain": [
              "[1] 2"
            ]
          },
          "metadata": {}
        }
      ],
      "source": [
        "min(colleges)"
      ]
    },
    {
      "cell_type": "markdown",
      "metadata": {
        "id": "z-UdneF1HL2m"
      },
      "source": [
        "K.\tDisplay the number of beds in the county with the highest hospital capacity and the county with the lowest hospital capacity together, using a single command. **Hint:** Use the range() function:"
      ]
    },
    {
      "cell_type": "code",
      "execution_count": null,
      "metadata": {
        "id": "MCzwj3mFHL2m",
        "colab": {
          "base_uri": "https://localhost:8080/",
          "height": 34
        },
        "outputId": "42c46346-d489-43fe-901f-2d596c9203af"
      },
      "outputs": [
        {
          "output_type": "display_data",
          "data": {
            "text/html": [
              "<style>\n",
              ".list-inline {list-style: none; margin:0; padding: 0}\n",
              ".list-inline>li {display: inline-block}\n",
              ".list-inline>li:not(:last-child)::after {content: \"\\00b7\"; padding: 0 .5ex}\n",
              "</style>\n",
              "<ol class=list-inline><li>51</li><li>1403</li></ol>\n"
            ],
            "text/markdown": "1. 51\n2. 1403\n\n\n",
            "text/latex": "\\begin{enumerate*}\n\\item 51\n\\item 1403\n\\end{enumerate*}\n",
            "text/plain": [
              "[1]   51 1403"
            ]
          },
          "metadata": {}
        }
      ],
      "source": [
        "range(capacity)"
      ]
    },
    {
      "cell_type": "markdown",
      "metadata": {
        "id": "ge0TOYQ1HL2n"
      },
      "source": [
        "# Part 3: Vector Math"
      ]
    },
    {
      "cell_type": "markdown",
      "metadata": {
        "id": "lb2y_mUcHL2n"
      },
      "source": [
        "L.\tCreate a new vector called **lowerCap**, which is the current hospital capacity of each county **1 10** (each county has 100 more hospital beds):"
      ]
    },
    {
      "cell_type": "code",
      "execution_count": null,
      "metadata": {
        "id": "6THBDj_jHL2n",
        "colab": {
          "base_uri": "https://localhost:8080/"
        },
        "outputId": "c25f50f8-1fba-4847-f754-c1e96ef8f5b9"
      },
      "outputs": [
        {
          "output_type": "stream",
          "name": "stdout",
          "text": [
            "[1]  224  170  151 1503  186\n"
          ]
        }
      ],
      "source": [
        "lowerCap <- capacity+100\n",
        "print(lowerCap)"
      ]
    },
    {
      "cell_type": "markdown",
      "metadata": {
        "id": "5hBrL9qrHL2n"
      },
      "source": [
        "M.\t Calculate the average of **lowerCap**:"
      ]
    },
    {
      "cell_type": "code",
      "execution_count": null,
      "metadata": {
        "id": "BgDxBx6KHL2n",
        "colab": {
          "base_uri": "https://localhost:8080/",
          "height": 34
        },
        "outputId": "f92289e7-cebb-49e1-aa6e-ba7c84478a97"
      },
      "outputs": [
        {
          "output_type": "display_data",
          "data": {
            "text/html": [
              "446.8"
            ],
            "text/markdown": "446.8",
            "text/latex": "446.8",
            "text/plain": [
              "[1] 446.8"
            ]
          },
          "metadata": {}
        }
      ],
      "source": [
        "mean (lowerCap)"
      ]
    },
    {
      "cell_type": "markdown",
      "source": [
        "N. Create another vector called **megaCap**, which is the original hospital capacity in each county (stored in **capacity**) plus **value** (the variable we declared in the beginning of this assignment). "
      ],
      "metadata": {
        "id": "rxATHYoNZwh4"
      }
    },
    {
      "cell_type": "code",
      "source": [
        "megaCap <- capacity + value"
      ],
      "metadata": {
        "id": "pdDMbtKvaQKL"
      },
      "execution_count": null,
      "outputs": []
    },
    {
      "cell_type": "markdown",
      "source": [
        "O. Print the content of **megaCap**:"
      ],
      "metadata": {
        "id": "GUjZ8-e7aQhU"
      }
    },
    {
      "cell_type": "code",
      "source": [
        "print (megaCap)"
      ],
      "metadata": {
        "id": "FR8hk50VaWca",
        "colab": {
          "base_uri": "https://localhost:8080/"
        },
        "outputId": "755449e3-af2a-455d-9733-57a0c49d4a58"
      },
      "execution_count": null,
      "outputs": [
        {
          "output_type": "stream",
          "name": "stdout",
          "text": [
            "[1]  274  220  201 1553  236\n"
          ]
        }
      ]
    },
    {
      "cell_type": "markdown",
      "metadata": {
        "id": "M-T4uW3kHL2n"
      },
      "source": [
        "P.\tIn a variable called **bigCap**, store all the hospital numbers from the original **capacity** vector which are **greater than 80** (using **subsetting** in R):"
      ]
    },
    {
      "cell_type": "code",
      "execution_count": null,
      "metadata": {
        "id": "UuLSlpBqHL2n",
        "colab": {
          "base_uri": "https://localhost:8080/"
        },
        "outputId": "22842b78-225c-48fb-8356-8b92d4f744f4"
      },
      "outputs": [
        {
          "output_type": "stream",
          "name": "stdout",
          "text": [
            "[1]  124 1403   86\n"
          ]
        }
      ],
      "source": [
        "bigCap <- subset(capacity,capacity > 80)\n",
        "print (bigCap)"
      ]
    },
    {
      "cell_type": "markdown",
      "metadata": {
        "id": "7BLOes79HL2o"
      },
      "source": [
        "Q.\tPrint the length of **bigCap** and explain in a comment how many counties have more than 80 hospital beds:"
      ]
    },
    {
      "cell_type": "code",
      "execution_count": null,
      "metadata": {
        "id": "ppurVMh4HL2o",
        "colab": {
          "base_uri": "https://localhost:8080/",
          "height": 34
        },
        "outputId": "8a221987-2033-4608-ccf0-0755d246b505"
      },
      "outputs": [
        {
          "output_type": "display_data",
          "data": {
            "text/html": [
              "3"
            ],
            "text/markdown": "3",
            "text/latex": "3",
            "text/plain": [
              "[1] 3"
            ]
          },
          "metadata": {}
        }
      ],
      "source": [
        "# There are 3 counties have more than 80 hospital beds\n",
        "length (bigCap)"
      ]
    }
  ]
}