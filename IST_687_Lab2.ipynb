{
  "nbformat": 4,
  "nbformat_minor": 0,
  "metadata": {
    "colab": {
      "provenance": [],
      "include_colab_link": true
    },
    "kernelspec": {
      "name": "ir",
      "display_name": "R"
    },
    "language_info": {
      "name": "R"
    }
  },
  "cells": [
    {
      "cell_type": "markdown",
      "metadata": {
        "id": "view-in-github",
        "colab_type": "text"
      },
      "source": [
        "<a href=\"https://colab.research.google.com/github/yzhan247/IST-687-R-Syracuse-University/blob/main/IST_687_Lab2.ipynb\" target=\"_parent\"><img src=\"https://colab.research.google.com/assets/colab-badge.svg\" alt=\"Open In Colab\"/></a>"
      ]
    },
    {
      "cell_type": "markdown",
      "source": [
        "# Intro to Data Science - Lab 2\n",
        "##### Copyright 2022, Jeffrey Stanton and Jeffrey Saltz – Please do not post online."
      ],
      "metadata": {
        "id": "i2nfLxat3iyx"
      }
    },
    {
      "cell_type": "markdown",
      "source": [
        "## Week 2 – Sorting Data and Ordering a Data Frame"
      ],
      "metadata": {
        "id": "C6QDto713s0w"
      }
    },
    {
      "cell_type": "code",
      "source": [
        "# Enter your name here: Yuqing Zhang"
      ],
      "metadata": {
        "id": "WVmLPqEE4Da7"
      },
      "execution_count": 25,
      "outputs": []
    },
    {
      "cell_type": "markdown",
      "source": [
        "### Please include nice comments. <br>\n"
      ],
      "metadata": {
        "id": "eB1uH9si8t1H"
      }
    },
    {
      "cell_type": "markdown",
      "source": [
        "### Attribution statement: (choose only one and delete the rest)"
      ],
      "metadata": {
        "id": "A-Wv3Dpz4D7M"
      }
    },
    {
      "cell_type": "code",
      "source": [
        "# 2. I did this lab assignment with help from the book and the professor and these Internet sources:\n"
      ],
      "metadata": {
        "id": "GU4XoRKw4IgZ"
      },
      "execution_count": 26,
      "outputs": []
    },
    {
      "cell_type": "markdown",
      "source": [
        "1. Make\ta\tcopy\tof\tthe\tbuilt-in\tiris\tdata\tset\tlike\tthis:<br>\n",
        "`myIris\t<-\tiris`\n"
      ],
      "metadata": {
        "id": "igvhxWIo70DN"
      }
    },
    {
      "cell_type": "code",
      "source": [
        "myIris <- iris"
      ],
      "metadata": {
        "id": "JydmzaXV9RRb"
      },
      "execution_count": 27,
      "outputs": []
    },
    {
      "cell_type": "markdown",
      "source": [
        "2. Get\tan\texplanation\tof\tthe\tcontents\tof\tthe\tdata\tset\twith\tthe\t**help()**\tfunction:<br>\n",
        "`help(\"iris\")`\n"
      ],
      "metadata": {
        "id": "Uj7gUxDr9RlY"
      }
    },
    {
      "cell_type": "code",
      "source": [
        "#type help(\"iris\")at the command line, the help page goes on to describe the inputs and outputs of function, finally we can get the help from the \"iris\" function."
      ],
      "metadata": {
        "id": "cEAtZCpN9X6o"
      },
      "execution_count": 28,
      "outputs": []
    },
    {
      "cell_type": "markdown",
      "source": [
        "3. Explore\t**myIris**\tvia the\t**str()**\tand\t**glimpse()**\tfunctions\t(note:\tyou\tneed\tto\tinstall\tand\n",
        "library\t**‘tidyverse’**\tto\tuse\t**glimpse()**).\tWhich\tdo\tyou\tthink\tis\tbetter?\tWhy? Explain in a comment.\n"
      ],
      "metadata": {
        "id": "fZVfFFSR9YIT"
      }
    },
    {
      "cell_type": "code",
      "source": [
        "library (\"tidyverse\")\n",
        "glimpse(myIris)\n"
      ],
      "metadata": {
        "id": "J8RRh3PD9oDC",
        "colab": {
          "base_uri": "https://localhost:8080/",
          "height": 0
        },
        "outputId": "1c5bd8f2-2f78-40ea-8f23-4dcd686753f1"
      },
      "execution_count": 29,
      "outputs": [
        {
          "output_type": "stream",
          "name": "stdout",
          "text": [
            "Rows: 150\n",
            "Columns: 5\n",
            "$ Sepal.Length \u001b[3m\u001b[90m<dbl>\u001b[39m\u001b[23m 5.1, 4.9, 4.7, 4.6, 5.0, 5.4, 4.6, 5.0, 4.4, 4.9, 5.4, 4.…\n",
            "$ Sepal.Width  \u001b[3m\u001b[90m<dbl>\u001b[39m\u001b[23m 3.5, 3.0, 3.2, 3.1, 3.6, 3.9, 3.4, 3.4, 2.9, 3.1, 3.7, 3.…\n",
            "$ Petal.Length \u001b[3m\u001b[90m<dbl>\u001b[39m\u001b[23m 1.4, 1.4, 1.3, 1.5, 1.4, 1.7, 1.4, 1.5, 1.4, 1.5, 1.5, 1.…\n",
            "$ Petal.Width  \u001b[3m\u001b[90m<dbl>\u001b[39m\u001b[23m 0.2, 0.2, 0.2, 0.2, 0.2, 0.4, 0.3, 0.2, 0.2, 0.1, 0.2, 0.…\n",
            "$ Species      \u001b[3m\u001b[90m<fct>\u001b[39m\u001b[23m setosa, setosa, setosa, setosa, setosa, setosa, setosa, s…\n"
          ]
        }
      ]
    },
    {
      "cell_type": "code",
      "source": [
        "str(myIris)"
      ],
      "metadata": {
        "colab": {
          "base_uri": "https://localhost:8080/",
          "height": 0
        },
        "id": "DWIkxuw6eDFF",
        "outputId": "57dd61bf-cf9c-4a09-e03c-4cb5e25c96a0"
      },
      "execution_count": 30,
      "outputs": [
        {
          "output_type": "stream",
          "name": "stdout",
          "text": [
            "'data.frame':\t150 obs. of  5 variables:\n",
            " $ Sepal.Length: num  5.1 4.9 4.7 4.6 5 5.4 4.6 5 4.4 4.9 ...\n",
            " $ Sepal.Width : num  3.5 3 3.2 3.1 3.6 3.9 3.4 3.4 2.9 3.1 ...\n",
            " $ Petal.Length: num  1.4 1.4 1.3 1.5 1.4 1.7 1.4 1.5 1.4 1.5 ...\n",
            " $ Petal.Width : num  0.2 0.2 0.2 0.2 0.2 0.4 0.3 0.2 0.2 0.1 ...\n",
            " $ Species     : Factor w/ 3 levels \"setosa\",\"versicolor\",..: 1 1 1 1 1 1 1 1 1 1 ...\n"
          ]
        }
      ]
    },
    {
      "cell_type": "code",
      "source": [
        "# I think str() is better because we don't have to install the library tidyverse."
      ],
      "metadata": {
        "id": "EZqO9EjGeLhH"
      },
      "execution_count": 31,
      "outputs": []
    },
    {
      "cell_type": "markdown",
      "source": [
        "4. Summarize\tthe\tvariables\tin\tyour\tcopy\tof\tthe\tdata\tset,\tlike\tthis:<br>\n",
        "`summary(myIris)`\n"
      ],
      "metadata": {
        "id": "R6JS51uG9ocZ"
      }
    },
    {
      "cell_type": "code",
      "source": [
        "summary(myIris)"
      ],
      "metadata": {
        "colab": {
          "base_uri": "https://localhost:8080/",
          "height": 267
        },
        "id": "cTyTLlVmek9t",
        "outputId": "6b0788c4-156e-4e4e-f643-6799089ce8c8"
      },
      "execution_count": 32,
      "outputs": [
        {
          "output_type": "display_data",
          "data": {
            "text/plain": [
              "  Sepal.Length    Sepal.Width     Petal.Length    Petal.Width   \n",
              " Min.   :4.300   Min.   :2.000   Min.   :1.000   Min.   :0.100  \n",
              " 1st Qu.:5.100   1st Qu.:2.800   1st Qu.:1.600   1st Qu.:0.300  \n",
              " Median :5.800   Median :3.000   Median :4.350   Median :1.300  \n",
              " Mean   :5.843   Mean   :3.057   Mean   :3.758   Mean   :1.199  \n",
              " 3rd Qu.:6.400   3rd Qu.:3.300   3rd Qu.:5.100   3rd Qu.:1.800  \n",
              " Max.   :7.900   Max.   :4.400   Max.   :6.900   Max.   :2.500  \n",
              "       Species  \n",
              " setosa    :50  \n",
              " versicolor:50  \n",
              " virginica :50  \n",
              "                \n",
              "                \n",
              "                "
            ]
          },
          "metadata": {}
        }
      ]
    },
    {
      "cell_type": "markdown",
      "source": [
        "5. The\t**summary()**\tcommand\tprovided\tthe\tmean\tof\teach\tnumeric\tvariable.\tChoose\n",
        "the\tvariable\twith\tthe\thighest\tmean and\tlist\tits\tcontents.\tAny\n",
        "variable\tcan\tbe\techoed\tto\tthe\tconsole\tsimply\tby\ttyping\tits\tname.\tHere’s\tan\n",
        "example\tthat\techoes\tthe\tvariable\twith\tthe\tlowest\tmean:<br>\n",
        "`myIris$Petal.Width`\n"
      ],
      "metadata": {
        "id": "wnf4mgva9syr"
      }
    },
    {
      "cell_type": "code",
      "source": [
        "myIris$Sepal.Length"
      ],
      "metadata": {
        "colab": {
          "base_uri": "https://localhost:8080/",
          "height": 86
        },
        "id": "SItvaEsZesuG",
        "outputId": "e1a147fc-9a49-4798-983e-46f44091f5e0"
      },
      "execution_count": 33,
      "outputs": [
        {
          "output_type": "display_data",
          "data": {
            "text/html": [
              "<style>\n",
              ".list-inline {list-style: none; margin:0; padding: 0}\n",
              ".list-inline>li {display: inline-block}\n",
              ".list-inline>li:not(:last-child)::after {content: \"\\00b7\"; padding: 0 .5ex}\n",
              "</style>\n",
              "<ol class=list-inline><li>5.1</li><li>4.9</li><li>4.7</li><li>4.6</li><li>5</li><li>5.4</li><li>4.6</li><li>5</li><li>4.4</li><li>4.9</li><li>5.4</li><li>4.8</li><li>4.8</li><li>4.3</li><li>5.8</li><li>5.7</li><li>5.4</li><li>5.1</li><li>5.7</li><li>5.1</li><li>5.4</li><li>5.1</li><li>4.6</li><li>5.1</li><li>4.8</li><li>5</li><li>5</li><li>5.2</li><li>5.2</li><li>4.7</li><li>4.8</li><li>5.4</li><li>5.2</li><li>5.5</li><li>4.9</li><li>5</li><li>5.5</li><li>4.9</li><li>4.4</li><li>5.1</li><li>5</li><li>4.5</li><li>4.4</li><li>5</li><li>5.1</li><li>4.8</li><li>5.1</li><li>4.6</li><li>5.3</li><li>5</li><li>7</li><li>6.4</li><li>6.9</li><li>5.5</li><li>6.5</li><li>5.7</li><li>6.3</li><li>4.9</li><li>6.6</li><li>5.2</li><li>5</li><li>5.9</li><li>6</li><li>6.1</li><li>5.6</li><li>6.7</li><li>5.6</li><li>5.8</li><li>6.2</li><li>5.6</li><li>5.9</li><li>6.1</li><li>6.3</li><li>6.1</li><li>6.4</li><li>6.6</li><li>6.8</li><li>6.7</li><li>6</li><li>5.7</li><li>5.5</li><li>5.5</li><li>5.8</li><li>6</li><li>5.4</li><li>6</li><li>6.7</li><li>6.3</li><li>5.6</li><li>5.5</li><li>5.5</li><li>6.1</li><li>5.8</li><li>5</li><li>5.6</li><li>5.7</li><li>5.7</li><li>6.2</li><li>5.1</li><li>5.7</li><li>6.3</li><li>5.8</li><li>7.1</li><li>6.3</li><li>6.5</li><li>7.6</li><li>4.9</li><li>7.3</li><li>6.7</li><li>7.2</li><li>6.5</li><li>6.4</li><li>6.8</li><li>5.7</li><li>5.8</li><li>6.4</li><li>6.5</li><li>7.7</li><li>7.7</li><li>6</li><li>6.9</li><li>5.6</li><li>7.7</li><li>6.3</li><li>6.7</li><li>7.2</li><li>6.2</li><li>6.1</li><li>6.4</li><li>7.2</li><li>7.4</li><li>7.9</li><li>6.4</li><li>6.3</li><li>6.1</li><li>7.7</li><li>6.3</li><li>6.4</li><li>6</li><li>6.9</li><li>6.7</li><li>6.9</li><li>5.8</li><li>6.8</li><li>6.7</li><li>6.7</li><li>6.3</li><li>6.5</li><li>6.2</li><li>5.9</li></ol>\n"
            ],
            "text/markdown": "1. 5.1\n2. 4.9\n3. 4.7\n4. 4.6\n5. 5\n6. 5.4\n7. 4.6\n8. 5\n9. 4.4\n10. 4.9\n11. 5.4\n12. 4.8\n13. 4.8\n14. 4.3\n15. 5.8\n16. 5.7\n17. 5.4\n18. 5.1\n19. 5.7\n20. 5.1\n21. 5.4\n22. 5.1\n23. 4.6\n24. 5.1\n25. 4.8\n26. 5\n27. 5\n28. 5.2\n29. 5.2\n30. 4.7\n31. 4.8\n32. 5.4\n33. 5.2\n34. 5.5\n35. 4.9\n36. 5\n37. 5.5\n38. 4.9\n39. 4.4\n40. 5.1\n41. 5\n42. 4.5\n43. 4.4\n44. 5\n45. 5.1\n46. 4.8\n47. 5.1\n48. 4.6\n49. 5.3\n50. 5\n51. 7\n52. 6.4\n53. 6.9\n54. 5.5\n55. 6.5\n56. 5.7\n57. 6.3\n58. 4.9\n59. 6.6\n60. 5.2\n61. 5\n62. 5.9\n63. 6\n64. 6.1\n65. 5.6\n66. 6.7\n67. 5.6\n68. 5.8\n69. 6.2\n70. 5.6\n71. 5.9\n72. 6.1\n73. 6.3\n74. 6.1\n75. 6.4\n76. 6.6\n77. 6.8\n78. 6.7\n79. 6\n80. 5.7\n81. 5.5\n82. 5.5\n83. 5.8\n84. 6\n85. 5.4\n86. 6\n87. 6.7\n88. 6.3\n89. 5.6\n90. 5.5\n91. 5.5\n92. 6.1\n93. 5.8\n94. 5\n95. 5.6\n96. 5.7\n97. 5.7\n98. 6.2\n99. 5.1\n100. 5.7\n101. 6.3\n102. 5.8\n103. 7.1\n104. 6.3\n105. 6.5\n106. 7.6\n107. 4.9\n108. 7.3\n109. 6.7\n110. 7.2\n111. 6.5\n112. 6.4\n113. 6.8\n114. 5.7\n115. 5.8\n116. 6.4\n117. 6.5\n118. 7.7\n119. 7.7\n120. 6\n121. 6.9\n122. 5.6\n123. 7.7\n124. 6.3\n125. 6.7\n126. 7.2\n127. 6.2\n128. 6.1\n129. 6.4\n130. 7.2\n131. 7.4\n132. 7.9\n133. 6.4\n134. 6.3\n135. 6.1\n136. 7.7\n137. 6.3\n138. 6.4\n139. 6\n140. 6.9\n141. 6.7\n142. 6.9\n143. 5.8\n144. 6.8\n145. 6.7\n146. 6.7\n147. 6.3\n148. 6.5\n149. 6.2\n150. 5.9\n\n\n",
            "text/latex": "\\begin{enumerate*}\n\\item 5.1\n\\item 4.9\n\\item 4.7\n\\item 4.6\n\\item 5\n\\item 5.4\n\\item 4.6\n\\item 5\n\\item 4.4\n\\item 4.9\n\\item 5.4\n\\item 4.8\n\\item 4.8\n\\item 4.3\n\\item 5.8\n\\item 5.7\n\\item 5.4\n\\item 5.1\n\\item 5.7\n\\item 5.1\n\\item 5.4\n\\item 5.1\n\\item 4.6\n\\item 5.1\n\\item 4.8\n\\item 5\n\\item 5\n\\item 5.2\n\\item 5.2\n\\item 4.7\n\\item 4.8\n\\item 5.4\n\\item 5.2\n\\item 5.5\n\\item 4.9\n\\item 5\n\\item 5.5\n\\item 4.9\n\\item 4.4\n\\item 5.1\n\\item 5\n\\item 4.5\n\\item 4.4\n\\item 5\n\\item 5.1\n\\item 4.8\n\\item 5.1\n\\item 4.6\n\\item 5.3\n\\item 5\n\\item 7\n\\item 6.4\n\\item 6.9\n\\item 5.5\n\\item 6.5\n\\item 5.7\n\\item 6.3\n\\item 4.9\n\\item 6.6\n\\item 5.2\n\\item 5\n\\item 5.9\n\\item 6\n\\item 6.1\n\\item 5.6\n\\item 6.7\n\\item 5.6\n\\item 5.8\n\\item 6.2\n\\item 5.6\n\\item 5.9\n\\item 6.1\n\\item 6.3\n\\item 6.1\n\\item 6.4\n\\item 6.6\n\\item 6.8\n\\item 6.7\n\\item 6\n\\item 5.7\n\\item 5.5\n\\item 5.5\n\\item 5.8\n\\item 6\n\\item 5.4\n\\item 6\n\\item 6.7\n\\item 6.3\n\\item 5.6\n\\item 5.5\n\\item 5.5\n\\item 6.1\n\\item 5.8\n\\item 5\n\\item 5.6\n\\item 5.7\n\\item 5.7\n\\item 6.2\n\\item 5.1\n\\item 5.7\n\\item 6.3\n\\item 5.8\n\\item 7.1\n\\item 6.3\n\\item 6.5\n\\item 7.6\n\\item 4.9\n\\item 7.3\n\\item 6.7\n\\item 7.2\n\\item 6.5\n\\item 6.4\n\\item 6.8\n\\item 5.7\n\\item 5.8\n\\item 6.4\n\\item 6.5\n\\item 7.7\n\\item 7.7\n\\item 6\n\\item 6.9\n\\item 5.6\n\\item 7.7\n\\item 6.3\n\\item 6.7\n\\item 7.2\n\\item 6.2\n\\item 6.1\n\\item 6.4\n\\item 7.2\n\\item 7.4\n\\item 7.9\n\\item 6.4\n\\item 6.3\n\\item 6.1\n\\item 7.7\n\\item 6.3\n\\item 6.4\n\\item 6\n\\item 6.9\n\\item 6.7\n\\item 6.9\n\\item 5.8\n\\item 6.8\n\\item 6.7\n\\item 6.7\n\\item 6.3\n\\item 6.5\n\\item 6.2\n\\item 5.9\n\\end{enumerate*}\n",
            "text/plain": [
              "  [1] 5.1 4.9 4.7 4.6 5.0 5.4 4.6 5.0 4.4 4.9 5.4 4.8 4.8 4.3 5.8 5.7 5.4 5.1\n",
              " [19] 5.7 5.1 5.4 5.1 4.6 5.1 4.8 5.0 5.0 5.2 5.2 4.7 4.8 5.4 5.2 5.5 4.9 5.0\n",
              " [37] 5.5 4.9 4.4 5.1 5.0 4.5 4.4 5.0 5.1 4.8 5.1 4.6 5.3 5.0 7.0 6.4 6.9 5.5\n",
              " [55] 6.5 5.7 6.3 4.9 6.6 5.2 5.0 5.9 6.0 6.1 5.6 6.7 5.6 5.8 6.2 5.6 5.9 6.1\n",
              " [73] 6.3 6.1 6.4 6.6 6.8 6.7 6.0 5.7 5.5 5.5 5.8 6.0 5.4 6.0 6.7 6.3 5.6 5.5\n",
              " [91] 5.5 6.1 5.8 5.0 5.6 5.7 5.7 6.2 5.1 5.7 6.3 5.8 7.1 6.3 6.5 7.6 4.9 7.3\n",
              "[109] 6.7 7.2 6.5 6.4 6.8 5.7 5.8 6.4 6.5 7.7 7.7 6.0 6.9 5.6 7.7 6.3 6.7 7.2\n",
              "[127] 6.2 6.1 6.4 7.2 7.4 7.9 6.4 6.3 6.1 7.7 6.3 6.4 6.0 6.9 6.7 6.9 5.8 6.8\n",
              "[145] 6.7 6.7 6.3 6.5 6.2 5.9"
            ]
          },
          "metadata": {}
        }
      ]
    },
    {
      "cell_type": "markdown",
      "source": [
        "6. Now\tsort\tthat attribute by\tcalling\tthe\t**sort()**\tfunction\tand\tsupplying\tthat\tvariable.\n",
        "Remember\tto\tchoose\tthe\tvariable\twith\tthe\thighest\tmean.\n"
      ],
      "metadata": {
        "id": "NZx_lI77953J"
      }
    },
    {
      "cell_type": "code",
      "source": [
        "sort(myIris$Sepal.Length)"
      ],
      "metadata": {
        "id": "JoOqlfaS9_BN",
        "colab": {
          "base_uri": "https://localhost:8080/",
          "height": 86
        },
        "outputId": "9164863d-2e2d-4dcb-8bda-d2383b44c997"
      },
      "execution_count": 34,
      "outputs": [
        {
          "output_type": "display_data",
          "data": {
            "text/html": [
              "<style>\n",
              ".list-inline {list-style: none; margin:0; padding: 0}\n",
              ".list-inline>li {display: inline-block}\n",
              ".list-inline>li:not(:last-child)::after {content: \"\\00b7\"; padding: 0 .5ex}\n",
              "</style>\n",
              "<ol class=list-inline><li>4.3</li><li>4.4</li><li>4.4</li><li>4.4</li><li>4.5</li><li>4.6</li><li>4.6</li><li>4.6</li><li>4.6</li><li>4.7</li><li>4.7</li><li>4.8</li><li>4.8</li><li>4.8</li><li>4.8</li><li>4.8</li><li>4.9</li><li>4.9</li><li>4.9</li><li>4.9</li><li>4.9</li><li>4.9</li><li>5</li><li>5</li><li>5</li><li>5</li><li>5</li><li>5</li><li>5</li><li>5</li><li>5</li><li>5</li><li>5.1</li><li>5.1</li><li>5.1</li><li>5.1</li><li>5.1</li><li>5.1</li><li>5.1</li><li>5.1</li><li>5.1</li><li>5.2</li><li>5.2</li><li>5.2</li><li>5.2</li><li>5.3</li><li>5.4</li><li>5.4</li><li>5.4</li><li>5.4</li><li>5.4</li><li>5.4</li><li>5.5</li><li>5.5</li><li>5.5</li><li>5.5</li><li>5.5</li><li>5.5</li><li>5.5</li><li>5.6</li><li>5.6</li><li>5.6</li><li>5.6</li><li>5.6</li><li>5.6</li><li>5.7</li><li>5.7</li><li>5.7</li><li>5.7</li><li>5.7</li><li>5.7</li><li>5.7</li><li>5.7</li><li>5.8</li><li>5.8</li><li>5.8</li><li>5.8</li><li>5.8</li><li>5.8</li><li>5.8</li><li>5.9</li><li>5.9</li><li>5.9</li><li>6</li><li>6</li><li>6</li><li>6</li><li>6</li><li>6</li><li>6.1</li><li>6.1</li><li>6.1</li><li>6.1</li><li>6.1</li><li>6.1</li><li>6.2</li><li>6.2</li><li>6.2</li><li>6.2</li><li>6.3</li><li>6.3</li><li>6.3</li><li>6.3</li><li>6.3</li><li>6.3</li><li>6.3</li><li>6.3</li><li>6.3</li><li>6.4</li><li>6.4</li><li>6.4</li><li>6.4</li><li>6.4</li><li>6.4</li><li>6.4</li><li>6.5</li><li>6.5</li><li>6.5</li><li>6.5</li><li>6.5</li><li>6.6</li><li>6.6</li><li>6.7</li><li>6.7</li><li>6.7</li><li>6.7</li><li>6.7</li><li>6.7</li><li>6.7</li><li>6.7</li><li>6.8</li><li>6.8</li><li>6.8</li><li>6.9</li><li>6.9</li><li>6.9</li><li>6.9</li><li>7</li><li>7.1</li><li>7.2</li><li>7.2</li><li>7.2</li><li>7.3</li><li>7.4</li><li>7.6</li><li>7.7</li><li>7.7</li><li>7.7</li><li>7.7</li><li>7.9</li></ol>\n"
            ],
            "text/markdown": "1. 4.3\n2. 4.4\n3. 4.4\n4. 4.4\n5. 4.5\n6. 4.6\n7. 4.6\n8. 4.6\n9. 4.6\n10. 4.7\n11. 4.7\n12. 4.8\n13. 4.8\n14. 4.8\n15. 4.8\n16. 4.8\n17. 4.9\n18. 4.9\n19. 4.9\n20. 4.9\n21. 4.9\n22. 4.9\n23. 5\n24. 5\n25. 5\n26. 5\n27. 5\n28. 5\n29. 5\n30. 5\n31. 5\n32. 5\n33. 5.1\n34. 5.1\n35. 5.1\n36. 5.1\n37. 5.1\n38. 5.1\n39. 5.1\n40. 5.1\n41. 5.1\n42. 5.2\n43. 5.2\n44. 5.2\n45. 5.2\n46. 5.3\n47. 5.4\n48. 5.4\n49. 5.4\n50. 5.4\n51. 5.4\n52. 5.4\n53. 5.5\n54. 5.5\n55. 5.5\n56. 5.5\n57. 5.5\n58. 5.5\n59. 5.5\n60. 5.6\n61. 5.6\n62. 5.6\n63. 5.6\n64. 5.6\n65. 5.6\n66. 5.7\n67. 5.7\n68. 5.7\n69. 5.7\n70. 5.7\n71. 5.7\n72. 5.7\n73. 5.7\n74. 5.8\n75. 5.8\n76. 5.8\n77. 5.8\n78. 5.8\n79. 5.8\n80. 5.8\n81. 5.9\n82. 5.9\n83. 5.9\n84. 6\n85. 6\n86. 6\n87. 6\n88. 6\n89. 6\n90. 6.1\n91. 6.1\n92. 6.1\n93. 6.1\n94. 6.1\n95. 6.1\n96. 6.2\n97. 6.2\n98. 6.2\n99. 6.2\n100. 6.3\n101. 6.3\n102. 6.3\n103. 6.3\n104. 6.3\n105. 6.3\n106. 6.3\n107. 6.3\n108. 6.3\n109. 6.4\n110. 6.4\n111. 6.4\n112. 6.4\n113. 6.4\n114. 6.4\n115. 6.4\n116. 6.5\n117. 6.5\n118. 6.5\n119. 6.5\n120. 6.5\n121. 6.6\n122. 6.6\n123. 6.7\n124. 6.7\n125. 6.7\n126. 6.7\n127. 6.7\n128. 6.7\n129. 6.7\n130. 6.7\n131. 6.8\n132. 6.8\n133. 6.8\n134. 6.9\n135. 6.9\n136. 6.9\n137. 6.9\n138. 7\n139. 7.1\n140. 7.2\n141. 7.2\n142. 7.2\n143. 7.3\n144. 7.4\n145. 7.6\n146. 7.7\n147. 7.7\n148. 7.7\n149. 7.7\n150. 7.9\n\n\n",
            "text/latex": "\\begin{enumerate*}\n\\item 4.3\n\\item 4.4\n\\item 4.4\n\\item 4.4\n\\item 4.5\n\\item 4.6\n\\item 4.6\n\\item 4.6\n\\item 4.6\n\\item 4.7\n\\item 4.7\n\\item 4.8\n\\item 4.8\n\\item 4.8\n\\item 4.8\n\\item 4.8\n\\item 4.9\n\\item 4.9\n\\item 4.9\n\\item 4.9\n\\item 4.9\n\\item 4.9\n\\item 5\n\\item 5\n\\item 5\n\\item 5\n\\item 5\n\\item 5\n\\item 5\n\\item 5\n\\item 5\n\\item 5\n\\item 5.1\n\\item 5.1\n\\item 5.1\n\\item 5.1\n\\item 5.1\n\\item 5.1\n\\item 5.1\n\\item 5.1\n\\item 5.1\n\\item 5.2\n\\item 5.2\n\\item 5.2\n\\item 5.2\n\\item 5.3\n\\item 5.4\n\\item 5.4\n\\item 5.4\n\\item 5.4\n\\item 5.4\n\\item 5.4\n\\item 5.5\n\\item 5.5\n\\item 5.5\n\\item 5.5\n\\item 5.5\n\\item 5.5\n\\item 5.5\n\\item 5.6\n\\item 5.6\n\\item 5.6\n\\item 5.6\n\\item 5.6\n\\item 5.6\n\\item 5.7\n\\item 5.7\n\\item 5.7\n\\item 5.7\n\\item 5.7\n\\item 5.7\n\\item 5.7\n\\item 5.7\n\\item 5.8\n\\item 5.8\n\\item 5.8\n\\item 5.8\n\\item 5.8\n\\item 5.8\n\\item 5.8\n\\item 5.9\n\\item 5.9\n\\item 5.9\n\\item 6\n\\item 6\n\\item 6\n\\item 6\n\\item 6\n\\item 6\n\\item 6.1\n\\item 6.1\n\\item 6.1\n\\item 6.1\n\\item 6.1\n\\item 6.1\n\\item 6.2\n\\item 6.2\n\\item 6.2\n\\item 6.2\n\\item 6.3\n\\item 6.3\n\\item 6.3\n\\item 6.3\n\\item 6.3\n\\item 6.3\n\\item 6.3\n\\item 6.3\n\\item 6.3\n\\item 6.4\n\\item 6.4\n\\item 6.4\n\\item 6.4\n\\item 6.4\n\\item 6.4\n\\item 6.4\n\\item 6.5\n\\item 6.5\n\\item 6.5\n\\item 6.5\n\\item 6.5\n\\item 6.6\n\\item 6.6\n\\item 6.7\n\\item 6.7\n\\item 6.7\n\\item 6.7\n\\item 6.7\n\\item 6.7\n\\item 6.7\n\\item 6.7\n\\item 6.8\n\\item 6.8\n\\item 6.8\n\\item 6.9\n\\item 6.9\n\\item 6.9\n\\item 6.9\n\\item 7\n\\item 7.1\n\\item 7.2\n\\item 7.2\n\\item 7.2\n\\item 7.3\n\\item 7.4\n\\item 7.6\n\\item 7.7\n\\item 7.7\n\\item 7.7\n\\item 7.7\n\\item 7.9\n\\end{enumerate*}\n",
            "text/plain": [
              "  [1] 4.3 4.4 4.4 4.4 4.5 4.6 4.6 4.6 4.6 4.7 4.7 4.8 4.8 4.8 4.8 4.8 4.9 4.9\n",
              " [19] 4.9 4.9 4.9 4.9 5.0 5.0 5.0 5.0 5.0 5.0 5.0 5.0 5.0 5.0 5.1 5.1 5.1 5.1\n",
              " [37] 5.1 5.1 5.1 5.1 5.1 5.2 5.2 5.2 5.2 5.3 5.4 5.4 5.4 5.4 5.4 5.4 5.5 5.5\n",
              " [55] 5.5 5.5 5.5 5.5 5.5 5.6 5.6 5.6 5.6 5.6 5.6 5.7 5.7 5.7 5.7 5.7 5.7 5.7\n",
              " [73] 5.7 5.8 5.8 5.8 5.8 5.8 5.8 5.8 5.9 5.9 5.9 6.0 6.0 6.0 6.0 6.0 6.0 6.1\n",
              " [91] 6.1 6.1 6.1 6.1 6.1 6.2 6.2 6.2 6.2 6.3 6.3 6.3 6.3 6.3 6.3 6.3 6.3 6.3\n",
              "[109] 6.4 6.4 6.4 6.4 6.4 6.4 6.4 6.5 6.5 6.5 6.5 6.5 6.6 6.6 6.7 6.7 6.7 6.7\n",
              "[127] 6.7 6.7 6.7 6.7 6.8 6.8 6.8 6.9 6.9 6.9 6.9 7.0 7.1 7.2 7.2 7.2 7.3 7.4\n",
              "[145] 7.6 7.7 7.7 7.7 7.7 7.9"
            ]
          },
          "metadata": {}
        }
      ]
    },
    {
      "cell_type": "markdown",
      "source": [
        "7. Now\trepeat\tthe\tprevious\tcommand,\tbut\tthis\ttime\tuse\tthe\t**order()**\tfunction,\tagain\n",
        "using the\tvariable\twith\tthe\thighest\tmean.\n"
      ],
      "metadata": {
        "id": "G-rcqWVJ9_Jo"
      }
    },
    {
      "cell_type": "code",
      "source": [
        "order(myIris$Sepal.Length)"
      ],
      "metadata": {
        "id": "bo8ij5hY-DG0",
        "colab": {
          "base_uri": "https://localhost:8080/",
          "height": 86
        },
        "outputId": "a39ec198-108d-4a1c-dc7d-d35ba4537ca1"
      },
      "execution_count": 35,
      "outputs": [
        {
          "output_type": "display_data",
          "data": {
            "text/html": [
              "<style>\n",
              ".list-inline {list-style: none; margin:0; padding: 0}\n",
              ".list-inline>li {display: inline-block}\n",
              ".list-inline>li:not(:last-child)::after {content: \"\\00b7\"; padding: 0 .5ex}\n",
              "</style>\n",
              "<ol class=list-inline><li>14</li><li>9</li><li>39</li><li>43</li><li>42</li><li>4</li><li>7</li><li>23</li><li>48</li><li>3</li><li>30</li><li>12</li><li>13</li><li>25</li><li>31</li><li>46</li><li>2</li><li>10</li><li>35</li><li>38</li><li>58</li><li>107</li><li>5</li><li>8</li><li>26</li><li>27</li><li>36</li><li>41</li><li>44</li><li>50</li><li>61</li><li>94</li><li>1</li><li>18</li><li>20</li><li>22</li><li>24</li><li>40</li><li>45</li><li>47</li><li>99</li><li>28</li><li>29</li><li>33</li><li>60</li><li>49</li><li>6</li><li>11</li><li>17</li><li>21</li><li>32</li><li>85</li><li>34</li><li>37</li><li>54</li><li>81</li><li>82</li><li>90</li><li>91</li><li>65</li><li>67</li><li>70</li><li>89</li><li>95</li><li>122</li><li>16</li><li>19</li><li>56</li><li>80</li><li>96</li><li>97</li><li>100</li><li>114</li><li>15</li><li>68</li><li>83</li><li>93</li><li>102</li><li>115</li><li>143</li><li>62</li><li>71</li><li>150</li><li>63</li><li>79</li><li>84</li><li>86</li><li>120</li><li>139</li><li>64</li><li>72</li><li>74</li><li>92</li><li>128</li><li>135</li><li>69</li><li>98</li><li>127</li><li>149</li><li>57</li><li>73</li><li>88</li><li>101</li><li>104</li><li>124</li><li>134</li><li>137</li><li>147</li><li>52</li><li>75</li><li>112</li><li>116</li><li>129</li><li>133</li><li>138</li><li>55</li><li>105</li><li>111</li><li>117</li><li>148</li><li>59</li><li>76</li><li>66</li><li>78</li><li>87</li><li>109</li><li>125</li><li>141</li><li>145</li><li>146</li><li>77</li><li>113</li><li>144</li><li>53</li><li>121</li><li>140</li><li>142</li><li>51</li><li>103</li><li>110</li><li>126</li><li>130</li><li>108</li><li>131</li><li>106</li><li>118</li><li>119</li><li>123</li><li>136</li><li>132</li></ol>\n"
            ],
            "text/markdown": "1. 14\n2. 9\n3. 39\n4. 43\n5. 42\n6. 4\n7. 7\n8. 23\n9. 48\n10. 3\n11. 30\n12. 12\n13. 13\n14. 25\n15. 31\n16. 46\n17. 2\n18. 10\n19. 35\n20. 38\n21. 58\n22. 107\n23. 5\n24. 8\n25. 26\n26. 27\n27. 36\n28. 41\n29. 44\n30. 50\n31. 61\n32. 94\n33. 1\n34. 18\n35. 20\n36. 22\n37. 24\n38. 40\n39. 45\n40. 47\n41. 99\n42. 28\n43. 29\n44. 33\n45. 60\n46. 49\n47. 6\n48. 11\n49. 17\n50. 21\n51. 32\n52. 85\n53. 34\n54. 37\n55. 54\n56. 81\n57. 82\n58. 90\n59. 91\n60. 65\n61. 67\n62. 70\n63. 89\n64. 95\n65. 122\n66. 16\n67. 19\n68. 56\n69. 80\n70. 96\n71. 97\n72. 100\n73. 114\n74. 15\n75. 68\n76. 83\n77. 93\n78. 102\n79. 115\n80. 143\n81. 62\n82. 71\n83. 150\n84. 63\n85. 79\n86. 84\n87. 86\n88. 120\n89. 139\n90. 64\n91. 72\n92. 74\n93. 92\n94. 128\n95. 135\n96. 69\n97. 98\n98. 127\n99. 149\n100. 57\n101. 73\n102. 88\n103. 101\n104. 104\n105. 124\n106. 134\n107. 137\n108. 147\n109. 52\n110. 75\n111. 112\n112. 116\n113. 129\n114. 133\n115. 138\n116. 55\n117. 105\n118. 111\n119. 117\n120. 148\n121. 59\n122. 76\n123. 66\n124. 78\n125. 87\n126. 109\n127. 125\n128. 141\n129. 145\n130. 146\n131. 77\n132. 113\n133. 144\n134. 53\n135. 121\n136. 140\n137. 142\n138. 51\n139. 103\n140. 110\n141. 126\n142. 130\n143. 108\n144. 131\n145. 106\n146. 118\n147. 119\n148. 123\n149. 136\n150. 132\n\n\n",
            "text/latex": "\\begin{enumerate*}\n\\item 14\n\\item 9\n\\item 39\n\\item 43\n\\item 42\n\\item 4\n\\item 7\n\\item 23\n\\item 48\n\\item 3\n\\item 30\n\\item 12\n\\item 13\n\\item 25\n\\item 31\n\\item 46\n\\item 2\n\\item 10\n\\item 35\n\\item 38\n\\item 58\n\\item 107\n\\item 5\n\\item 8\n\\item 26\n\\item 27\n\\item 36\n\\item 41\n\\item 44\n\\item 50\n\\item 61\n\\item 94\n\\item 1\n\\item 18\n\\item 20\n\\item 22\n\\item 24\n\\item 40\n\\item 45\n\\item 47\n\\item 99\n\\item 28\n\\item 29\n\\item 33\n\\item 60\n\\item 49\n\\item 6\n\\item 11\n\\item 17\n\\item 21\n\\item 32\n\\item 85\n\\item 34\n\\item 37\n\\item 54\n\\item 81\n\\item 82\n\\item 90\n\\item 91\n\\item 65\n\\item 67\n\\item 70\n\\item 89\n\\item 95\n\\item 122\n\\item 16\n\\item 19\n\\item 56\n\\item 80\n\\item 96\n\\item 97\n\\item 100\n\\item 114\n\\item 15\n\\item 68\n\\item 83\n\\item 93\n\\item 102\n\\item 115\n\\item 143\n\\item 62\n\\item 71\n\\item 150\n\\item 63\n\\item 79\n\\item 84\n\\item 86\n\\item 120\n\\item 139\n\\item 64\n\\item 72\n\\item 74\n\\item 92\n\\item 128\n\\item 135\n\\item 69\n\\item 98\n\\item 127\n\\item 149\n\\item 57\n\\item 73\n\\item 88\n\\item 101\n\\item 104\n\\item 124\n\\item 134\n\\item 137\n\\item 147\n\\item 52\n\\item 75\n\\item 112\n\\item 116\n\\item 129\n\\item 133\n\\item 138\n\\item 55\n\\item 105\n\\item 111\n\\item 117\n\\item 148\n\\item 59\n\\item 76\n\\item 66\n\\item 78\n\\item 87\n\\item 109\n\\item 125\n\\item 141\n\\item 145\n\\item 146\n\\item 77\n\\item 113\n\\item 144\n\\item 53\n\\item 121\n\\item 140\n\\item 142\n\\item 51\n\\item 103\n\\item 110\n\\item 126\n\\item 130\n\\item 108\n\\item 131\n\\item 106\n\\item 118\n\\item 119\n\\item 123\n\\item 136\n\\item 132\n\\end{enumerate*}\n",
            "text/plain": [
              "  [1]  14   9  39  43  42   4   7  23  48   3  30  12  13  25  31  46   2  10\n",
              " [19]  35  38  58 107   5   8  26  27  36  41  44  50  61  94   1  18  20  22\n",
              " [37]  24  40  45  47  99  28  29  33  60  49   6  11  17  21  32  85  34  37\n",
              " [55]  54  81  82  90  91  65  67  70  89  95 122  16  19  56  80  96  97 100\n",
              " [73] 114  15  68  83  93 102 115 143  62  71 150  63  79  84  86 120 139  64\n",
              " [91]  72  74  92 128 135  69  98 127 149  57  73  88 101 104 124 134 137 147\n",
              "[109]  52  75 112 116 129 133 138  55 105 111 117 148  59  76  66  78  87 109\n",
              "[127] 125 141 145 146  77 113 144  53 121 140 142  51 103 110 126 130 108 131\n",
              "[145] 106 118 119 123 136 132"
            ]
          },
          "metadata": {}
        }
      ]
    },
    {
      "cell_type": "markdown",
      "source": [
        "8. Write\ta\tcomment\tin\tyour\tR\tcode\texplaining\tthe\tdifference\tbetween\t**sort()**\tand\n",
        "**order()**.\tBe\tprepared\tto\texplain\tthis\tdifference\tto\tthe\tclass.\n"
      ],
      "metadata": {
        "id": "N5B6up5m-DQH"
      }
    },
    {
      "cell_type": "code",
      "source": [
        "# Sorts used to sort a vector by its values.\n",
        "# Order means simply orders in ascending or descending order by their index positions."
      ],
      "metadata": {
        "id": "J3zry8Ot-IgE"
      },
      "execution_count": 36,
      "outputs": []
    },
    {
      "cell_type": "markdown",
      "source": [
        "9. Now\tuse\tthe\t**order()**\tcommand\tto\treorder\tthe\twhole\tdata\tframe, and\tstore\tthe\tnew\n",
        "dataframe\tin\ta\tvariable\tcalled\t**‘sortedDF’**:\n"
      ],
      "metadata": {
        "id": "jCEbq1q_-Iqp"
      }
    },
    {
      "cell_type": "code",
      "source": [
        "index <-order(myIris$Sepal.Length,myIris$Sepal.Width,myIris$Petal.Length,myIris$Petal.Width,myIris$Species)\n",
        "sortedDF <- myIris[index,]\n",
        "sortedDF"
      ],
      "metadata": {
        "id": "I0t75QfT-QK1",
        "colab": {
          "base_uri": "https://localhost:8080/",
          "height": 2011
        },
        "outputId": "ab097a17-41f3-467b-90f9-a6e22f23f229"
      },
      "execution_count": 41,
      "outputs": [
        {
          "output_type": "display_data",
          "data": {
            "text/html": [
              "<table class=\"dataframe\">\n",
              "<caption>A data.frame: 150 × 5</caption>\n",
              "<thead>\n",
              "\t<tr><th></th><th scope=col>Sepal.Length</th><th scope=col>Sepal.Width</th><th scope=col>Petal.Length</th><th scope=col>Petal.Width</th><th scope=col>Species</th></tr>\n",
              "\t<tr><th></th><th scope=col>&lt;dbl&gt;</th><th scope=col>&lt;dbl&gt;</th><th scope=col>&lt;dbl&gt;</th><th scope=col>&lt;dbl&gt;</th><th scope=col>&lt;fct&gt;</th></tr>\n",
              "</thead>\n",
              "<tbody>\n",
              "\t<tr><th scope=row>14</th><td>4.3</td><td>3.0</td><td>1.1</td><td>0.1</td><td>setosa    </td></tr>\n",
              "\t<tr><th scope=row>9</th><td>4.4</td><td>2.9</td><td>1.4</td><td>0.2</td><td>setosa    </td></tr>\n",
              "\t<tr><th scope=row>39</th><td>4.4</td><td>3.0</td><td>1.3</td><td>0.2</td><td>setosa    </td></tr>\n",
              "\t<tr><th scope=row>43</th><td>4.4</td><td>3.2</td><td>1.3</td><td>0.2</td><td>setosa    </td></tr>\n",
              "\t<tr><th scope=row>42</th><td>4.5</td><td>2.3</td><td>1.3</td><td>0.3</td><td>setosa    </td></tr>\n",
              "\t<tr><th scope=row>4</th><td>4.6</td><td>3.1</td><td>1.5</td><td>0.2</td><td>setosa    </td></tr>\n",
              "\t<tr><th scope=row>48</th><td>4.6</td><td>3.2</td><td>1.4</td><td>0.2</td><td>setosa    </td></tr>\n",
              "\t<tr><th scope=row>7</th><td>4.6</td><td>3.4</td><td>1.4</td><td>0.3</td><td>setosa    </td></tr>\n",
              "\t<tr><th scope=row>23</th><td>4.6</td><td>3.6</td><td>1.0</td><td>0.2</td><td>setosa    </td></tr>\n",
              "\t<tr><th scope=row>3</th><td>4.7</td><td>3.2</td><td>1.3</td><td>0.2</td><td>setosa    </td></tr>\n",
              "\t<tr><th scope=row>30</th><td>4.7</td><td>3.2</td><td>1.6</td><td>0.2</td><td>setosa    </td></tr>\n",
              "\t<tr><th scope=row>13</th><td>4.8</td><td>3.0</td><td>1.4</td><td>0.1</td><td>setosa    </td></tr>\n",
              "\t<tr><th scope=row>46</th><td>4.8</td><td>3.0</td><td>1.4</td><td>0.3</td><td>setosa    </td></tr>\n",
              "\t<tr><th scope=row>31</th><td>4.8</td><td>3.1</td><td>1.6</td><td>0.2</td><td>setosa    </td></tr>\n",
              "\t<tr><th scope=row>12</th><td>4.8</td><td>3.4</td><td>1.6</td><td>0.2</td><td>setosa    </td></tr>\n",
              "\t<tr><th scope=row>25</th><td>4.8</td><td>3.4</td><td>1.9</td><td>0.2</td><td>setosa    </td></tr>\n",
              "\t<tr><th scope=row>58</th><td>4.9</td><td>2.4</td><td>3.3</td><td>1.0</td><td>versicolor</td></tr>\n",
              "\t<tr><th scope=row>107</th><td>4.9</td><td>2.5</td><td>4.5</td><td>1.7</td><td>virginica </td></tr>\n",
              "\t<tr><th scope=row>2</th><td>4.9</td><td>3.0</td><td>1.4</td><td>0.2</td><td>setosa    </td></tr>\n",
              "\t<tr><th scope=row>10</th><td>4.9</td><td>3.1</td><td>1.5</td><td>0.1</td><td>setosa    </td></tr>\n",
              "\t<tr><th scope=row>35</th><td>4.9</td><td>3.1</td><td>1.5</td><td>0.2</td><td>setosa    </td></tr>\n",
              "\t<tr><th scope=row>38</th><td>4.9</td><td>3.6</td><td>1.4</td><td>0.1</td><td>setosa    </td></tr>\n",
              "\t<tr><th scope=row>61</th><td>5.0</td><td>2.0</td><td>3.5</td><td>1.0</td><td>versicolor</td></tr>\n",
              "\t<tr><th scope=row>94</th><td>5.0</td><td>2.3</td><td>3.3</td><td>1.0</td><td>versicolor</td></tr>\n",
              "\t<tr><th scope=row>26</th><td>5.0</td><td>3.0</td><td>1.6</td><td>0.2</td><td>setosa    </td></tr>\n",
              "\t<tr><th scope=row>36</th><td>5.0</td><td>3.2</td><td>1.2</td><td>0.2</td><td>setosa    </td></tr>\n",
              "\t<tr><th scope=row>50</th><td>5.0</td><td>3.3</td><td>1.4</td><td>0.2</td><td>setosa    </td></tr>\n",
              "\t<tr><th scope=row>8</th><td>5.0</td><td>3.4</td><td>1.5</td><td>0.2</td><td>setosa    </td></tr>\n",
              "\t<tr><th scope=row>27</th><td>5.0</td><td>3.4</td><td>1.6</td><td>0.4</td><td>setosa    </td></tr>\n",
              "\t<tr><th scope=row>41</th><td>5.0</td><td>3.5</td><td>1.3</td><td>0.3</td><td>setosa    </td></tr>\n",
              "\t<tr><th scope=row>⋮</th><td>⋮</td><td>⋮</td><td>⋮</td><td>⋮</td><td>⋮</td></tr>\n",
              "\t<tr><th scope=row>59</th><td>6.6</td><td>2.9</td><td>4.6</td><td>1.3</td><td>versicolor</td></tr>\n",
              "\t<tr><th scope=row>76</th><td>6.6</td><td>3.0</td><td>4.4</td><td>1.4</td><td>versicolor</td></tr>\n",
              "\t<tr><th scope=row>109</th><td>6.7</td><td>2.5</td><td>5.8</td><td>1.8</td><td>virginica </td></tr>\n",
              "\t<tr><th scope=row>78</th><td>6.7</td><td>3.0</td><td>5.0</td><td>1.7</td><td>versicolor</td></tr>\n",
              "\t<tr><th scope=row>146</th><td>6.7</td><td>3.0</td><td>5.2</td><td>2.3</td><td>virginica </td></tr>\n",
              "\t<tr><th scope=row>66</th><td>6.7</td><td>3.1</td><td>4.4</td><td>1.4</td><td>versicolor</td></tr>\n",
              "\t<tr><th scope=row>87</th><td>6.7</td><td>3.1</td><td>4.7</td><td>1.5</td><td>versicolor</td></tr>\n",
              "\t<tr><th scope=row>141</th><td>6.7</td><td>3.1</td><td>5.6</td><td>2.4</td><td>virginica </td></tr>\n",
              "\t<tr><th scope=row>125</th><td>6.7</td><td>3.3</td><td>5.7</td><td>2.1</td><td>virginica </td></tr>\n",
              "\t<tr><th scope=row>145</th><td>6.7</td><td>3.3</td><td>5.7</td><td>2.5</td><td>virginica </td></tr>\n",
              "\t<tr><th scope=row>77</th><td>6.8</td><td>2.8</td><td>4.8</td><td>1.4</td><td>versicolor</td></tr>\n",
              "\t<tr><th scope=row>113</th><td>6.8</td><td>3.0</td><td>5.5</td><td>2.1</td><td>virginica </td></tr>\n",
              "\t<tr><th scope=row>144</th><td>6.8</td><td>3.2</td><td>5.9</td><td>2.3</td><td>virginica </td></tr>\n",
              "\t<tr><th scope=row>53</th><td>6.9</td><td>3.1</td><td>4.9</td><td>1.5</td><td>versicolor</td></tr>\n",
              "\t<tr><th scope=row>142</th><td>6.9</td><td>3.1</td><td>5.1</td><td>2.3</td><td>virginica </td></tr>\n",
              "\t<tr><th scope=row>140</th><td>6.9</td><td>3.1</td><td>5.4</td><td>2.1</td><td>virginica </td></tr>\n",
              "\t<tr><th scope=row>121</th><td>6.9</td><td>3.2</td><td>5.7</td><td>2.3</td><td>virginica </td></tr>\n",
              "\t<tr><th scope=row>51</th><td>7.0</td><td>3.2</td><td>4.7</td><td>1.4</td><td>versicolor</td></tr>\n",
              "\t<tr><th scope=row>103</th><td>7.1</td><td>3.0</td><td>5.9</td><td>2.1</td><td>virginica </td></tr>\n",
              "\t<tr><th scope=row>130</th><td>7.2</td><td>3.0</td><td>5.8</td><td>1.6</td><td>virginica </td></tr>\n",
              "\t<tr><th scope=row>126</th><td>7.2</td><td>3.2</td><td>6.0</td><td>1.8</td><td>virginica </td></tr>\n",
              "\t<tr><th scope=row>110</th><td>7.2</td><td>3.6</td><td>6.1</td><td>2.5</td><td>virginica </td></tr>\n",
              "\t<tr><th scope=row>108</th><td>7.3</td><td>2.9</td><td>6.3</td><td>1.8</td><td>virginica </td></tr>\n",
              "\t<tr><th scope=row>131</th><td>7.4</td><td>2.8</td><td>6.1</td><td>1.9</td><td>virginica </td></tr>\n",
              "\t<tr><th scope=row>106</th><td>7.6</td><td>3.0</td><td>6.6</td><td>2.1</td><td>virginica </td></tr>\n",
              "\t<tr><th scope=row>119</th><td>7.7</td><td>2.6</td><td>6.9</td><td>2.3</td><td>virginica </td></tr>\n",
              "\t<tr><th scope=row>123</th><td>7.7</td><td>2.8</td><td>6.7</td><td>2.0</td><td>virginica </td></tr>\n",
              "\t<tr><th scope=row>136</th><td>7.7</td><td>3.0</td><td>6.1</td><td>2.3</td><td>virginica </td></tr>\n",
              "\t<tr><th scope=row>118</th><td>7.7</td><td>3.8</td><td>6.7</td><td>2.2</td><td>virginica </td></tr>\n",
              "\t<tr><th scope=row>132</th><td>7.9</td><td>3.8</td><td>6.4</td><td>2.0</td><td>virginica </td></tr>\n",
              "</tbody>\n",
              "</table>\n"
            ],
            "text/markdown": "\nA data.frame: 150 × 5\n\n| <!--/--> | Sepal.Length &lt;dbl&gt; | Sepal.Width &lt;dbl&gt; | Petal.Length &lt;dbl&gt; | Petal.Width &lt;dbl&gt; | Species &lt;fct&gt; |\n|---|---|---|---|---|---|\n| 14 | 4.3 | 3.0 | 1.1 | 0.1 | setosa     |\n| 9 | 4.4 | 2.9 | 1.4 | 0.2 | setosa     |\n| 39 | 4.4 | 3.0 | 1.3 | 0.2 | setosa     |\n| 43 | 4.4 | 3.2 | 1.3 | 0.2 | setosa     |\n| 42 | 4.5 | 2.3 | 1.3 | 0.3 | setosa     |\n| 4 | 4.6 | 3.1 | 1.5 | 0.2 | setosa     |\n| 48 | 4.6 | 3.2 | 1.4 | 0.2 | setosa     |\n| 7 | 4.6 | 3.4 | 1.4 | 0.3 | setosa     |\n| 23 | 4.6 | 3.6 | 1.0 | 0.2 | setosa     |\n| 3 | 4.7 | 3.2 | 1.3 | 0.2 | setosa     |\n| 30 | 4.7 | 3.2 | 1.6 | 0.2 | setosa     |\n| 13 | 4.8 | 3.0 | 1.4 | 0.1 | setosa     |\n| 46 | 4.8 | 3.0 | 1.4 | 0.3 | setosa     |\n| 31 | 4.8 | 3.1 | 1.6 | 0.2 | setosa     |\n| 12 | 4.8 | 3.4 | 1.6 | 0.2 | setosa     |\n| 25 | 4.8 | 3.4 | 1.9 | 0.2 | setosa     |\n| 58 | 4.9 | 2.4 | 3.3 | 1.0 | versicolor |\n| 107 | 4.9 | 2.5 | 4.5 | 1.7 | virginica  |\n| 2 | 4.9 | 3.0 | 1.4 | 0.2 | setosa     |\n| 10 | 4.9 | 3.1 | 1.5 | 0.1 | setosa     |\n| 35 | 4.9 | 3.1 | 1.5 | 0.2 | setosa     |\n| 38 | 4.9 | 3.6 | 1.4 | 0.1 | setosa     |\n| 61 | 5.0 | 2.0 | 3.5 | 1.0 | versicolor |\n| 94 | 5.0 | 2.3 | 3.3 | 1.0 | versicolor |\n| 26 | 5.0 | 3.0 | 1.6 | 0.2 | setosa     |\n| 36 | 5.0 | 3.2 | 1.2 | 0.2 | setosa     |\n| 50 | 5.0 | 3.3 | 1.4 | 0.2 | setosa     |\n| 8 | 5.0 | 3.4 | 1.5 | 0.2 | setosa     |\n| 27 | 5.0 | 3.4 | 1.6 | 0.4 | setosa     |\n| 41 | 5.0 | 3.5 | 1.3 | 0.3 | setosa     |\n| ⋮ | ⋮ | ⋮ | ⋮ | ⋮ | ⋮ |\n| 59 | 6.6 | 2.9 | 4.6 | 1.3 | versicolor |\n| 76 | 6.6 | 3.0 | 4.4 | 1.4 | versicolor |\n| 109 | 6.7 | 2.5 | 5.8 | 1.8 | virginica  |\n| 78 | 6.7 | 3.0 | 5.0 | 1.7 | versicolor |\n| 146 | 6.7 | 3.0 | 5.2 | 2.3 | virginica  |\n| 66 | 6.7 | 3.1 | 4.4 | 1.4 | versicolor |\n| 87 | 6.7 | 3.1 | 4.7 | 1.5 | versicolor |\n| 141 | 6.7 | 3.1 | 5.6 | 2.4 | virginica  |\n| 125 | 6.7 | 3.3 | 5.7 | 2.1 | virginica  |\n| 145 | 6.7 | 3.3 | 5.7 | 2.5 | virginica  |\n| 77 | 6.8 | 2.8 | 4.8 | 1.4 | versicolor |\n| 113 | 6.8 | 3.0 | 5.5 | 2.1 | virginica  |\n| 144 | 6.8 | 3.2 | 5.9 | 2.3 | virginica  |\n| 53 | 6.9 | 3.1 | 4.9 | 1.5 | versicolor |\n| 142 | 6.9 | 3.1 | 5.1 | 2.3 | virginica  |\n| 140 | 6.9 | 3.1 | 5.4 | 2.1 | virginica  |\n| 121 | 6.9 | 3.2 | 5.7 | 2.3 | virginica  |\n| 51 | 7.0 | 3.2 | 4.7 | 1.4 | versicolor |\n| 103 | 7.1 | 3.0 | 5.9 | 2.1 | virginica  |\n| 130 | 7.2 | 3.0 | 5.8 | 1.6 | virginica  |\n| 126 | 7.2 | 3.2 | 6.0 | 1.8 | virginica  |\n| 110 | 7.2 | 3.6 | 6.1 | 2.5 | virginica  |\n| 108 | 7.3 | 2.9 | 6.3 | 1.8 | virginica  |\n| 131 | 7.4 | 2.8 | 6.1 | 1.9 | virginica  |\n| 106 | 7.6 | 3.0 | 6.6 | 2.1 | virginica  |\n| 119 | 7.7 | 2.6 | 6.9 | 2.3 | virginica  |\n| 123 | 7.7 | 2.8 | 6.7 | 2.0 | virginica  |\n| 136 | 7.7 | 3.0 | 6.1 | 2.3 | virginica  |\n| 118 | 7.7 | 3.8 | 6.7 | 2.2 | virginica  |\n| 132 | 7.9 | 3.8 | 6.4 | 2.0 | virginica  |\n\n",
            "text/latex": "A data.frame: 150 × 5\n\\begin{tabular}{r|lllll}\n  & Sepal.Length & Sepal.Width & Petal.Length & Petal.Width & Species\\\\\n  & <dbl> & <dbl> & <dbl> & <dbl> & <fct>\\\\\n\\hline\n\t14 & 4.3 & 3.0 & 1.1 & 0.1 & setosa    \\\\\n\t9 & 4.4 & 2.9 & 1.4 & 0.2 & setosa    \\\\\n\t39 & 4.4 & 3.0 & 1.3 & 0.2 & setosa    \\\\\n\t43 & 4.4 & 3.2 & 1.3 & 0.2 & setosa    \\\\\n\t42 & 4.5 & 2.3 & 1.3 & 0.3 & setosa    \\\\\n\t4 & 4.6 & 3.1 & 1.5 & 0.2 & setosa    \\\\\n\t48 & 4.6 & 3.2 & 1.4 & 0.2 & setosa    \\\\\n\t7 & 4.6 & 3.4 & 1.4 & 0.3 & setosa    \\\\\n\t23 & 4.6 & 3.6 & 1.0 & 0.2 & setosa    \\\\\n\t3 & 4.7 & 3.2 & 1.3 & 0.2 & setosa    \\\\\n\t30 & 4.7 & 3.2 & 1.6 & 0.2 & setosa    \\\\\n\t13 & 4.8 & 3.0 & 1.4 & 0.1 & setosa    \\\\\n\t46 & 4.8 & 3.0 & 1.4 & 0.3 & setosa    \\\\\n\t31 & 4.8 & 3.1 & 1.6 & 0.2 & setosa    \\\\\n\t12 & 4.8 & 3.4 & 1.6 & 0.2 & setosa    \\\\\n\t25 & 4.8 & 3.4 & 1.9 & 0.2 & setosa    \\\\\n\t58 & 4.9 & 2.4 & 3.3 & 1.0 & versicolor\\\\\n\t107 & 4.9 & 2.5 & 4.5 & 1.7 & virginica \\\\\n\t2 & 4.9 & 3.0 & 1.4 & 0.2 & setosa    \\\\\n\t10 & 4.9 & 3.1 & 1.5 & 0.1 & setosa    \\\\\n\t35 & 4.9 & 3.1 & 1.5 & 0.2 & setosa    \\\\\n\t38 & 4.9 & 3.6 & 1.4 & 0.1 & setosa    \\\\\n\t61 & 5.0 & 2.0 & 3.5 & 1.0 & versicolor\\\\\n\t94 & 5.0 & 2.3 & 3.3 & 1.0 & versicolor\\\\\n\t26 & 5.0 & 3.0 & 1.6 & 0.2 & setosa    \\\\\n\t36 & 5.0 & 3.2 & 1.2 & 0.2 & setosa    \\\\\n\t50 & 5.0 & 3.3 & 1.4 & 0.2 & setosa    \\\\\n\t8 & 5.0 & 3.4 & 1.5 & 0.2 & setosa    \\\\\n\t27 & 5.0 & 3.4 & 1.6 & 0.4 & setosa    \\\\\n\t41 & 5.0 & 3.5 & 1.3 & 0.3 & setosa    \\\\\n\t⋮ & ⋮ & ⋮ & ⋮ & ⋮ & ⋮\\\\\n\t59 & 6.6 & 2.9 & 4.6 & 1.3 & versicolor\\\\\n\t76 & 6.6 & 3.0 & 4.4 & 1.4 & versicolor\\\\\n\t109 & 6.7 & 2.5 & 5.8 & 1.8 & virginica \\\\\n\t78 & 6.7 & 3.0 & 5.0 & 1.7 & versicolor\\\\\n\t146 & 6.7 & 3.0 & 5.2 & 2.3 & virginica \\\\\n\t66 & 6.7 & 3.1 & 4.4 & 1.4 & versicolor\\\\\n\t87 & 6.7 & 3.1 & 4.7 & 1.5 & versicolor\\\\\n\t141 & 6.7 & 3.1 & 5.6 & 2.4 & virginica \\\\\n\t125 & 6.7 & 3.3 & 5.7 & 2.1 & virginica \\\\\n\t145 & 6.7 & 3.3 & 5.7 & 2.5 & virginica \\\\\n\t77 & 6.8 & 2.8 & 4.8 & 1.4 & versicolor\\\\\n\t113 & 6.8 & 3.0 & 5.5 & 2.1 & virginica \\\\\n\t144 & 6.8 & 3.2 & 5.9 & 2.3 & virginica \\\\\n\t53 & 6.9 & 3.1 & 4.9 & 1.5 & versicolor\\\\\n\t142 & 6.9 & 3.1 & 5.1 & 2.3 & virginica \\\\\n\t140 & 6.9 & 3.1 & 5.4 & 2.1 & virginica \\\\\n\t121 & 6.9 & 3.2 & 5.7 & 2.3 & virginica \\\\\n\t51 & 7.0 & 3.2 & 4.7 & 1.4 & versicolor\\\\\n\t103 & 7.1 & 3.0 & 5.9 & 2.1 & virginica \\\\\n\t130 & 7.2 & 3.0 & 5.8 & 1.6 & virginica \\\\\n\t126 & 7.2 & 3.2 & 6.0 & 1.8 & virginica \\\\\n\t110 & 7.2 & 3.6 & 6.1 & 2.5 & virginica \\\\\n\t108 & 7.3 & 2.9 & 6.3 & 1.8 & virginica \\\\\n\t131 & 7.4 & 2.8 & 6.1 & 1.9 & virginica \\\\\n\t106 & 7.6 & 3.0 & 6.6 & 2.1 & virginica \\\\\n\t119 & 7.7 & 2.6 & 6.9 & 2.3 & virginica \\\\\n\t123 & 7.7 & 2.8 & 6.7 & 2.0 & virginica \\\\\n\t136 & 7.7 & 3.0 & 6.1 & 2.3 & virginica \\\\\n\t118 & 7.7 & 3.8 & 6.7 & 2.2 & virginica \\\\\n\t132 & 7.9 & 3.8 & 6.4 & 2.0 & virginica \\\\\n\\end{tabular}\n",
            "text/plain": [
              "    Sepal.Length Sepal.Width Petal.Length Petal.Width Species   \n",
              "14  4.3          3.0         1.1          0.1         setosa    \n",
              "9   4.4          2.9         1.4          0.2         setosa    \n",
              "39  4.4          3.0         1.3          0.2         setosa    \n",
              "43  4.4          3.2         1.3          0.2         setosa    \n",
              "42  4.5          2.3         1.3          0.3         setosa    \n",
              "4   4.6          3.1         1.5          0.2         setosa    \n",
              "48  4.6          3.2         1.4          0.2         setosa    \n",
              "7   4.6          3.4         1.4          0.3         setosa    \n",
              "23  4.6          3.6         1.0          0.2         setosa    \n",
              "3   4.7          3.2         1.3          0.2         setosa    \n",
              "30  4.7          3.2         1.6          0.2         setosa    \n",
              "13  4.8          3.0         1.4          0.1         setosa    \n",
              "46  4.8          3.0         1.4          0.3         setosa    \n",
              "31  4.8          3.1         1.6          0.2         setosa    \n",
              "12  4.8          3.4         1.6          0.2         setosa    \n",
              "25  4.8          3.4         1.9          0.2         setosa    \n",
              "58  4.9          2.4         3.3          1.0         versicolor\n",
              "107 4.9          2.5         4.5          1.7         virginica \n",
              "2   4.9          3.0         1.4          0.2         setosa    \n",
              "10  4.9          3.1         1.5          0.1         setosa    \n",
              "35  4.9          3.1         1.5          0.2         setosa    \n",
              "38  4.9          3.6         1.4          0.1         setosa    \n",
              "61  5.0          2.0         3.5          1.0         versicolor\n",
              "94  5.0          2.3         3.3          1.0         versicolor\n",
              "26  5.0          3.0         1.6          0.2         setosa    \n",
              "36  5.0          3.2         1.2          0.2         setosa    \n",
              "50  5.0          3.3         1.4          0.2         setosa    \n",
              "8   5.0          3.4         1.5          0.2         setosa    \n",
              "27  5.0          3.4         1.6          0.4         setosa    \n",
              "41  5.0          3.5         1.3          0.3         setosa    \n",
              "⋮   ⋮            ⋮           ⋮            ⋮           ⋮         \n",
              "59  6.6          2.9         4.6          1.3         versicolor\n",
              "76  6.6          3.0         4.4          1.4         versicolor\n",
              "109 6.7          2.5         5.8          1.8         virginica \n",
              "78  6.7          3.0         5.0          1.7         versicolor\n",
              "146 6.7          3.0         5.2          2.3         virginica \n",
              "66  6.7          3.1         4.4          1.4         versicolor\n",
              "87  6.7          3.1         4.7          1.5         versicolor\n",
              "141 6.7          3.1         5.6          2.4         virginica \n",
              "125 6.7          3.3         5.7          2.1         virginica \n",
              "145 6.7          3.3         5.7          2.5         virginica \n",
              "77  6.8          2.8         4.8          1.4         versicolor\n",
              "113 6.8          3.0         5.5          2.1         virginica \n",
              "144 6.8          3.2         5.9          2.3         virginica \n",
              "53  6.9          3.1         4.9          1.5         versicolor\n",
              "142 6.9          3.1         5.1          2.3         virginica \n",
              "140 6.9          3.1         5.4          2.1         virginica \n",
              "121 6.9          3.2         5.7          2.3         virginica \n",
              "51  7.0          3.2         4.7          1.4         versicolor\n",
              "103 7.1          3.0         5.9          2.1         virginica \n",
              "130 7.2          3.0         5.8          1.6         virginica \n",
              "126 7.2          3.2         6.0          1.8         virginica \n",
              "110 7.2          3.6         6.1          2.5         virginica \n",
              "108 7.3          2.9         6.3          1.8         virginica \n",
              "131 7.4          2.8         6.1          1.9         virginica \n",
              "106 7.6          3.0         6.6          2.1         virginica \n",
              "119 7.7          2.6         6.9          2.3         virginica \n",
              "123 7.7          2.8         6.7          2.0         virginica \n",
              "136 7.7          3.0         6.1          2.3         virginica \n",
              "118 7.7          3.8         6.7          2.2         virginica \n",
              "132 7.9          3.8         6.4          2.0         virginica "
            ]
          },
          "metadata": {}
        }
      ]
    },
    {
      "cell_type": "markdown",
      "source": [
        "10. Now\tsort\tthe\tdataframe\tusing\t**arrange()**,\twhich\tis\tpart\tof\tthe\t**tidyverse**\tpackage.\n",
        "This\ttime,\tsort\tbased\tthe attribute\twith\tthe\tlowest mean.\tStore\tthe\tnew\n",
        "dataframe\tin\ta\tvariable\tcalled\t**‘sortedDF1’**\n"
      ],
      "metadata": {
        "id": "_dDD1XtV-RgO"
      }
    },
    {
      "cell_type": "code",
      "source": [
        "sortedDF1<-myIris%>%\n",
        "arrange(myIris$Petal.Width)\n",
        "glimpse(sortedDF1)"
      ],
      "metadata": {
        "id": "JQuOYbyF-YZq",
        "colab": {
          "base_uri": "https://localhost:8080/",
          "height": 0
        },
        "outputId": "d6d4fdca-62fd-42dd-8920-57b9b0f9b32d"
      },
      "execution_count": 45,
      "outputs": [
        {
          "output_type": "stream",
          "name": "stdout",
          "text": [
            "Rows: 150\n",
            "Columns: 5\n",
            "$ Sepal.Length \u001b[3m\u001b[90m<dbl>\u001b[39m\u001b[23m 4.9, 4.8, 4.3, 5.2, 4.9, 5.1, 4.9, 4.7, 4.6, 5.0, 5.0, 4.…\n",
            "$ Sepal.Width  \u001b[3m\u001b[90m<dbl>\u001b[39m\u001b[23m 3.1, 3.0, 3.0, 4.1, 3.6, 3.5, 3.0, 3.2, 3.1, 3.6, 3.4, 2.…\n",
            "$ Petal.Length \u001b[3m\u001b[90m<dbl>\u001b[39m\u001b[23m 1.5, 1.4, 1.1, 1.5, 1.4, 1.4, 1.4, 1.3, 1.5, 1.4, 1.5, 1.…\n",
            "$ Petal.Width  \u001b[3m\u001b[90m<dbl>\u001b[39m\u001b[23m 0.1, 0.1, 0.1, 0.1, 0.1, 0.2, 0.2, 0.2, 0.2, 0.2, 0.2, 0.…\n",
            "$ Species      \u001b[3m\u001b[90m<fct>\u001b[39m\u001b[23m setosa, setosa, setosa, setosa, setosa, setosa, setosa, s…\n"
          ]
        }
      ]
    },
    {
      "cell_type": "code",
      "source": [
        "sortedDF1"
      ],
      "metadata": {
        "colab": {
          "base_uri": "https://localhost:8080/",
          "height": 2011
        },
        "id": "ouT_cMdCqfg3",
        "outputId": "e295704b-9f98-406b-e848-6cb6fc6cfd0b"
      },
      "execution_count": 46,
      "outputs": [
        {
          "output_type": "display_data",
          "data": {
            "text/html": [
              "<table class=\"dataframe\">\n",
              "<caption>A data.frame: 150 × 5</caption>\n",
              "<thead>\n",
              "\t<tr><th scope=col>Sepal.Length</th><th scope=col>Sepal.Width</th><th scope=col>Petal.Length</th><th scope=col>Petal.Width</th><th scope=col>Species</th></tr>\n",
              "\t<tr><th scope=col>&lt;dbl&gt;</th><th scope=col>&lt;dbl&gt;</th><th scope=col>&lt;dbl&gt;</th><th scope=col>&lt;dbl&gt;</th><th scope=col>&lt;fct&gt;</th></tr>\n",
              "</thead>\n",
              "<tbody>\n",
              "\t<tr><td>4.9</td><td>3.1</td><td>1.5</td><td>0.1</td><td>setosa</td></tr>\n",
              "\t<tr><td>4.8</td><td>3.0</td><td>1.4</td><td>0.1</td><td>setosa</td></tr>\n",
              "\t<tr><td>4.3</td><td>3.0</td><td>1.1</td><td>0.1</td><td>setosa</td></tr>\n",
              "\t<tr><td>5.2</td><td>4.1</td><td>1.5</td><td>0.1</td><td>setosa</td></tr>\n",
              "\t<tr><td>4.9</td><td>3.6</td><td>1.4</td><td>0.1</td><td>setosa</td></tr>\n",
              "\t<tr><td>5.1</td><td>3.5</td><td>1.4</td><td>0.2</td><td>setosa</td></tr>\n",
              "\t<tr><td>4.9</td><td>3.0</td><td>1.4</td><td>0.2</td><td>setosa</td></tr>\n",
              "\t<tr><td>4.7</td><td>3.2</td><td>1.3</td><td>0.2</td><td>setosa</td></tr>\n",
              "\t<tr><td>4.6</td><td>3.1</td><td>1.5</td><td>0.2</td><td>setosa</td></tr>\n",
              "\t<tr><td>5.0</td><td>3.6</td><td>1.4</td><td>0.2</td><td>setosa</td></tr>\n",
              "\t<tr><td>5.0</td><td>3.4</td><td>1.5</td><td>0.2</td><td>setosa</td></tr>\n",
              "\t<tr><td>4.4</td><td>2.9</td><td>1.4</td><td>0.2</td><td>setosa</td></tr>\n",
              "\t<tr><td>5.4</td><td>3.7</td><td>1.5</td><td>0.2</td><td>setosa</td></tr>\n",
              "\t<tr><td>4.8</td><td>3.4</td><td>1.6</td><td>0.2</td><td>setosa</td></tr>\n",
              "\t<tr><td>5.8</td><td>4.0</td><td>1.2</td><td>0.2</td><td>setosa</td></tr>\n",
              "\t<tr><td>5.4</td><td>3.4</td><td>1.7</td><td>0.2</td><td>setosa</td></tr>\n",
              "\t<tr><td>4.6</td><td>3.6</td><td>1.0</td><td>0.2</td><td>setosa</td></tr>\n",
              "\t<tr><td>4.8</td><td>3.4</td><td>1.9</td><td>0.2</td><td>setosa</td></tr>\n",
              "\t<tr><td>5.0</td><td>3.0</td><td>1.6</td><td>0.2</td><td>setosa</td></tr>\n",
              "\t<tr><td>5.2</td><td>3.5</td><td>1.5</td><td>0.2</td><td>setosa</td></tr>\n",
              "\t<tr><td>5.2</td><td>3.4</td><td>1.4</td><td>0.2</td><td>setosa</td></tr>\n",
              "\t<tr><td>4.7</td><td>3.2</td><td>1.6</td><td>0.2</td><td>setosa</td></tr>\n",
              "\t<tr><td>4.8</td><td>3.1</td><td>1.6</td><td>0.2</td><td>setosa</td></tr>\n",
              "\t<tr><td>5.5</td><td>4.2</td><td>1.4</td><td>0.2</td><td>setosa</td></tr>\n",
              "\t<tr><td>4.9</td><td>3.1</td><td>1.5</td><td>0.2</td><td>setosa</td></tr>\n",
              "\t<tr><td>5.0</td><td>3.2</td><td>1.2</td><td>0.2</td><td>setosa</td></tr>\n",
              "\t<tr><td>5.5</td><td>3.5</td><td>1.3</td><td>0.2</td><td>setosa</td></tr>\n",
              "\t<tr><td>4.4</td><td>3.0</td><td>1.3</td><td>0.2</td><td>setosa</td></tr>\n",
              "\t<tr><td>5.1</td><td>3.4</td><td>1.5</td><td>0.2</td><td>setosa</td></tr>\n",
              "\t<tr><td>4.4</td><td>3.2</td><td>1.3</td><td>0.2</td><td>setosa</td></tr>\n",
              "\t<tr><td>⋮</td><td>⋮</td><td>⋮</td><td>⋮</td><td>⋮</td></tr>\n",
              "\t<tr><td>6.3</td><td>2.5</td><td>5.0</td><td>1.9</td><td>virginica</td></tr>\n",
              "\t<tr><td>6.5</td><td>3.2</td><td>5.1</td><td>2.0</td><td>virginica</td></tr>\n",
              "\t<tr><td>5.7</td><td>2.5</td><td>5.0</td><td>2.0</td><td>virginica</td></tr>\n",
              "\t<tr><td>5.6</td><td>2.8</td><td>4.9</td><td>2.0</td><td>virginica</td></tr>\n",
              "\t<tr><td>7.7</td><td>2.8</td><td>6.7</td><td>2.0</td><td>virginica</td></tr>\n",
              "\t<tr><td>7.9</td><td>3.8</td><td>6.4</td><td>2.0</td><td>virginica</td></tr>\n",
              "\t<tr><td>6.5</td><td>3.0</td><td>5.2</td><td>2.0</td><td>virginica</td></tr>\n",
              "\t<tr><td>7.1</td><td>3.0</td><td>5.9</td><td>2.1</td><td>virginica</td></tr>\n",
              "\t<tr><td>7.6</td><td>3.0</td><td>6.6</td><td>2.1</td><td>virginica</td></tr>\n",
              "\t<tr><td>6.8</td><td>3.0</td><td>5.5</td><td>2.1</td><td>virginica</td></tr>\n",
              "\t<tr><td>6.7</td><td>3.3</td><td>5.7</td><td>2.1</td><td>virginica</td></tr>\n",
              "\t<tr><td>6.4</td><td>2.8</td><td>5.6</td><td>2.1</td><td>virginica</td></tr>\n",
              "\t<tr><td>6.9</td><td>3.1</td><td>5.4</td><td>2.1</td><td>virginica</td></tr>\n",
              "\t<tr><td>6.5</td><td>3.0</td><td>5.8</td><td>2.2</td><td>virginica</td></tr>\n",
              "\t<tr><td>7.7</td><td>3.8</td><td>6.7</td><td>2.2</td><td>virginica</td></tr>\n",
              "\t<tr><td>6.4</td><td>2.8</td><td>5.6</td><td>2.2</td><td>virginica</td></tr>\n",
              "\t<tr><td>6.4</td><td>3.2</td><td>5.3</td><td>2.3</td><td>virginica</td></tr>\n",
              "\t<tr><td>7.7</td><td>2.6</td><td>6.9</td><td>2.3</td><td>virginica</td></tr>\n",
              "\t<tr><td>6.9</td><td>3.2</td><td>5.7</td><td>2.3</td><td>virginica</td></tr>\n",
              "\t<tr><td>7.7</td><td>3.0</td><td>6.1</td><td>2.3</td><td>virginica</td></tr>\n",
              "\t<tr><td>6.9</td><td>3.1</td><td>5.1</td><td>2.3</td><td>virginica</td></tr>\n",
              "\t<tr><td>6.8</td><td>3.2</td><td>5.9</td><td>2.3</td><td>virginica</td></tr>\n",
              "\t<tr><td>6.7</td><td>3.0</td><td>5.2</td><td>2.3</td><td>virginica</td></tr>\n",
              "\t<tr><td>6.2</td><td>3.4</td><td>5.4</td><td>2.3</td><td>virginica</td></tr>\n",
              "\t<tr><td>5.8</td><td>2.8</td><td>5.1</td><td>2.4</td><td>virginica</td></tr>\n",
              "\t<tr><td>6.3</td><td>3.4</td><td>5.6</td><td>2.4</td><td>virginica</td></tr>\n",
              "\t<tr><td>6.7</td><td>3.1</td><td>5.6</td><td>2.4</td><td>virginica</td></tr>\n",
              "\t<tr><td>6.3</td><td>3.3</td><td>6.0</td><td>2.5</td><td>virginica</td></tr>\n",
              "\t<tr><td>7.2</td><td>3.6</td><td>6.1</td><td>2.5</td><td>virginica</td></tr>\n",
              "\t<tr><td>6.7</td><td>3.3</td><td>5.7</td><td>2.5</td><td>virginica</td></tr>\n",
              "</tbody>\n",
              "</table>\n"
            ],
            "text/markdown": "\nA data.frame: 150 × 5\n\n| Sepal.Length &lt;dbl&gt; | Sepal.Width &lt;dbl&gt; | Petal.Length &lt;dbl&gt; | Petal.Width &lt;dbl&gt; | Species &lt;fct&gt; |\n|---|---|---|---|---|\n| 4.9 | 3.1 | 1.5 | 0.1 | setosa |\n| 4.8 | 3.0 | 1.4 | 0.1 | setosa |\n| 4.3 | 3.0 | 1.1 | 0.1 | setosa |\n| 5.2 | 4.1 | 1.5 | 0.1 | setosa |\n| 4.9 | 3.6 | 1.4 | 0.1 | setosa |\n| 5.1 | 3.5 | 1.4 | 0.2 | setosa |\n| 4.9 | 3.0 | 1.4 | 0.2 | setosa |\n| 4.7 | 3.2 | 1.3 | 0.2 | setosa |\n| 4.6 | 3.1 | 1.5 | 0.2 | setosa |\n| 5.0 | 3.6 | 1.4 | 0.2 | setosa |\n| 5.0 | 3.4 | 1.5 | 0.2 | setosa |\n| 4.4 | 2.9 | 1.4 | 0.2 | setosa |\n| 5.4 | 3.7 | 1.5 | 0.2 | setosa |\n| 4.8 | 3.4 | 1.6 | 0.2 | setosa |\n| 5.8 | 4.0 | 1.2 | 0.2 | setosa |\n| 5.4 | 3.4 | 1.7 | 0.2 | setosa |\n| 4.6 | 3.6 | 1.0 | 0.2 | setosa |\n| 4.8 | 3.4 | 1.9 | 0.2 | setosa |\n| 5.0 | 3.0 | 1.6 | 0.2 | setosa |\n| 5.2 | 3.5 | 1.5 | 0.2 | setosa |\n| 5.2 | 3.4 | 1.4 | 0.2 | setosa |\n| 4.7 | 3.2 | 1.6 | 0.2 | setosa |\n| 4.8 | 3.1 | 1.6 | 0.2 | setosa |\n| 5.5 | 4.2 | 1.4 | 0.2 | setosa |\n| 4.9 | 3.1 | 1.5 | 0.2 | setosa |\n| 5.0 | 3.2 | 1.2 | 0.2 | setosa |\n| 5.5 | 3.5 | 1.3 | 0.2 | setosa |\n| 4.4 | 3.0 | 1.3 | 0.2 | setosa |\n| 5.1 | 3.4 | 1.5 | 0.2 | setosa |\n| 4.4 | 3.2 | 1.3 | 0.2 | setosa |\n| ⋮ | ⋮ | ⋮ | ⋮ | ⋮ |\n| 6.3 | 2.5 | 5.0 | 1.9 | virginica |\n| 6.5 | 3.2 | 5.1 | 2.0 | virginica |\n| 5.7 | 2.5 | 5.0 | 2.0 | virginica |\n| 5.6 | 2.8 | 4.9 | 2.0 | virginica |\n| 7.7 | 2.8 | 6.7 | 2.0 | virginica |\n| 7.9 | 3.8 | 6.4 | 2.0 | virginica |\n| 6.5 | 3.0 | 5.2 | 2.0 | virginica |\n| 7.1 | 3.0 | 5.9 | 2.1 | virginica |\n| 7.6 | 3.0 | 6.6 | 2.1 | virginica |\n| 6.8 | 3.0 | 5.5 | 2.1 | virginica |\n| 6.7 | 3.3 | 5.7 | 2.1 | virginica |\n| 6.4 | 2.8 | 5.6 | 2.1 | virginica |\n| 6.9 | 3.1 | 5.4 | 2.1 | virginica |\n| 6.5 | 3.0 | 5.8 | 2.2 | virginica |\n| 7.7 | 3.8 | 6.7 | 2.2 | virginica |\n| 6.4 | 2.8 | 5.6 | 2.2 | virginica |\n| 6.4 | 3.2 | 5.3 | 2.3 | virginica |\n| 7.7 | 2.6 | 6.9 | 2.3 | virginica |\n| 6.9 | 3.2 | 5.7 | 2.3 | virginica |\n| 7.7 | 3.0 | 6.1 | 2.3 | virginica |\n| 6.9 | 3.1 | 5.1 | 2.3 | virginica |\n| 6.8 | 3.2 | 5.9 | 2.3 | virginica |\n| 6.7 | 3.0 | 5.2 | 2.3 | virginica |\n| 6.2 | 3.4 | 5.4 | 2.3 | virginica |\n| 5.8 | 2.8 | 5.1 | 2.4 | virginica |\n| 6.3 | 3.4 | 5.6 | 2.4 | virginica |\n| 6.7 | 3.1 | 5.6 | 2.4 | virginica |\n| 6.3 | 3.3 | 6.0 | 2.5 | virginica |\n| 7.2 | 3.6 | 6.1 | 2.5 | virginica |\n| 6.7 | 3.3 | 5.7 | 2.5 | virginica |\n\n",
            "text/latex": "A data.frame: 150 × 5\n\\begin{tabular}{lllll}\n Sepal.Length & Sepal.Width & Petal.Length & Petal.Width & Species\\\\\n <dbl> & <dbl> & <dbl> & <dbl> & <fct>\\\\\n\\hline\n\t 4.9 & 3.1 & 1.5 & 0.1 & setosa\\\\\n\t 4.8 & 3.0 & 1.4 & 0.1 & setosa\\\\\n\t 4.3 & 3.0 & 1.1 & 0.1 & setosa\\\\\n\t 5.2 & 4.1 & 1.5 & 0.1 & setosa\\\\\n\t 4.9 & 3.6 & 1.4 & 0.1 & setosa\\\\\n\t 5.1 & 3.5 & 1.4 & 0.2 & setosa\\\\\n\t 4.9 & 3.0 & 1.4 & 0.2 & setosa\\\\\n\t 4.7 & 3.2 & 1.3 & 0.2 & setosa\\\\\n\t 4.6 & 3.1 & 1.5 & 0.2 & setosa\\\\\n\t 5.0 & 3.6 & 1.4 & 0.2 & setosa\\\\\n\t 5.0 & 3.4 & 1.5 & 0.2 & setosa\\\\\n\t 4.4 & 2.9 & 1.4 & 0.2 & setosa\\\\\n\t 5.4 & 3.7 & 1.5 & 0.2 & setosa\\\\\n\t 4.8 & 3.4 & 1.6 & 0.2 & setosa\\\\\n\t 5.8 & 4.0 & 1.2 & 0.2 & setosa\\\\\n\t 5.4 & 3.4 & 1.7 & 0.2 & setosa\\\\\n\t 4.6 & 3.6 & 1.0 & 0.2 & setosa\\\\\n\t 4.8 & 3.4 & 1.9 & 0.2 & setosa\\\\\n\t 5.0 & 3.0 & 1.6 & 0.2 & setosa\\\\\n\t 5.2 & 3.5 & 1.5 & 0.2 & setosa\\\\\n\t 5.2 & 3.4 & 1.4 & 0.2 & setosa\\\\\n\t 4.7 & 3.2 & 1.6 & 0.2 & setosa\\\\\n\t 4.8 & 3.1 & 1.6 & 0.2 & setosa\\\\\n\t 5.5 & 4.2 & 1.4 & 0.2 & setosa\\\\\n\t 4.9 & 3.1 & 1.5 & 0.2 & setosa\\\\\n\t 5.0 & 3.2 & 1.2 & 0.2 & setosa\\\\\n\t 5.5 & 3.5 & 1.3 & 0.2 & setosa\\\\\n\t 4.4 & 3.0 & 1.3 & 0.2 & setosa\\\\\n\t 5.1 & 3.4 & 1.5 & 0.2 & setosa\\\\\n\t 4.4 & 3.2 & 1.3 & 0.2 & setosa\\\\\n\t ⋮ & ⋮ & ⋮ & ⋮ & ⋮\\\\\n\t 6.3 & 2.5 & 5.0 & 1.9 & virginica\\\\\n\t 6.5 & 3.2 & 5.1 & 2.0 & virginica\\\\\n\t 5.7 & 2.5 & 5.0 & 2.0 & virginica\\\\\n\t 5.6 & 2.8 & 4.9 & 2.0 & virginica\\\\\n\t 7.7 & 2.8 & 6.7 & 2.0 & virginica\\\\\n\t 7.9 & 3.8 & 6.4 & 2.0 & virginica\\\\\n\t 6.5 & 3.0 & 5.2 & 2.0 & virginica\\\\\n\t 7.1 & 3.0 & 5.9 & 2.1 & virginica\\\\\n\t 7.6 & 3.0 & 6.6 & 2.1 & virginica\\\\\n\t 6.8 & 3.0 & 5.5 & 2.1 & virginica\\\\\n\t 6.7 & 3.3 & 5.7 & 2.1 & virginica\\\\\n\t 6.4 & 2.8 & 5.6 & 2.1 & virginica\\\\\n\t 6.9 & 3.1 & 5.4 & 2.1 & virginica\\\\\n\t 6.5 & 3.0 & 5.8 & 2.2 & virginica\\\\\n\t 7.7 & 3.8 & 6.7 & 2.2 & virginica\\\\\n\t 6.4 & 2.8 & 5.6 & 2.2 & virginica\\\\\n\t 6.4 & 3.2 & 5.3 & 2.3 & virginica\\\\\n\t 7.7 & 2.6 & 6.9 & 2.3 & virginica\\\\\n\t 6.9 & 3.2 & 5.7 & 2.3 & virginica\\\\\n\t 7.7 & 3.0 & 6.1 & 2.3 & virginica\\\\\n\t 6.9 & 3.1 & 5.1 & 2.3 & virginica\\\\\n\t 6.8 & 3.2 & 5.9 & 2.3 & virginica\\\\\n\t 6.7 & 3.0 & 5.2 & 2.3 & virginica\\\\\n\t 6.2 & 3.4 & 5.4 & 2.3 & virginica\\\\\n\t 5.8 & 2.8 & 5.1 & 2.4 & virginica\\\\\n\t 6.3 & 3.4 & 5.6 & 2.4 & virginica\\\\\n\t 6.7 & 3.1 & 5.6 & 2.4 & virginica\\\\\n\t 6.3 & 3.3 & 6.0 & 2.5 & virginica\\\\\n\t 7.2 & 3.6 & 6.1 & 2.5 & virginica\\\\\n\t 6.7 & 3.3 & 5.7 & 2.5 & virginica\\\\\n\\end{tabular}\n",
            "text/plain": [
              "    Sepal.Length Sepal.Width Petal.Length Petal.Width Species  \n",
              "1   4.9          3.1         1.5          0.1         setosa   \n",
              "2   4.8          3.0         1.4          0.1         setosa   \n",
              "3   4.3          3.0         1.1          0.1         setosa   \n",
              "4   5.2          4.1         1.5          0.1         setosa   \n",
              "5   4.9          3.6         1.4          0.1         setosa   \n",
              "6   5.1          3.5         1.4          0.2         setosa   \n",
              "7   4.9          3.0         1.4          0.2         setosa   \n",
              "8   4.7          3.2         1.3          0.2         setosa   \n",
              "9   4.6          3.1         1.5          0.2         setosa   \n",
              "10  5.0          3.6         1.4          0.2         setosa   \n",
              "11  5.0          3.4         1.5          0.2         setosa   \n",
              "12  4.4          2.9         1.4          0.2         setosa   \n",
              "13  5.4          3.7         1.5          0.2         setosa   \n",
              "14  4.8          3.4         1.6          0.2         setosa   \n",
              "15  5.8          4.0         1.2          0.2         setosa   \n",
              "16  5.4          3.4         1.7          0.2         setosa   \n",
              "17  4.6          3.6         1.0          0.2         setosa   \n",
              "18  4.8          3.4         1.9          0.2         setosa   \n",
              "19  5.0          3.0         1.6          0.2         setosa   \n",
              "20  5.2          3.5         1.5          0.2         setosa   \n",
              "21  5.2          3.4         1.4          0.2         setosa   \n",
              "22  4.7          3.2         1.6          0.2         setosa   \n",
              "23  4.8          3.1         1.6          0.2         setosa   \n",
              "24  5.5          4.2         1.4          0.2         setosa   \n",
              "25  4.9          3.1         1.5          0.2         setosa   \n",
              "26  5.0          3.2         1.2          0.2         setosa   \n",
              "27  5.5          3.5         1.3          0.2         setosa   \n",
              "28  4.4          3.0         1.3          0.2         setosa   \n",
              "29  5.1          3.4         1.5          0.2         setosa   \n",
              "30  4.4          3.2         1.3          0.2         setosa   \n",
              "⋮   ⋮            ⋮           ⋮            ⋮           ⋮        \n",
              "121 6.3          2.5         5.0          1.9         virginica\n",
              "122 6.5          3.2         5.1          2.0         virginica\n",
              "123 5.7          2.5         5.0          2.0         virginica\n",
              "124 5.6          2.8         4.9          2.0         virginica\n",
              "125 7.7          2.8         6.7          2.0         virginica\n",
              "126 7.9          3.8         6.4          2.0         virginica\n",
              "127 6.5          3.0         5.2          2.0         virginica\n",
              "128 7.1          3.0         5.9          2.1         virginica\n",
              "129 7.6          3.0         6.6          2.1         virginica\n",
              "130 6.8          3.0         5.5          2.1         virginica\n",
              "131 6.7          3.3         5.7          2.1         virginica\n",
              "132 6.4          2.8         5.6          2.1         virginica\n",
              "133 6.9          3.1         5.4          2.1         virginica\n",
              "134 6.5          3.0         5.8          2.2         virginica\n",
              "135 7.7          3.8         6.7          2.2         virginica\n",
              "136 6.4          2.8         5.6          2.2         virginica\n",
              "137 6.4          3.2         5.3          2.3         virginica\n",
              "138 7.7          2.6         6.9          2.3         virginica\n",
              "139 6.9          3.2         5.7          2.3         virginica\n",
              "140 7.7          3.0         6.1          2.3         virginica\n",
              "141 6.9          3.1         5.1          2.3         virginica\n",
              "142 6.8          3.2         5.9          2.3         virginica\n",
              "143 6.7          3.0         5.2          2.3         virginica\n",
              "144 6.2          3.4         5.4          2.3         virginica\n",
              "145 5.8          2.8         5.1          2.4         virginica\n",
              "146 6.3          3.4         5.6          2.4         virginica\n",
              "147 6.7          3.1         5.6          2.4         virginica\n",
              "148 6.3          3.3         6.0          2.5         virginica\n",
              "149 7.2          3.6         6.1          2.5         virginica\n",
              "150 6.7          3.3         5.7          2.5         virginica"
            ]
          },
          "metadata": {}
        }
      ]
    },
    {
      "cell_type": "markdown",
      "source": [
        "11. Finally,\tuse\t**head()**\tto\texamine\tyour\treordered\tdata\tframes\tand\tbe\tprepared\tto\n",
        "report\ton\tthe\tfirst\tfew\trows\n",
        "\n"
      ],
      "metadata": {
        "id": "dvugWTZY-Yll"
      }
    },
    {
      "cell_type": "code",
      "source": [
        "head(sortedDF1,5)"
      ],
      "metadata": {
        "id": "H7jOMzUD-e10",
        "colab": {
          "base_uri": "https://localhost:8080/",
          "height": 255
        },
        "outputId": "952dbb9a-932e-41b2-d677-5341e8cb0263"
      },
      "execution_count": 54,
      "outputs": [
        {
          "output_type": "display_data",
          "data": {
            "text/html": [
              "<table class=\"dataframe\">\n",
              "<caption>A data.frame: 5 × 5</caption>\n",
              "<thead>\n",
              "\t<tr><th></th><th scope=col>Sepal.Length</th><th scope=col>Sepal.Width</th><th scope=col>Petal.Length</th><th scope=col>Petal.Width</th><th scope=col>Species</th></tr>\n",
              "\t<tr><th></th><th scope=col>&lt;dbl&gt;</th><th scope=col>&lt;dbl&gt;</th><th scope=col>&lt;dbl&gt;</th><th scope=col>&lt;dbl&gt;</th><th scope=col>&lt;fct&gt;</th></tr>\n",
              "</thead>\n",
              "<tbody>\n",
              "\t<tr><th scope=row>1</th><td>4.9</td><td>3.1</td><td>1.5</td><td>0.1</td><td>setosa</td></tr>\n",
              "\t<tr><th scope=row>2</th><td>4.8</td><td>3.0</td><td>1.4</td><td>0.1</td><td>setosa</td></tr>\n",
              "\t<tr><th scope=row>3</th><td>4.3</td><td>3.0</td><td>1.1</td><td>0.1</td><td>setosa</td></tr>\n",
              "\t<tr><th scope=row>4</th><td>5.2</td><td>4.1</td><td>1.5</td><td>0.1</td><td>setosa</td></tr>\n",
              "\t<tr><th scope=row>5</th><td>4.9</td><td>3.6</td><td>1.4</td><td>0.1</td><td>setosa</td></tr>\n",
              "</tbody>\n",
              "</table>\n"
            ],
            "text/markdown": "\nA data.frame: 5 × 5\n\n| <!--/--> | Sepal.Length &lt;dbl&gt; | Sepal.Width &lt;dbl&gt; | Petal.Length &lt;dbl&gt; | Petal.Width &lt;dbl&gt; | Species &lt;fct&gt; |\n|---|---|---|---|---|---|\n| 1 | 4.9 | 3.1 | 1.5 | 0.1 | setosa |\n| 2 | 4.8 | 3.0 | 1.4 | 0.1 | setosa |\n| 3 | 4.3 | 3.0 | 1.1 | 0.1 | setosa |\n| 4 | 5.2 | 4.1 | 1.5 | 0.1 | setosa |\n| 5 | 4.9 | 3.6 | 1.4 | 0.1 | setosa |\n\n",
            "text/latex": "A data.frame: 5 × 5\n\\begin{tabular}{r|lllll}\n  & Sepal.Length & Sepal.Width & Petal.Length & Petal.Width & Species\\\\\n  & <dbl> & <dbl> & <dbl> & <dbl> & <fct>\\\\\n\\hline\n\t1 & 4.9 & 3.1 & 1.5 & 0.1 & setosa\\\\\n\t2 & 4.8 & 3.0 & 1.4 & 0.1 & setosa\\\\\n\t3 & 4.3 & 3.0 & 1.1 & 0.1 & setosa\\\\\n\t4 & 5.2 & 4.1 & 1.5 & 0.1 & setosa\\\\\n\t5 & 4.9 & 3.6 & 1.4 & 0.1 & setosa\\\\\n\\end{tabular}\n",
            "text/plain": [
              "  Sepal.Length Sepal.Width Petal.Length Petal.Width Species\n",
              "1 4.9          3.1         1.5          0.1         setosa \n",
              "2 4.8          3.0         1.4          0.1         setosa \n",
              "3 4.3          3.0         1.1          0.1         setosa \n",
              "4 5.2          4.1         1.5          0.1         setosa \n",
              "5 4.9          3.6         1.4          0.1         setosa "
            ]
          },
          "metadata": {}
        }
      ]
    },
    {
      "cell_type": "markdown",
      "source": [
        "12. What\tdoes\tthe\tfollowing\tline\tof\tcode\tdo?<br>\n",
        "`myIris [\t,\t1]`\n"
      ],
      "metadata": {
        "id": "2RQuVxYH-fkZ"
      }
    },
    {
      "cell_type": "code",
      "source": [
        "myIris [ , 1]"
      ],
      "metadata": {
        "colab": {
          "base_uri": "https://localhost:8080/",
          "height": 86
        },
        "id": "Pk71dphKtSlL",
        "outputId": "ed489db0-1b04-459f-d2ed-69705aef125c"
      },
      "execution_count": 60,
      "outputs": [
        {
          "output_type": "display_data",
          "data": {
            "text/html": [
              "<style>\n",
              ".list-inline {list-style: none; margin:0; padding: 0}\n",
              ".list-inline>li {display: inline-block}\n",
              ".list-inline>li:not(:last-child)::after {content: \"\\00b7\"; padding: 0 .5ex}\n",
              "</style>\n",
              "<ol class=list-inline><li>5.1</li><li>4.9</li><li>4.7</li><li>4.6</li><li>5</li><li>5.4</li><li>4.6</li><li>5</li><li>4.4</li><li>4.9</li><li>5.4</li><li>4.8</li><li>4.8</li><li>4.3</li><li>5.8</li><li>5.7</li><li>5.4</li><li>5.1</li><li>5.7</li><li>5.1</li><li>5.4</li><li>5.1</li><li>4.6</li><li>5.1</li><li>4.8</li><li>5</li><li>5</li><li>5.2</li><li>5.2</li><li>4.7</li><li>4.8</li><li>5.4</li><li>5.2</li><li>5.5</li><li>4.9</li><li>5</li><li>5.5</li><li>4.9</li><li>4.4</li><li>5.1</li><li>5</li><li>4.5</li><li>4.4</li><li>5</li><li>5.1</li><li>4.8</li><li>5.1</li><li>4.6</li><li>5.3</li><li>5</li><li>7</li><li>6.4</li><li>6.9</li><li>5.5</li><li>6.5</li><li>5.7</li><li>6.3</li><li>4.9</li><li>6.6</li><li>5.2</li><li>5</li><li>5.9</li><li>6</li><li>6.1</li><li>5.6</li><li>6.7</li><li>5.6</li><li>5.8</li><li>6.2</li><li>5.6</li><li>5.9</li><li>6.1</li><li>6.3</li><li>6.1</li><li>6.4</li><li>6.6</li><li>6.8</li><li>6.7</li><li>6</li><li>5.7</li><li>5.5</li><li>5.5</li><li>5.8</li><li>6</li><li>5.4</li><li>6</li><li>6.7</li><li>6.3</li><li>5.6</li><li>5.5</li><li>5.5</li><li>6.1</li><li>5.8</li><li>5</li><li>5.6</li><li>5.7</li><li>5.7</li><li>6.2</li><li>5.1</li><li>5.7</li><li>6.3</li><li>5.8</li><li>7.1</li><li>6.3</li><li>6.5</li><li>7.6</li><li>4.9</li><li>7.3</li><li>6.7</li><li>7.2</li><li>6.5</li><li>6.4</li><li>6.8</li><li>5.7</li><li>5.8</li><li>6.4</li><li>6.5</li><li>7.7</li><li>7.7</li><li>6</li><li>6.9</li><li>5.6</li><li>7.7</li><li>6.3</li><li>6.7</li><li>7.2</li><li>6.2</li><li>6.1</li><li>6.4</li><li>7.2</li><li>7.4</li><li>7.9</li><li>6.4</li><li>6.3</li><li>6.1</li><li>7.7</li><li>6.3</li><li>6.4</li><li>6</li><li>6.9</li><li>6.7</li><li>6.9</li><li>5.8</li><li>6.8</li><li>6.7</li><li>6.7</li><li>6.3</li><li>6.5</li><li>6.2</li><li>5.9</li></ol>\n"
            ],
            "text/markdown": "1. 5.1\n2. 4.9\n3. 4.7\n4. 4.6\n5. 5\n6. 5.4\n7. 4.6\n8. 5\n9. 4.4\n10. 4.9\n11. 5.4\n12. 4.8\n13. 4.8\n14. 4.3\n15. 5.8\n16. 5.7\n17. 5.4\n18. 5.1\n19. 5.7\n20. 5.1\n21. 5.4\n22. 5.1\n23. 4.6\n24. 5.1\n25. 4.8\n26. 5\n27. 5\n28. 5.2\n29. 5.2\n30. 4.7\n31. 4.8\n32. 5.4\n33. 5.2\n34. 5.5\n35. 4.9\n36. 5\n37. 5.5\n38. 4.9\n39. 4.4\n40. 5.1\n41. 5\n42. 4.5\n43. 4.4\n44. 5\n45. 5.1\n46. 4.8\n47. 5.1\n48. 4.6\n49. 5.3\n50. 5\n51. 7\n52. 6.4\n53. 6.9\n54. 5.5\n55. 6.5\n56. 5.7\n57. 6.3\n58. 4.9\n59. 6.6\n60. 5.2\n61. 5\n62. 5.9\n63. 6\n64. 6.1\n65. 5.6\n66. 6.7\n67. 5.6\n68. 5.8\n69. 6.2\n70. 5.6\n71. 5.9\n72. 6.1\n73. 6.3\n74. 6.1\n75. 6.4\n76. 6.6\n77. 6.8\n78. 6.7\n79. 6\n80. 5.7\n81. 5.5\n82. 5.5\n83. 5.8\n84. 6\n85. 5.4\n86. 6\n87. 6.7\n88. 6.3\n89. 5.6\n90. 5.5\n91. 5.5\n92. 6.1\n93. 5.8\n94. 5\n95. 5.6\n96. 5.7\n97. 5.7\n98. 6.2\n99. 5.1\n100. 5.7\n101. 6.3\n102. 5.8\n103. 7.1\n104. 6.3\n105. 6.5\n106. 7.6\n107. 4.9\n108. 7.3\n109. 6.7\n110. 7.2\n111. 6.5\n112. 6.4\n113. 6.8\n114. 5.7\n115. 5.8\n116. 6.4\n117. 6.5\n118. 7.7\n119. 7.7\n120. 6\n121. 6.9\n122. 5.6\n123. 7.7\n124. 6.3\n125. 6.7\n126. 7.2\n127. 6.2\n128. 6.1\n129. 6.4\n130. 7.2\n131. 7.4\n132. 7.9\n133. 6.4\n134. 6.3\n135. 6.1\n136. 7.7\n137. 6.3\n138. 6.4\n139. 6\n140. 6.9\n141. 6.7\n142. 6.9\n143. 5.8\n144. 6.8\n145. 6.7\n146. 6.7\n147. 6.3\n148. 6.5\n149. 6.2\n150. 5.9\n\n\n",
            "text/latex": "\\begin{enumerate*}\n\\item 5.1\n\\item 4.9\n\\item 4.7\n\\item 4.6\n\\item 5\n\\item 5.4\n\\item 4.6\n\\item 5\n\\item 4.4\n\\item 4.9\n\\item 5.4\n\\item 4.8\n\\item 4.8\n\\item 4.3\n\\item 5.8\n\\item 5.7\n\\item 5.4\n\\item 5.1\n\\item 5.7\n\\item 5.1\n\\item 5.4\n\\item 5.1\n\\item 4.6\n\\item 5.1\n\\item 4.8\n\\item 5\n\\item 5\n\\item 5.2\n\\item 5.2\n\\item 4.7\n\\item 4.8\n\\item 5.4\n\\item 5.2\n\\item 5.5\n\\item 4.9\n\\item 5\n\\item 5.5\n\\item 4.9\n\\item 4.4\n\\item 5.1\n\\item 5\n\\item 4.5\n\\item 4.4\n\\item 5\n\\item 5.1\n\\item 4.8\n\\item 5.1\n\\item 4.6\n\\item 5.3\n\\item 5\n\\item 7\n\\item 6.4\n\\item 6.9\n\\item 5.5\n\\item 6.5\n\\item 5.7\n\\item 6.3\n\\item 4.9\n\\item 6.6\n\\item 5.2\n\\item 5\n\\item 5.9\n\\item 6\n\\item 6.1\n\\item 5.6\n\\item 6.7\n\\item 5.6\n\\item 5.8\n\\item 6.2\n\\item 5.6\n\\item 5.9\n\\item 6.1\n\\item 6.3\n\\item 6.1\n\\item 6.4\n\\item 6.6\n\\item 6.8\n\\item 6.7\n\\item 6\n\\item 5.7\n\\item 5.5\n\\item 5.5\n\\item 5.8\n\\item 6\n\\item 5.4\n\\item 6\n\\item 6.7\n\\item 6.3\n\\item 5.6\n\\item 5.5\n\\item 5.5\n\\item 6.1\n\\item 5.8\n\\item 5\n\\item 5.6\n\\item 5.7\n\\item 5.7\n\\item 6.2\n\\item 5.1\n\\item 5.7\n\\item 6.3\n\\item 5.8\n\\item 7.1\n\\item 6.3\n\\item 6.5\n\\item 7.6\n\\item 4.9\n\\item 7.3\n\\item 6.7\n\\item 7.2\n\\item 6.5\n\\item 6.4\n\\item 6.8\n\\item 5.7\n\\item 5.8\n\\item 6.4\n\\item 6.5\n\\item 7.7\n\\item 7.7\n\\item 6\n\\item 6.9\n\\item 5.6\n\\item 7.7\n\\item 6.3\n\\item 6.7\n\\item 7.2\n\\item 6.2\n\\item 6.1\n\\item 6.4\n\\item 7.2\n\\item 7.4\n\\item 7.9\n\\item 6.4\n\\item 6.3\n\\item 6.1\n\\item 7.7\n\\item 6.3\n\\item 6.4\n\\item 6\n\\item 6.9\n\\item 6.7\n\\item 6.9\n\\item 5.8\n\\item 6.8\n\\item 6.7\n\\item 6.7\n\\item 6.3\n\\item 6.5\n\\item 6.2\n\\item 5.9\n\\end{enumerate*}\n",
            "text/plain": [
              "  [1] 5.1 4.9 4.7 4.6 5.0 5.4 4.6 5.0 4.4 4.9 5.4 4.8 4.8 4.3 5.8 5.7 5.4 5.1\n",
              " [19] 5.7 5.1 5.4 5.1 4.6 5.1 4.8 5.0 5.0 5.2 5.2 4.7 4.8 5.4 5.2 5.5 4.9 5.0\n",
              " [37] 5.5 4.9 4.4 5.1 5.0 4.5 4.4 5.0 5.1 4.8 5.1 4.6 5.3 5.0 7.0 6.4 6.9 5.5\n",
              " [55] 6.5 5.7 6.3 4.9 6.6 5.2 5.0 5.9 6.0 6.1 5.6 6.7 5.6 5.8 6.2 5.6 5.9 6.1\n",
              " [73] 6.3 6.1 6.4 6.6 6.8 6.7 6.0 5.7 5.5 5.5 5.8 6.0 5.4 6.0 6.7 6.3 5.6 5.5\n",
              " [91] 5.5 6.1 5.8 5.0 5.6 5.7 5.7 6.2 5.1 5.7 6.3 5.8 7.1 6.3 6.5 7.6 4.9 7.3\n",
              "[109] 6.7 7.2 6.5 6.4 6.8 5.7 5.8 6.4 6.5 7.7 7.7 6.0 6.9 5.6 7.7 6.3 6.7 7.2\n",
              "[127] 6.2 6.1 6.4 7.2 7.4 7.9 6.4 6.3 6.1 7.7 6.3 6.4 6.0 6.9 6.7 6.9 5.8 6.8\n",
              "[145] 6.7 6.7 6.3 6.5 6.2 5.9"
            ]
          },
          "metadata": {}
        }
      ]
    },
    {
      "cell_type": "code",
      "source": [
        "myIris$Sepal.Length"
      ],
      "metadata": {
        "colab": {
          "base_uri": "https://localhost:8080/",
          "height": 86
        },
        "id": "LSfOS0HVtXFv",
        "outputId": "2a7aba2f-2b10-4b76-b55d-0d0e5c2cb1fe"
      },
      "execution_count": 62,
      "outputs": [
        {
          "output_type": "display_data",
          "data": {
            "text/html": [
              "<style>\n",
              ".list-inline {list-style: none; margin:0; padding: 0}\n",
              ".list-inline>li {display: inline-block}\n",
              ".list-inline>li:not(:last-child)::after {content: \"\\00b7\"; padding: 0 .5ex}\n",
              "</style>\n",
              "<ol class=list-inline><li>5.1</li><li>4.9</li><li>4.7</li><li>4.6</li><li>5</li><li>5.4</li><li>4.6</li><li>5</li><li>4.4</li><li>4.9</li><li>5.4</li><li>4.8</li><li>4.8</li><li>4.3</li><li>5.8</li><li>5.7</li><li>5.4</li><li>5.1</li><li>5.7</li><li>5.1</li><li>5.4</li><li>5.1</li><li>4.6</li><li>5.1</li><li>4.8</li><li>5</li><li>5</li><li>5.2</li><li>5.2</li><li>4.7</li><li>4.8</li><li>5.4</li><li>5.2</li><li>5.5</li><li>4.9</li><li>5</li><li>5.5</li><li>4.9</li><li>4.4</li><li>5.1</li><li>5</li><li>4.5</li><li>4.4</li><li>5</li><li>5.1</li><li>4.8</li><li>5.1</li><li>4.6</li><li>5.3</li><li>5</li><li>7</li><li>6.4</li><li>6.9</li><li>5.5</li><li>6.5</li><li>5.7</li><li>6.3</li><li>4.9</li><li>6.6</li><li>5.2</li><li>5</li><li>5.9</li><li>6</li><li>6.1</li><li>5.6</li><li>6.7</li><li>5.6</li><li>5.8</li><li>6.2</li><li>5.6</li><li>5.9</li><li>6.1</li><li>6.3</li><li>6.1</li><li>6.4</li><li>6.6</li><li>6.8</li><li>6.7</li><li>6</li><li>5.7</li><li>5.5</li><li>5.5</li><li>5.8</li><li>6</li><li>5.4</li><li>6</li><li>6.7</li><li>6.3</li><li>5.6</li><li>5.5</li><li>5.5</li><li>6.1</li><li>5.8</li><li>5</li><li>5.6</li><li>5.7</li><li>5.7</li><li>6.2</li><li>5.1</li><li>5.7</li><li>6.3</li><li>5.8</li><li>7.1</li><li>6.3</li><li>6.5</li><li>7.6</li><li>4.9</li><li>7.3</li><li>6.7</li><li>7.2</li><li>6.5</li><li>6.4</li><li>6.8</li><li>5.7</li><li>5.8</li><li>6.4</li><li>6.5</li><li>7.7</li><li>7.7</li><li>6</li><li>6.9</li><li>5.6</li><li>7.7</li><li>6.3</li><li>6.7</li><li>7.2</li><li>6.2</li><li>6.1</li><li>6.4</li><li>7.2</li><li>7.4</li><li>7.9</li><li>6.4</li><li>6.3</li><li>6.1</li><li>7.7</li><li>6.3</li><li>6.4</li><li>6</li><li>6.9</li><li>6.7</li><li>6.9</li><li>5.8</li><li>6.8</li><li>6.7</li><li>6.7</li><li>6.3</li><li>6.5</li><li>6.2</li><li>5.9</li></ol>\n"
            ],
            "text/markdown": "1. 5.1\n2. 4.9\n3. 4.7\n4. 4.6\n5. 5\n6. 5.4\n7. 4.6\n8. 5\n9. 4.4\n10. 4.9\n11. 5.4\n12. 4.8\n13. 4.8\n14. 4.3\n15. 5.8\n16. 5.7\n17. 5.4\n18. 5.1\n19. 5.7\n20. 5.1\n21. 5.4\n22. 5.1\n23. 4.6\n24. 5.1\n25. 4.8\n26. 5\n27. 5\n28. 5.2\n29. 5.2\n30. 4.7\n31. 4.8\n32. 5.4\n33. 5.2\n34. 5.5\n35. 4.9\n36. 5\n37. 5.5\n38. 4.9\n39. 4.4\n40. 5.1\n41. 5\n42. 4.5\n43. 4.4\n44. 5\n45. 5.1\n46. 4.8\n47. 5.1\n48. 4.6\n49. 5.3\n50. 5\n51. 7\n52. 6.4\n53. 6.9\n54. 5.5\n55. 6.5\n56. 5.7\n57. 6.3\n58. 4.9\n59. 6.6\n60. 5.2\n61. 5\n62. 5.9\n63. 6\n64. 6.1\n65. 5.6\n66. 6.7\n67. 5.6\n68. 5.8\n69. 6.2\n70. 5.6\n71. 5.9\n72. 6.1\n73. 6.3\n74. 6.1\n75. 6.4\n76. 6.6\n77. 6.8\n78. 6.7\n79. 6\n80. 5.7\n81. 5.5\n82. 5.5\n83. 5.8\n84. 6\n85. 5.4\n86. 6\n87. 6.7\n88. 6.3\n89. 5.6\n90. 5.5\n91. 5.5\n92. 6.1\n93. 5.8\n94. 5\n95. 5.6\n96. 5.7\n97. 5.7\n98. 6.2\n99. 5.1\n100. 5.7\n101. 6.3\n102. 5.8\n103. 7.1\n104. 6.3\n105. 6.5\n106. 7.6\n107. 4.9\n108. 7.3\n109. 6.7\n110. 7.2\n111. 6.5\n112. 6.4\n113. 6.8\n114. 5.7\n115. 5.8\n116. 6.4\n117. 6.5\n118. 7.7\n119. 7.7\n120. 6\n121. 6.9\n122. 5.6\n123. 7.7\n124. 6.3\n125. 6.7\n126. 7.2\n127. 6.2\n128. 6.1\n129. 6.4\n130. 7.2\n131. 7.4\n132. 7.9\n133. 6.4\n134. 6.3\n135. 6.1\n136. 7.7\n137. 6.3\n138. 6.4\n139. 6\n140. 6.9\n141. 6.7\n142. 6.9\n143. 5.8\n144. 6.8\n145. 6.7\n146. 6.7\n147. 6.3\n148. 6.5\n149. 6.2\n150. 5.9\n\n\n",
            "text/latex": "\\begin{enumerate*}\n\\item 5.1\n\\item 4.9\n\\item 4.7\n\\item 4.6\n\\item 5\n\\item 5.4\n\\item 4.6\n\\item 5\n\\item 4.4\n\\item 4.9\n\\item 5.4\n\\item 4.8\n\\item 4.8\n\\item 4.3\n\\item 5.8\n\\item 5.7\n\\item 5.4\n\\item 5.1\n\\item 5.7\n\\item 5.1\n\\item 5.4\n\\item 5.1\n\\item 4.6\n\\item 5.1\n\\item 4.8\n\\item 5\n\\item 5\n\\item 5.2\n\\item 5.2\n\\item 4.7\n\\item 4.8\n\\item 5.4\n\\item 5.2\n\\item 5.5\n\\item 4.9\n\\item 5\n\\item 5.5\n\\item 4.9\n\\item 4.4\n\\item 5.1\n\\item 5\n\\item 4.5\n\\item 4.4\n\\item 5\n\\item 5.1\n\\item 4.8\n\\item 5.1\n\\item 4.6\n\\item 5.3\n\\item 5\n\\item 7\n\\item 6.4\n\\item 6.9\n\\item 5.5\n\\item 6.5\n\\item 5.7\n\\item 6.3\n\\item 4.9\n\\item 6.6\n\\item 5.2\n\\item 5\n\\item 5.9\n\\item 6\n\\item 6.1\n\\item 5.6\n\\item 6.7\n\\item 5.6\n\\item 5.8\n\\item 6.2\n\\item 5.6\n\\item 5.9\n\\item 6.1\n\\item 6.3\n\\item 6.1\n\\item 6.4\n\\item 6.6\n\\item 6.8\n\\item 6.7\n\\item 6\n\\item 5.7\n\\item 5.5\n\\item 5.5\n\\item 5.8\n\\item 6\n\\item 5.4\n\\item 6\n\\item 6.7\n\\item 6.3\n\\item 5.6\n\\item 5.5\n\\item 5.5\n\\item 6.1\n\\item 5.8\n\\item 5\n\\item 5.6\n\\item 5.7\n\\item 5.7\n\\item 6.2\n\\item 5.1\n\\item 5.7\n\\item 6.3\n\\item 5.8\n\\item 7.1\n\\item 6.3\n\\item 6.5\n\\item 7.6\n\\item 4.9\n\\item 7.3\n\\item 6.7\n\\item 7.2\n\\item 6.5\n\\item 6.4\n\\item 6.8\n\\item 5.7\n\\item 5.8\n\\item 6.4\n\\item 6.5\n\\item 7.7\n\\item 7.7\n\\item 6\n\\item 6.9\n\\item 5.6\n\\item 7.7\n\\item 6.3\n\\item 6.7\n\\item 7.2\n\\item 6.2\n\\item 6.1\n\\item 6.4\n\\item 7.2\n\\item 7.4\n\\item 7.9\n\\item 6.4\n\\item 6.3\n\\item 6.1\n\\item 7.7\n\\item 6.3\n\\item 6.4\n\\item 6\n\\item 6.9\n\\item 6.7\n\\item 6.9\n\\item 5.8\n\\item 6.8\n\\item 6.7\n\\item 6.7\n\\item 6.3\n\\item 6.5\n\\item 6.2\n\\item 5.9\n\\end{enumerate*}\n",
            "text/plain": [
              "  [1] 5.1 4.9 4.7 4.6 5.0 5.4 4.6 5.0 4.4 4.9 5.4 4.8 4.8 4.3 5.8 5.7 5.4 5.1\n",
              " [19] 5.7 5.1 5.4 5.1 4.6 5.1 4.8 5.0 5.0 5.2 5.2 4.7 4.8 5.4 5.2 5.5 4.9 5.0\n",
              " [37] 5.5 4.9 4.4 5.1 5.0 4.5 4.4 5.0 5.1 4.8 5.1 4.6 5.3 5.0 7.0 6.4 6.9 5.5\n",
              " [55] 6.5 5.7 6.3 4.9 6.6 5.2 5.0 5.9 6.0 6.1 5.6 6.7 5.6 5.8 6.2 5.6 5.9 6.1\n",
              " [73] 6.3 6.1 6.4 6.6 6.8 6.7 6.0 5.7 5.5 5.5 5.8 6.0 5.4 6.0 6.7 6.3 5.6 5.5\n",
              " [91] 5.5 6.1 5.8 5.0 5.6 5.7 5.7 6.2 5.1 5.7 6.3 5.8 7.1 6.3 6.5 7.6 4.9 7.3\n",
              "[109] 6.7 7.2 6.5 6.4 6.8 5.7 5.8 6.4 6.5 7.7 7.7 6.0 6.9 5.6 7.7 6.3 6.7 7.2\n",
              "[127] 6.2 6.1 6.4 7.2 7.4 7.9 6.4 6.3 6.1 7.7 6.3 6.4 6.0 6.9 6.7 6.9 5.8 6.8\n",
              "[145] 6.7 6.7 6.3 6.5 6.2 5.9"
            ]
          },
          "metadata": {}
        }
      ]
    },
    {
      "cell_type": "code",
      "source": [
        "#return the first colume of \"myIris\" data frames"
      ],
      "metadata": {
        "id": "OW42IHlNrk7w"
      },
      "execution_count": 63,
      "outputs": []
    },
    {
      "cell_type": "markdown",
      "source": [
        "13. What\tis\tthe\tdifference\t(if\tany)\tbetween:<br>\n",
        "`myIris [\t,\t\"Sepal.Length\"]` and <br> \n",
        "`myIris $Sepal.Length`\n"
      ],
      "metadata": {
        "id": "WMNr22xW-kB4"
      }
    },
    {
      "cell_type": "code",
      "source": [
        "myIris [ , \"Sepal.Length\"]"
      ],
      "metadata": {
        "id": "eQsx30wJ-1aL",
        "colab": {
          "base_uri": "https://localhost:8080/",
          "height": 86
        },
        "outputId": "eb1eadfb-6ef9-4e03-ca00-f50f31b4eae8"
      },
      "execution_count": 57,
      "outputs": [
        {
          "output_type": "display_data",
          "data": {
            "text/html": [
              "<style>\n",
              ".list-inline {list-style: none; margin:0; padding: 0}\n",
              ".list-inline>li {display: inline-block}\n",
              ".list-inline>li:not(:last-child)::after {content: \"\\00b7\"; padding: 0 .5ex}\n",
              "</style>\n",
              "<ol class=list-inline><li>5.1</li><li>4.9</li><li>4.7</li><li>4.6</li><li>5</li><li>5.4</li><li>4.6</li><li>5</li><li>4.4</li><li>4.9</li><li>5.4</li><li>4.8</li><li>4.8</li><li>4.3</li><li>5.8</li><li>5.7</li><li>5.4</li><li>5.1</li><li>5.7</li><li>5.1</li><li>5.4</li><li>5.1</li><li>4.6</li><li>5.1</li><li>4.8</li><li>5</li><li>5</li><li>5.2</li><li>5.2</li><li>4.7</li><li>4.8</li><li>5.4</li><li>5.2</li><li>5.5</li><li>4.9</li><li>5</li><li>5.5</li><li>4.9</li><li>4.4</li><li>5.1</li><li>5</li><li>4.5</li><li>4.4</li><li>5</li><li>5.1</li><li>4.8</li><li>5.1</li><li>4.6</li><li>5.3</li><li>5</li><li>7</li><li>6.4</li><li>6.9</li><li>5.5</li><li>6.5</li><li>5.7</li><li>6.3</li><li>4.9</li><li>6.6</li><li>5.2</li><li>5</li><li>5.9</li><li>6</li><li>6.1</li><li>5.6</li><li>6.7</li><li>5.6</li><li>5.8</li><li>6.2</li><li>5.6</li><li>5.9</li><li>6.1</li><li>6.3</li><li>6.1</li><li>6.4</li><li>6.6</li><li>6.8</li><li>6.7</li><li>6</li><li>5.7</li><li>5.5</li><li>5.5</li><li>5.8</li><li>6</li><li>5.4</li><li>6</li><li>6.7</li><li>6.3</li><li>5.6</li><li>5.5</li><li>5.5</li><li>6.1</li><li>5.8</li><li>5</li><li>5.6</li><li>5.7</li><li>5.7</li><li>6.2</li><li>5.1</li><li>5.7</li><li>6.3</li><li>5.8</li><li>7.1</li><li>6.3</li><li>6.5</li><li>7.6</li><li>4.9</li><li>7.3</li><li>6.7</li><li>7.2</li><li>6.5</li><li>6.4</li><li>6.8</li><li>5.7</li><li>5.8</li><li>6.4</li><li>6.5</li><li>7.7</li><li>7.7</li><li>6</li><li>6.9</li><li>5.6</li><li>7.7</li><li>6.3</li><li>6.7</li><li>7.2</li><li>6.2</li><li>6.1</li><li>6.4</li><li>7.2</li><li>7.4</li><li>7.9</li><li>6.4</li><li>6.3</li><li>6.1</li><li>7.7</li><li>6.3</li><li>6.4</li><li>6</li><li>6.9</li><li>6.7</li><li>6.9</li><li>5.8</li><li>6.8</li><li>6.7</li><li>6.7</li><li>6.3</li><li>6.5</li><li>6.2</li><li>5.9</li></ol>\n"
            ],
            "text/markdown": "1. 5.1\n2. 4.9\n3. 4.7\n4. 4.6\n5. 5\n6. 5.4\n7. 4.6\n8. 5\n9. 4.4\n10. 4.9\n11. 5.4\n12. 4.8\n13. 4.8\n14. 4.3\n15. 5.8\n16. 5.7\n17. 5.4\n18. 5.1\n19. 5.7\n20. 5.1\n21. 5.4\n22. 5.1\n23. 4.6\n24. 5.1\n25. 4.8\n26. 5\n27. 5\n28. 5.2\n29. 5.2\n30. 4.7\n31. 4.8\n32. 5.4\n33. 5.2\n34. 5.5\n35. 4.9\n36. 5\n37. 5.5\n38. 4.9\n39. 4.4\n40. 5.1\n41. 5\n42. 4.5\n43. 4.4\n44. 5\n45. 5.1\n46. 4.8\n47. 5.1\n48. 4.6\n49. 5.3\n50. 5\n51. 7\n52. 6.4\n53. 6.9\n54. 5.5\n55. 6.5\n56. 5.7\n57. 6.3\n58. 4.9\n59. 6.6\n60. 5.2\n61. 5\n62. 5.9\n63. 6\n64. 6.1\n65. 5.6\n66. 6.7\n67. 5.6\n68. 5.8\n69. 6.2\n70. 5.6\n71. 5.9\n72. 6.1\n73. 6.3\n74. 6.1\n75. 6.4\n76. 6.6\n77. 6.8\n78. 6.7\n79. 6\n80. 5.7\n81. 5.5\n82. 5.5\n83. 5.8\n84. 6\n85. 5.4\n86. 6\n87. 6.7\n88. 6.3\n89. 5.6\n90. 5.5\n91. 5.5\n92. 6.1\n93. 5.8\n94. 5\n95. 5.6\n96. 5.7\n97. 5.7\n98. 6.2\n99. 5.1\n100. 5.7\n101. 6.3\n102. 5.8\n103. 7.1\n104. 6.3\n105. 6.5\n106. 7.6\n107. 4.9\n108. 7.3\n109. 6.7\n110. 7.2\n111. 6.5\n112. 6.4\n113. 6.8\n114. 5.7\n115. 5.8\n116. 6.4\n117. 6.5\n118. 7.7\n119. 7.7\n120. 6\n121. 6.9\n122. 5.6\n123. 7.7\n124. 6.3\n125. 6.7\n126. 7.2\n127. 6.2\n128. 6.1\n129. 6.4\n130. 7.2\n131. 7.4\n132. 7.9\n133. 6.4\n134. 6.3\n135. 6.1\n136. 7.7\n137. 6.3\n138. 6.4\n139. 6\n140. 6.9\n141. 6.7\n142. 6.9\n143. 5.8\n144. 6.8\n145. 6.7\n146. 6.7\n147. 6.3\n148. 6.5\n149. 6.2\n150. 5.9\n\n\n",
            "text/latex": "\\begin{enumerate*}\n\\item 5.1\n\\item 4.9\n\\item 4.7\n\\item 4.6\n\\item 5\n\\item 5.4\n\\item 4.6\n\\item 5\n\\item 4.4\n\\item 4.9\n\\item 5.4\n\\item 4.8\n\\item 4.8\n\\item 4.3\n\\item 5.8\n\\item 5.7\n\\item 5.4\n\\item 5.1\n\\item 5.7\n\\item 5.1\n\\item 5.4\n\\item 5.1\n\\item 4.6\n\\item 5.1\n\\item 4.8\n\\item 5\n\\item 5\n\\item 5.2\n\\item 5.2\n\\item 4.7\n\\item 4.8\n\\item 5.4\n\\item 5.2\n\\item 5.5\n\\item 4.9\n\\item 5\n\\item 5.5\n\\item 4.9\n\\item 4.4\n\\item 5.1\n\\item 5\n\\item 4.5\n\\item 4.4\n\\item 5\n\\item 5.1\n\\item 4.8\n\\item 5.1\n\\item 4.6\n\\item 5.3\n\\item 5\n\\item 7\n\\item 6.4\n\\item 6.9\n\\item 5.5\n\\item 6.5\n\\item 5.7\n\\item 6.3\n\\item 4.9\n\\item 6.6\n\\item 5.2\n\\item 5\n\\item 5.9\n\\item 6\n\\item 6.1\n\\item 5.6\n\\item 6.7\n\\item 5.6\n\\item 5.8\n\\item 6.2\n\\item 5.6\n\\item 5.9\n\\item 6.1\n\\item 6.3\n\\item 6.1\n\\item 6.4\n\\item 6.6\n\\item 6.8\n\\item 6.7\n\\item 6\n\\item 5.7\n\\item 5.5\n\\item 5.5\n\\item 5.8\n\\item 6\n\\item 5.4\n\\item 6\n\\item 6.7\n\\item 6.3\n\\item 5.6\n\\item 5.5\n\\item 5.5\n\\item 6.1\n\\item 5.8\n\\item 5\n\\item 5.6\n\\item 5.7\n\\item 5.7\n\\item 6.2\n\\item 5.1\n\\item 5.7\n\\item 6.3\n\\item 5.8\n\\item 7.1\n\\item 6.3\n\\item 6.5\n\\item 7.6\n\\item 4.9\n\\item 7.3\n\\item 6.7\n\\item 7.2\n\\item 6.5\n\\item 6.4\n\\item 6.8\n\\item 5.7\n\\item 5.8\n\\item 6.4\n\\item 6.5\n\\item 7.7\n\\item 7.7\n\\item 6\n\\item 6.9\n\\item 5.6\n\\item 7.7\n\\item 6.3\n\\item 6.7\n\\item 7.2\n\\item 6.2\n\\item 6.1\n\\item 6.4\n\\item 7.2\n\\item 7.4\n\\item 7.9\n\\item 6.4\n\\item 6.3\n\\item 6.1\n\\item 7.7\n\\item 6.3\n\\item 6.4\n\\item 6\n\\item 6.9\n\\item 6.7\n\\item 6.9\n\\item 5.8\n\\item 6.8\n\\item 6.7\n\\item 6.7\n\\item 6.3\n\\item 6.5\n\\item 6.2\n\\item 5.9\n\\end{enumerate*}\n",
            "text/plain": [
              "  [1] 5.1 4.9 4.7 4.6 5.0 5.4 4.6 5.0 4.4 4.9 5.4 4.8 4.8 4.3 5.8 5.7 5.4 5.1\n",
              " [19] 5.7 5.1 5.4 5.1 4.6 5.1 4.8 5.0 5.0 5.2 5.2 4.7 4.8 5.4 5.2 5.5 4.9 5.0\n",
              " [37] 5.5 4.9 4.4 5.1 5.0 4.5 4.4 5.0 5.1 4.8 5.1 4.6 5.3 5.0 7.0 6.4 6.9 5.5\n",
              " [55] 6.5 5.7 6.3 4.9 6.6 5.2 5.0 5.9 6.0 6.1 5.6 6.7 5.6 5.8 6.2 5.6 5.9 6.1\n",
              " [73] 6.3 6.1 6.4 6.6 6.8 6.7 6.0 5.7 5.5 5.5 5.8 6.0 5.4 6.0 6.7 6.3 5.6 5.5\n",
              " [91] 5.5 6.1 5.8 5.0 5.6 5.7 5.7 6.2 5.1 5.7 6.3 5.8 7.1 6.3 6.5 7.6 4.9 7.3\n",
              "[109] 6.7 7.2 6.5 6.4 6.8 5.7 5.8 6.4 6.5 7.7 7.7 6.0 6.9 5.6 7.7 6.3 6.7 7.2\n",
              "[127] 6.2 6.1 6.4 7.2 7.4 7.9 6.4 6.3 6.1 7.7 6.3 6.4 6.0 6.9 6.7 6.9 5.8 6.8\n",
              "[145] 6.7 6.7 6.3 6.5 6.2 5.9"
            ]
          },
          "metadata": {}
        }
      ]
    },
    {
      "cell_type": "code",
      "source": [
        "myIris $Sepal.Length"
      ],
      "metadata": {
        "colab": {
          "base_uri": "https://localhost:8080/",
          "height": 86
        },
        "id": "j-7mHmH9s3gK",
        "outputId": "923ad130-4da3-4730-8cc6-2f8eea9db590"
      },
      "execution_count": 58,
      "outputs": [
        {
          "output_type": "display_data",
          "data": {
            "text/html": [
              "<style>\n",
              ".list-inline {list-style: none; margin:0; padding: 0}\n",
              ".list-inline>li {display: inline-block}\n",
              ".list-inline>li:not(:last-child)::after {content: \"\\00b7\"; padding: 0 .5ex}\n",
              "</style>\n",
              "<ol class=list-inline><li>5.1</li><li>4.9</li><li>4.7</li><li>4.6</li><li>5</li><li>5.4</li><li>4.6</li><li>5</li><li>4.4</li><li>4.9</li><li>5.4</li><li>4.8</li><li>4.8</li><li>4.3</li><li>5.8</li><li>5.7</li><li>5.4</li><li>5.1</li><li>5.7</li><li>5.1</li><li>5.4</li><li>5.1</li><li>4.6</li><li>5.1</li><li>4.8</li><li>5</li><li>5</li><li>5.2</li><li>5.2</li><li>4.7</li><li>4.8</li><li>5.4</li><li>5.2</li><li>5.5</li><li>4.9</li><li>5</li><li>5.5</li><li>4.9</li><li>4.4</li><li>5.1</li><li>5</li><li>4.5</li><li>4.4</li><li>5</li><li>5.1</li><li>4.8</li><li>5.1</li><li>4.6</li><li>5.3</li><li>5</li><li>7</li><li>6.4</li><li>6.9</li><li>5.5</li><li>6.5</li><li>5.7</li><li>6.3</li><li>4.9</li><li>6.6</li><li>5.2</li><li>5</li><li>5.9</li><li>6</li><li>6.1</li><li>5.6</li><li>6.7</li><li>5.6</li><li>5.8</li><li>6.2</li><li>5.6</li><li>5.9</li><li>6.1</li><li>6.3</li><li>6.1</li><li>6.4</li><li>6.6</li><li>6.8</li><li>6.7</li><li>6</li><li>5.7</li><li>5.5</li><li>5.5</li><li>5.8</li><li>6</li><li>5.4</li><li>6</li><li>6.7</li><li>6.3</li><li>5.6</li><li>5.5</li><li>5.5</li><li>6.1</li><li>5.8</li><li>5</li><li>5.6</li><li>5.7</li><li>5.7</li><li>6.2</li><li>5.1</li><li>5.7</li><li>6.3</li><li>5.8</li><li>7.1</li><li>6.3</li><li>6.5</li><li>7.6</li><li>4.9</li><li>7.3</li><li>6.7</li><li>7.2</li><li>6.5</li><li>6.4</li><li>6.8</li><li>5.7</li><li>5.8</li><li>6.4</li><li>6.5</li><li>7.7</li><li>7.7</li><li>6</li><li>6.9</li><li>5.6</li><li>7.7</li><li>6.3</li><li>6.7</li><li>7.2</li><li>6.2</li><li>6.1</li><li>6.4</li><li>7.2</li><li>7.4</li><li>7.9</li><li>6.4</li><li>6.3</li><li>6.1</li><li>7.7</li><li>6.3</li><li>6.4</li><li>6</li><li>6.9</li><li>6.7</li><li>6.9</li><li>5.8</li><li>6.8</li><li>6.7</li><li>6.7</li><li>6.3</li><li>6.5</li><li>6.2</li><li>5.9</li></ol>\n"
            ],
            "text/markdown": "1. 5.1\n2. 4.9\n3. 4.7\n4. 4.6\n5. 5\n6. 5.4\n7. 4.6\n8. 5\n9. 4.4\n10. 4.9\n11. 5.4\n12. 4.8\n13. 4.8\n14. 4.3\n15. 5.8\n16. 5.7\n17. 5.4\n18. 5.1\n19. 5.7\n20. 5.1\n21. 5.4\n22. 5.1\n23. 4.6\n24. 5.1\n25. 4.8\n26. 5\n27. 5\n28. 5.2\n29. 5.2\n30. 4.7\n31. 4.8\n32. 5.4\n33. 5.2\n34. 5.5\n35. 4.9\n36. 5\n37. 5.5\n38. 4.9\n39. 4.4\n40. 5.1\n41. 5\n42. 4.5\n43. 4.4\n44. 5\n45. 5.1\n46. 4.8\n47. 5.1\n48. 4.6\n49. 5.3\n50. 5\n51. 7\n52. 6.4\n53. 6.9\n54. 5.5\n55. 6.5\n56. 5.7\n57. 6.3\n58. 4.9\n59. 6.6\n60. 5.2\n61. 5\n62. 5.9\n63. 6\n64. 6.1\n65. 5.6\n66. 6.7\n67. 5.6\n68. 5.8\n69. 6.2\n70. 5.6\n71. 5.9\n72. 6.1\n73. 6.3\n74. 6.1\n75. 6.4\n76. 6.6\n77. 6.8\n78. 6.7\n79. 6\n80. 5.7\n81. 5.5\n82. 5.5\n83. 5.8\n84. 6\n85. 5.4\n86. 6\n87. 6.7\n88. 6.3\n89. 5.6\n90. 5.5\n91. 5.5\n92. 6.1\n93. 5.8\n94. 5\n95. 5.6\n96. 5.7\n97. 5.7\n98. 6.2\n99. 5.1\n100. 5.7\n101. 6.3\n102. 5.8\n103. 7.1\n104. 6.3\n105. 6.5\n106. 7.6\n107. 4.9\n108. 7.3\n109. 6.7\n110. 7.2\n111. 6.5\n112. 6.4\n113. 6.8\n114. 5.7\n115. 5.8\n116. 6.4\n117. 6.5\n118. 7.7\n119. 7.7\n120. 6\n121. 6.9\n122. 5.6\n123. 7.7\n124. 6.3\n125. 6.7\n126. 7.2\n127. 6.2\n128. 6.1\n129. 6.4\n130. 7.2\n131. 7.4\n132. 7.9\n133. 6.4\n134. 6.3\n135. 6.1\n136. 7.7\n137. 6.3\n138. 6.4\n139. 6\n140. 6.9\n141. 6.7\n142. 6.9\n143. 5.8\n144. 6.8\n145. 6.7\n146. 6.7\n147. 6.3\n148. 6.5\n149. 6.2\n150. 5.9\n\n\n",
            "text/latex": "\\begin{enumerate*}\n\\item 5.1\n\\item 4.9\n\\item 4.7\n\\item 4.6\n\\item 5\n\\item 5.4\n\\item 4.6\n\\item 5\n\\item 4.4\n\\item 4.9\n\\item 5.4\n\\item 4.8\n\\item 4.8\n\\item 4.3\n\\item 5.8\n\\item 5.7\n\\item 5.4\n\\item 5.1\n\\item 5.7\n\\item 5.1\n\\item 5.4\n\\item 5.1\n\\item 4.6\n\\item 5.1\n\\item 4.8\n\\item 5\n\\item 5\n\\item 5.2\n\\item 5.2\n\\item 4.7\n\\item 4.8\n\\item 5.4\n\\item 5.2\n\\item 5.5\n\\item 4.9\n\\item 5\n\\item 5.5\n\\item 4.9\n\\item 4.4\n\\item 5.1\n\\item 5\n\\item 4.5\n\\item 4.4\n\\item 5\n\\item 5.1\n\\item 4.8\n\\item 5.1\n\\item 4.6\n\\item 5.3\n\\item 5\n\\item 7\n\\item 6.4\n\\item 6.9\n\\item 5.5\n\\item 6.5\n\\item 5.7\n\\item 6.3\n\\item 4.9\n\\item 6.6\n\\item 5.2\n\\item 5\n\\item 5.9\n\\item 6\n\\item 6.1\n\\item 5.6\n\\item 6.7\n\\item 5.6\n\\item 5.8\n\\item 6.2\n\\item 5.6\n\\item 5.9\n\\item 6.1\n\\item 6.3\n\\item 6.1\n\\item 6.4\n\\item 6.6\n\\item 6.8\n\\item 6.7\n\\item 6\n\\item 5.7\n\\item 5.5\n\\item 5.5\n\\item 5.8\n\\item 6\n\\item 5.4\n\\item 6\n\\item 6.7\n\\item 6.3\n\\item 5.6\n\\item 5.5\n\\item 5.5\n\\item 6.1\n\\item 5.8\n\\item 5\n\\item 5.6\n\\item 5.7\n\\item 5.7\n\\item 6.2\n\\item 5.1\n\\item 5.7\n\\item 6.3\n\\item 5.8\n\\item 7.1\n\\item 6.3\n\\item 6.5\n\\item 7.6\n\\item 4.9\n\\item 7.3\n\\item 6.7\n\\item 7.2\n\\item 6.5\n\\item 6.4\n\\item 6.8\n\\item 5.7\n\\item 5.8\n\\item 6.4\n\\item 6.5\n\\item 7.7\n\\item 7.7\n\\item 6\n\\item 6.9\n\\item 5.6\n\\item 7.7\n\\item 6.3\n\\item 6.7\n\\item 7.2\n\\item 6.2\n\\item 6.1\n\\item 6.4\n\\item 7.2\n\\item 7.4\n\\item 7.9\n\\item 6.4\n\\item 6.3\n\\item 6.1\n\\item 7.7\n\\item 6.3\n\\item 6.4\n\\item 6\n\\item 6.9\n\\item 6.7\n\\item 6.9\n\\item 5.8\n\\item 6.8\n\\item 6.7\n\\item 6.7\n\\item 6.3\n\\item 6.5\n\\item 6.2\n\\item 5.9\n\\end{enumerate*}\n",
            "text/plain": [
              "  [1] 5.1 4.9 4.7 4.6 5.0 5.4 4.6 5.0 4.4 4.9 5.4 4.8 4.8 4.3 5.8 5.7 5.4 5.1\n",
              " [19] 5.7 5.1 5.4 5.1 4.6 5.1 4.8 5.0 5.0 5.2 5.2 4.7 4.8 5.4 5.2 5.5 4.9 5.0\n",
              " [37] 5.5 4.9 4.4 5.1 5.0 4.5 4.4 5.0 5.1 4.8 5.1 4.6 5.3 5.0 7.0 6.4 6.9 5.5\n",
              " [55] 6.5 5.7 6.3 4.9 6.6 5.2 5.0 5.9 6.0 6.1 5.6 6.7 5.6 5.8 6.2 5.6 5.9 6.1\n",
              " [73] 6.3 6.1 6.4 6.6 6.8 6.7 6.0 5.7 5.5 5.5 5.8 6.0 5.4 6.0 6.7 6.3 5.6 5.5\n",
              " [91] 5.5 6.1 5.8 5.0 5.6 5.7 5.7 6.2 5.1 5.7 6.3 5.8 7.1 6.3 6.5 7.6 4.9 7.3\n",
              "[109] 6.7 7.2 6.5 6.4 6.8 5.7 5.8 6.4 6.5 7.7 7.7 6.0 6.9 5.6 7.7 6.3 6.7 7.2\n",
              "[127] 6.2 6.1 6.4 7.2 7.4 7.9 6.4 6.3 6.1 7.7 6.3 6.4 6.0 6.9 6.7 6.9 5.8 6.8\n",
              "[145] 6.7 6.7 6.3 6.5 6.2 5.9"
            ]
          },
          "metadata": {}
        }
      ]
    },
    {
      "cell_type": "code",
      "source": [
        "# there is no difference between myIris [ , \"Sepal.Length\"] and myIris $Sepal.Length"
      ],
      "metadata": {
        "id": "dCe75gdus5Qj"
      },
      "execution_count": 59,
      "outputs": []
    },
    {
      "cell_type": "markdown",
      "source": [
        "14. Write\tthe\tR\tcode\tthat\toutputs\tthe\t**‘Sepal.Length’**\tattribute\tvalues,\tusing\tthe **select()**\tcommand.\n"
      ],
      "metadata": {
        "id": "ZP4dY9aK-uYt"
      }
    },
    {
      "cell_type": "code",
      "source": [
        "select(myIris, c(\"Sepal.Length\"))"
      ],
      "metadata": {
        "id": "-c7rBXaB-t1T",
        "colab": {
          "base_uri": "https://localhost:8080/",
          "height": 2028
        },
        "outputId": "094bbc75-6d97-479e-dba1-df46b1d774de"
      },
      "execution_count": 64,
      "outputs": [
        {
          "output_type": "display_data",
          "data": {
            "text/html": [
              "<table class=\"dataframe\">\n",
              "<caption>A data.frame: 150 × 1</caption>\n",
              "<thead>\n",
              "\t<tr><th scope=col>Sepal.Length</th></tr>\n",
              "\t<tr><th scope=col>&lt;dbl&gt;</th></tr>\n",
              "</thead>\n",
              "<tbody>\n",
              "\t<tr><td>5.1</td></tr>\n",
              "\t<tr><td>4.9</td></tr>\n",
              "\t<tr><td>4.7</td></tr>\n",
              "\t<tr><td>4.6</td></tr>\n",
              "\t<tr><td>5.0</td></tr>\n",
              "\t<tr><td>5.4</td></tr>\n",
              "\t<tr><td>4.6</td></tr>\n",
              "\t<tr><td>5.0</td></tr>\n",
              "\t<tr><td>4.4</td></tr>\n",
              "\t<tr><td>4.9</td></tr>\n",
              "\t<tr><td>5.4</td></tr>\n",
              "\t<tr><td>4.8</td></tr>\n",
              "\t<tr><td>4.8</td></tr>\n",
              "\t<tr><td>4.3</td></tr>\n",
              "\t<tr><td>5.8</td></tr>\n",
              "\t<tr><td>5.7</td></tr>\n",
              "\t<tr><td>5.4</td></tr>\n",
              "\t<tr><td>5.1</td></tr>\n",
              "\t<tr><td>5.7</td></tr>\n",
              "\t<tr><td>5.1</td></tr>\n",
              "\t<tr><td>5.4</td></tr>\n",
              "\t<tr><td>5.1</td></tr>\n",
              "\t<tr><td>4.6</td></tr>\n",
              "\t<tr><td>5.1</td></tr>\n",
              "\t<tr><td>4.8</td></tr>\n",
              "\t<tr><td>5.0</td></tr>\n",
              "\t<tr><td>5.0</td></tr>\n",
              "\t<tr><td>5.2</td></tr>\n",
              "\t<tr><td>5.2</td></tr>\n",
              "\t<tr><td>4.7</td></tr>\n",
              "\t<tr><td>⋮</td></tr>\n",
              "\t<tr><td>6.9</td></tr>\n",
              "\t<tr><td>5.6</td></tr>\n",
              "\t<tr><td>7.7</td></tr>\n",
              "\t<tr><td>6.3</td></tr>\n",
              "\t<tr><td>6.7</td></tr>\n",
              "\t<tr><td>7.2</td></tr>\n",
              "\t<tr><td>6.2</td></tr>\n",
              "\t<tr><td>6.1</td></tr>\n",
              "\t<tr><td>6.4</td></tr>\n",
              "\t<tr><td>7.2</td></tr>\n",
              "\t<tr><td>7.4</td></tr>\n",
              "\t<tr><td>7.9</td></tr>\n",
              "\t<tr><td>6.4</td></tr>\n",
              "\t<tr><td>6.3</td></tr>\n",
              "\t<tr><td>6.1</td></tr>\n",
              "\t<tr><td>7.7</td></tr>\n",
              "\t<tr><td>6.3</td></tr>\n",
              "\t<tr><td>6.4</td></tr>\n",
              "\t<tr><td>6.0</td></tr>\n",
              "\t<tr><td>6.9</td></tr>\n",
              "\t<tr><td>6.7</td></tr>\n",
              "\t<tr><td>6.9</td></tr>\n",
              "\t<tr><td>5.8</td></tr>\n",
              "\t<tr><td>6.8</td></tr>\n",
              "\t<tr><td>6.7</td></tr>\n",
              "\t<tr><td>6.7</td></tr>\n",
              "\t<tr><td>6.3</td></tr>\n",
              "\t<tr><td>6.5</td></tr>\n",
              "\t<tr><td>6.2</td></tr>\n",
              "\t<tr><td>5.9</td></tr>\n",
              "</tbody>\n",
              "</table>\n"
            ],
            "text/markdown": "\nA data.frame: 150 × 1\n\n| Sepal.Length &lt;dbl&gt; |\n|---|\n| 5.1 |\n| 4.9 |\n| 4.7 |\n| 4.6 |\n| 5.0 |\n| 5.4 |\n| 4.6 |\n| 5.0 |\n| 4.4 |\n| 4.9 |\n| 5.4 |\n| 4.8 |\n| 4.8 |\n| 4.3 |\n| 5.8 |\n| 5.7 |\n| 5.4 |\n| 5.1 |\n| 5.7 |\n| 5.1 |\n| 5.4 |\n| 5.1 |\n| 4.6 |\n| 5.1 |\n| 4.8 |\n| 5.0 |\n| 5.0 |\n| 5.2 |\n| 5.2 |\n| 4.7 |\n| ⋮ |\n| 6.9 |\n| 5.6 |\n| 7.7 |\n| 6.3 |\n| 6.7 |\n| 7.2 |\n| 6.2 |\n| 6.1 |\n| 6.4 |\n| 7.2 |\n| 7.4 |\n| 7.9 |\n| 6.4 |\n| 6.3 |\n| 6.1 |\n| 7.7 |\n| 6.3 |\n| 6.4 |\n| 6.0 |\n| 6.9 |\n| 6.7 |\n| 6.9 |\n| 5.8 |\n| 6.8 |\n| 6.7 |\n| 6.7 |\n| 6.3 |\n| 6.5 |\n| 6.2 |\n| 5.9 |\n\n",
            "text/latex": "A data.frame: 150 × 1\n\\begin{tabular}{l}\n Sepal.Length\\\\\n <dbl>\\\\\n\\hline\n\t 5.1\\\\\n\t 4.9\\\\\n\t 4.7\\\\\n\t 4.6\\\\\n\t 5.0\\\\\n\t 5.4\\\\\n\t 4.6\\\\\n\t 5.0\\\\\n\t 4.4\\\\\n\t 4.9\\\\\n\t 5.4\\\\\n\t 4.8\\\\\n\t 4.8\\\\\n\t 4.3\\\\\n\t 5.8\\\\\n\t 5.7\\\\\n\t 5.4\\\\\n\t 5.1\\\\\n\t 5.7\\\\\n\t 5.1\\\\\n\t 5.4\\\\\n\t 5.1\\\\\n\t 4.6\\\\\n\t 5.1\\\\\n\t 4.8\\\\\n\t 5.0\\\\\n\t 5.0\\\\\n\t 5.2\\\\\n\t 5.2\\\\\n\t 4.7\\\\\n\t ⋮\\\\\n\t 6.9\\\\\n\t 5.6\\\\\n\t 7.7\\\\\n\t 6.3\\\\\n\t 6.7\\\\\n\t 7.2\\\\\n\t 6.2\\\\\n\t 6.1\\\\\n\t 6.4\\\\\n\t 7.2\\\\\n\t 7.4\\\\\n\t 7.9\\\\\n\t 6.4\\\\\n\t 6.3\\\\\n\t 6.1\\\\\n\t 7.7\\\\\n\t 6.3\\\\\n\t 6.4\\\\\n\t 6.0\\\\\n\t 6.9\\\\\n\t 6.7\\\\\n\t 6.9\\\\\n\t 5.8\\\\\n\t 6.8\\\\\n\t 6.7\\\\\n\t 6.7\\\\\n\t 6.3\\\\\n\t 6.5\\\\\n\t 6.2\\\\\n\t 5.9\\\\\n\\end{tabular}\n",
            "text/plain": [
              "    Sepal.Length\n",
              "1   5.1         \n",
              "2   4.9         \n",
              "3   4.7         \n",
              "4   4.6         \n",
              "5   5.0         \n",
              "6   5.4         \n",
              "7   4.6         \n",
              "8   5.0         \n",
              "9   4.4         \n",
              "10  4.9         \n",
              "11  5.4         \n",
              "12  4.8         \n",
              "13  4.8         \n",
              "14  4.3         \n",
              "15  5.8         \n",
              "16  5.7         \n",
              "17  5.4         \n",
              "18  5.1         \n",
              "19  5.7         \n",
              "20  5.1         \n",
              "21  5.4         \n",
              "22  5.1         \n",
              "23  4.6         \n",
              "24  5.1         \n",
              "25  4.8         \n",
              "26  5.0         \n",
              "27  5.0         \n",
              "28  5.2         \n",
              "29  5.2         \n",
              "30  4.7         \n",
              "⋮   ⋮           \n",
              "121 6.9         \n",
              "122 5.6         \n",
              "123 7.7         \n",
              "124 6.3         \n",
              "125 6.7         \n",
              "126 7.2         \n",
              "127 6.2         \n",
              "128 6.1         \n",
              "129 6.4         \n",
              "130 7.2         \n",
              "131 7.4         \n",
              "132 7.9         \n",
              "133 6.4         \n",
              "134 6.3         \n",
              "135 6.1         \n",
              "136 7.7         \n",
              "137 6.3         \n",
              "138 6.4         \n",
              "139 6.0         \n",
              "140 6.9         \n",
              "141 6.7         \n",
              "142 6.9         \n",
              "143 5.8         \n",
              "144 6.8         \n",
              "145 6.7         \n",
              "146 6.7         \n",
              "147 6.3         \n",
              "148 6.5         \n",
              "149 6.2         \n",
              "150 5.9         "
            ]
          },
          "metadata": {}
        }
      ]
    },
    {
      "cell_type": "markdown",
      "source": [
        "15. Create\ta\tnew\tcolumn\t(called\t**‘Ave.Length’**)\tin\t**myIris**,\twhich,\tfor\teach\trow,\tis\tthe average\tof\t**Sepal.Length**\tand\t**Petal.Length**.\n"
      ],
      "metadata": {
        "id": "nwSPIKrI-4gb"
      }
    },
    {
      "cell_type": "code",
      "source": [
        "averageLength <- (myIris$Sepal.Length + myIris$Petal.Length)/2\n",
        "myIris <- myIris %>%\n",
        "  add_column(Ave.Length = averageLength)\n",
        "myIris"
      ],
      "metadata": {
        "id": "ugdsIc6P-_SJ",
        "colab": {
          "base_uri": "https://localhost:8080/",
          "height": 2011
        },
        "outputId": "e671b042-4404-46b0-d65b-e45a9d68e622"
      },
      "execution_count": 71,
      "outputs": [
        {
          "output_type": "display_data",
          "data": {
            "text/html": [
              "<table class=\"dataframe\">\n",
              "<caption>A data.frame: 150 × 6</caption>\n",
              "<thead>\n",
              "\t<tr><th scope=col>Sepal.Length</th><th scope=col>Sepal.Width</th><th scope=col>Petal.Length</th><th scope=col>Petal.Width</th><th scope=col>Species</th><th scope=col>Ave.Length</th></tr>\n",
              "\t<tr><th scope=col>&lt;dbl&gt;</th><th scope=col>&lt;dbl&gt;</th><th scope=col>&lt;dbl&gt;</th><th scope=col>&lt;dbl&gt;</th><th scope=col>&lt;fct&gt;</th><th scope=col>&lt;dbl&gt;</th></tr>\n",
              "</thead>\n",
              "<tbody>\n",
              "\t<tr><td>5.1</td><td>3.5</td><td>1.4</td><td>0.2</td><td>setosa</td><td>3.25</td></tr>\n",
              "\t<tr><td>4.9</td><td>3.0</td><td>1.4</td><td>0.2</td><td>setosa</td><td>3.15</td></tr>\n",
              "\t<tr><td>4.7</td><td>3.2</td><td>1.3</td><td>0.2</td><td>setosa</td><td>3.00</td></tr>\n",
              "\t<tr><td>4.6</td><td>3.1</td><td>1.5</td><td>0.2</td><td>setosa</td><td>3.05</td></tr>\n",
              "\t<tr><td>5.0</td><td>3.6</td><td>1.4</td><td>0.2</td><td>setosa</td><td>3.20</td></tr>\n",
              "\t<tr><td>5.4</td><td>3.9</td><td>1.7</td><td>0.4</td><td>setosa</td><td>3.55</td></tr>\n",
              "\t<tr><td>4.6</td><td>3.4</td><td>1.4</td><td>0.3</td><td>setosa</td><td>3.00</td></tr>\n",
              "\t<tr><td>5.0</td><td>3.4</td><td>1.5</td><td>0.2</td><td>setosa</td><td>3.25</td></tr>\n",
              "\t<tr><td>4.4</td><td>2.9</td><td>1.4</td><td>0.2</td><td>setosa</td><td>2.90</td></tr>\n",
              "\t<tr><td>4.9</td><td>3.1</td><td>1.5</td><td>0.1</td><td>setosa</td><td>3.20</td></tr>\n",
              "\t<tr><td>5.4</td><td>3.7</td><td>1.5</td><td>0.2</td><td>setosa</td><td>3.45</td></tr>\n",
              "\t<tr><td>4.8</td><td>3.4</td><td>1.6</td><td>0.2</td><td>setosa</td><td>3.20</td></tr>\n",
              "\t<tr><td>4.8</td><td>3.0</td><td>1.4</td><td>0.1</td><td>setosa</td><td>3.10</td></tr>\n",
              "\t<tr><td>4.3</td><td>3.0</td><td>1.1</td><td>0.1</td><td>setosa</td><td>2.70</td></tr>\n",
              "\t<tr><td>5.8</td><td>4.0</td><td>1.2</td><td>0.2</td><td>setosa</td><td>3.50</td></tr>\n",
              "\t<tr><td>5.7</td><td>4.4</td><td>1.5</td><td>0.4</td><td>setosa</td><td>3.60</td></tr>\n",
              "\t<tr><td>5.4</td><td>3.9</td><td>1.3</td><td>0.4</td><td>setosa</td><td>3.35</td></tr>\n",
              "\t<tr><td>5.1</td><td>3.5</td><td>1.4</td><td>0.3</td><td>setosa</td><td>3.25</td></tr>\n",
              "\t<tr><td>5.7</td><td>3.8</td><td>1.7</td><td>0.3</td><td>setosa</td><td>3.70</td></tr>\n",
              "\t<tr><td>5.1</td><td>3.8</td><td>1.5</td><td>0.3</td><td>setosa</td><td>3.30</td></tr>\n",
              "\t<tr><td>5.4</td><td>3.4</td><td>1.7</td><td>0.2</td><td>setosa</td><td>3.55</td></tr>\n",
              "\t<tr><td>5.1</td><td>3.7</td><td>1.5</td><td>0.4</td><td>setosa</td><td>3.30</td></tr>\n",
              "\t<tr><td>4.6</td><td>3.6</td><td>1.0</td><td>0.2</td><td>setosa</td><td>2.80</td></tr>\n",
              "\t<tr><td>5.1</td><td>3.3</td><td>1.7</td><td>0.5</td><td>setosa</td><td>3.40</td></tr>\n",
              "\t<tr><td>4.8</td><td>3.4</td><td>1.9</td><td>0.2</td><td>setosa</td><td>3.35</td></tr>\n",
              "\t<tr><td>5.0</td><td>3.0</td><td>1.6</td><td>0.2</td><td>setosa</td><td>3.30</td></tr>\n",
              "\t<tr><td>5.0</td><td>3.4</td><td>1.6</td><td>0.4</td><td>setosa</td><td>3.30</td></tr>\n",
              "\t<tr><td>5.2</td><td>3.5</td><td>1.5</td><td>0.2</td><td>setosa</td><td>3.35</td></tr>\n",
              "\t<tr><td>5.2</td><td>3.4</td><td>1.4</td><td>0.2</td><td>setosa</td><td>3.30</td></tr>\n",
              "\t<tr><td>4.7</td><td>3.2</td><td>1.6</td><td>0.2</td><td>setosa</td><td>3.15</td></tr>\n",
              "\t<tr><td>⋮</td><td>⋮</td><td>⋮</td><td>⋮</td><td>⋮</td><td>⋮</td></tr>\n",
              "\t<tr><td>6.9</td><td>3.2</td><td>5.7</td><td>2.3</td><td>virginica</td><td>6.30</td></tr>\n",
              "\t<tr><td>5.6</td><td>2.8</td><td>4.9</td><td>2.0</td><td>virginica</td><td>5.25</td></tr>\n",
              "\t<tr><td>7.7</td><td>2.8</td><td>6.7</td><td>2.0</td><td>virginica</td><td>7.20</td></tr>\n",
              "\t<tr><td>6.3</td><td>2.7</td><td>4.9</td><td>1.8</td><td>virginica</td><td>5.60</td></tr>\n",
              "\t<tr><td>6.7</td><td>3.3</td><td>5.7</td><td>2.1</td><td>virginica</td><td>6.20</td></tr>\n",
              "\t<tr><td>7.2</td><td>3.2</td><td>6.0</td><td>1.8</td><td>virginica</td><td>6.60</td></tr>\n",
              "\t<tr><td>6.2</td><td>2.8</td><td>4.8</td><td>1.8</td><td>virginica</td><td>5.50</td></tr>\n",
              "\t<tr><td>6.1</td><td>3.0</td><td>4.9</td><td>1.8</td><td>virginica</td><td>5.50</td></tr>\n",
              "\t<tr><td>6.4</td><td>2.8</td><td>5.6</td><td>2.1</td><td>virginica</td><td>6.00</td></tr>\n",
              "\t<tr><td>7.2</td><td>3.0</td><td>5.8</td><td>1.6</td><td>virginica</td><td>6.50</td></tr>\n",
              "\t<tr><td>7.4</td><td>2.8</td><td>6.1</td><td>1.9</td><td>virginica</td><td>6.75</td></tr>\n",
              "\t<tr><td>7.9</td><td>3.8</td><td>6.4</td><td>2.0</td><td>virginica</td><td>7.15</td></tr>\n",
              "\t<tr><td>6.4</td><td>2.8</td><td>5.6</td><td>2.2</td><td>virginica</td><td>6.00</td></tr>\n",
              "\t<tr><td>6.3</td><td>2.8</td><td>5.1</td><td>1.5</td><td>virginica</td><td>5.70</td></tr>\n",
              "\t<tr><td>6.1</td><td>2.6</td><td>5.6</td><td>1.4</td><td>virginica</td><td>5.85</td></tr>\n",
              "\t<tr><td>7.7</td><td>3.0</td><td>6.1</td><td>2.3</td><td>virginica</td><td>6.90</td></tr>\n",
              "\t<tr><td>6.3</td><td>3.4</td><td>5.6</td><td>2.4</td><td>virginica</td><td>5.95</td></tr>\n",
              "\t<tr><td>6.4</td><td>3.1</td><td>5.5</td><td>1.8</td><td>virginica</td><td>5.95</td></tr>\n",
              "\t<tr><td>6.0</td><td>3.0</td><td>4.8</td><td>1.8</td><td>virginica</td><td>5.40</td></tr>\n",
              "\t<tr><td>6.9</td><td>3.1</td><td>5.4</td><td>2.1</td><td>virginica</td><td>6.15</td></tr>\n",
              "\t<tr><td>6.7</td><td>3.1</td><td>5.6</td><td>2.4</td><td>virginica</td><td>6.15</td></tr>\n",
              "\t<tr><td>6.9</td><td>3.1</td><td>5.1</td><td>2.3</td><td>virginica</td><td>6.00</td></tr>\n",
              "\t<tr><td>5.8</td><td>2.7</td><td>5.1</td><td>1.9</td><td>virginica</td><td>5.45</td></tr>\n",
              "\t<tr><td>6.8</td><td>3.2</td><td>5.9</td><td>2.3</td><td>virginica</td><td>6.35</td></tr>\n",
              "\t<tr><td>6.7</td><td>3.3</td><td>5.7</td><td>2.5</td><td>virginica</td><td>6.20</td></tr>\n",
              "\t<tr><td>6.7</td><td>3.0</td><td>5.2</td><td>2.3</td><td>virginica</td><td>5.95</td></tr>\n",
              "\t<tr><td>6.3</td><td>2.5</td><td>5.0</td><td>1.9</td><td>virginica</td><td>5.65</td></tr>\n",
              "\t<tr><td>6.5</td><td>3.0</td><td>5.2</td><td>2.0</td><td>virginica</td><td>5.85</td></tr>\n",
              "\t<tr><td>6.2</td><td>3.4</td><td>5.4</td><td>2.3</td><td>virginica</td><td>5.80</td></tr>\n",
              "\t<tr><td>5.9</td><td>3.0</td><td>5.1</td><td>1.8</td><td>virginica</td><td>5.50</td></tr>\n",
              "</tbody>\n",
              "</table>\n"
            ],
            "text/markdown": "\nA data.frame: 150 × 6\n\n| Sepal.Length &lt;dbl&gt; | Sepal.Width &lt;dbl&gt; | Petal.Length &lt;dbl&gt; | Petal.Width &lt;dbl&gt; | Species &lt;fct&gt; | Ave.Length &lt;dbl&gt; |\n|---|---|---|---|---|---|\n| 5.1 | 3.5 | 1.4 | 0.2 | setosa | 3.25 |\n| 4.9 | 3.0 | 1.4 | 0.2 | setosa | 3.15 |\n| 4.7 | 3.2 | 1.3 | 0.2 | setosa | 3.00 |\n| 4.6 | 3.1 | 1.5 | 0.2 | setosa | 3.05 |\n| 5.0 | 3.6 | 1.4 | 0.2 | setosa | 3.20 |\n| 5.4 | 3.9 | 1.7 | 0.4 | setosa | 3.55 |\n| 4.6 | 3.4 | 1.4 | 0.3 | setosa | 3.00 |\n| 5.0 | 3.4 | 1.5 | 0.2 | setosa | 3.25 |\n| 4.4 | 2.9 | 1.4 | 0.2 | setosa | 2.90 |\n| 4.9 | 3.1 | 1.5 | 0.1 | setosa | 3.20 |\n| 5.4 | 3.7 | 1.5 | 0.2 | setosa | 3.45 |\n| 4.8 | 3.4 | 1.6 | 0.2 | setosa | 3.20 |\n| 4.8 | 3.0 | 1.4 | 0.1 | setosa | 3.10 |\n| 4.3 | 3.0 | 1.1 | 0.1 | setosa | 2.70 |\n| 5.8 | 4.0 | 1.2 | 0.2 | setosa | 3.50 |\n| 5.7 | 4.4 | 1.5 | 0.4 | setosa | 3.60 |\n| 5.4 | 3.9 | 1.3 | 0.4 | setosa | 3.35 |\n| 5.1 | 3.5 | 1.4 | 0.3 | setosa | 3.25 |\n| 5.7 | 3.8 | 1.7 | 0.3 | setosa | 3.70 |\n| 5.1 | 3.8 | 1.5 | 0.3 | setosa | 3.30 |\n| 5.4 | 3.4 | 1.7 | 0.2 | setosa | 3.55 |\n| 5.1 | 3.7 | 1.5 | 0.4 | setosa | 3.30 |\n| 4.6 | 3.6 | 1.0 | 0.2 | setosa | 2.80 |\n| 5.1 | 3.3 | 1.7 | 0.5 | setosa | 3.40 |\n| 4.8 | 3.4 | 1.9 | 0.2 | setosa | 3.35 |\n| 5.0 | 3.0 | 1.6 | 0.2 | setosa | 3.30 |\n| 5.0 | 3.4 | 1.6 | 0.4 | setosa | 3.30 |\n| 5.2 | 3.5 | 1.5 | 0.2 | setosa | 3.35 |\n| 5.2 | 3.4 | 1.4 | 0.2 | setosa | 3.30 |\n| 4.7 | 3.2 | 1.6 | 0.2 | setosa | 3.15 |\n| ⋮ | ⋮ | ⋮ | ⋮ | ⋮ | ⋮ |\n| 6.9 | 3.2 | 5.7 | 2.3 | virginica | 6.30 |\n| 5.6 | 2.8 | 4.9 | 2.0 | virginica | 5.25 |\n| 7.7 | 2.8 | 6.7 | 2.0 | virginica | 7.20 |\n| 6.3 | 2.7 | 4.9 | 1.8 | virginica | 5.60 |\n| 6.7 | 3.3 | 5.7 | 2.1 | virginica | 6.20 |\n| 7.2 | 3.2 | 6.0 | 1.8 | virginica | 6.60 |\n| 6.2 | 2.8 | 4.8 | 1.8 | virginica | 5.50 |\n| 6.1 | 3.0 | 4.9 | 1.8 | virginica | 5.50 |\n| 6.4 | 2.8 | 5.6 | 2.1 | virginica | 6.00 |\n| 7.2 | 3.0 | 5.8 | 1.6 | virginica | 6.50 |\n| 7.4 | 2.8 | 6.1 | 1.9 | virginica | 6.75 |\n| 7.9 | 3.8 | 6.4 | 2.0 | virginica | 7.15 |\n| 6.4 | 2.8 | 5.6 | 2.2 | virginica | 6.00 |\n| 6.3 | 2.8 | 5.1 | 1.5 | virginica | 5.70 |\n| 6.1 | 2.6 | 5.6 | 1.4 | virginica | 5.85 |\n| 7.7 | 3.0 | 6.1 | 2.3 | virginica | 6.90 |\n| 6.3 | 3.4 | 5.6 | 2.4 | virginica | 5.95 |\n| 6.4 | 3.1 | 5.5 | 1.8 | virginica | 5.95 |\n| 6.0 | 3.0 | 4.8 | 1.8 | virginica | 5.40 |\n| 6.9 | 3.1 | 5.4 | 2.1 | virginica | 6.15 |\n| 6.7 | 3.1 | 5.6 | 2.4 | virginica | 6.15 |\n| 6.9 | 3.1 | 5.1 | 2.3 | virginica | 6.00 |\n| 5.8 | 2.7 | 5.1 | 1.9 | virginica | 5.45 |\n| 6.8 | 3.2 | 5.9 | 2.3 | virginica | 6.35 |\n| 6.7 | 3.3 | 5.7 | 2.5 | virginica | 6.20 |\n| 6.7 | 3.0 | 5.2 | 2.3 | virginica | 5.95 |\n| 6.3 | 2.5 | 5.0 | 1.9 | virginica | 5.65 |\n| 6.5 | 3.0 | 5.2 | 2.0 | virginica | 5.85 |\n| 6.2 | 3.4 | 5.4 | 2.3 | virginica | 5.80 |\n| 5.9 | 3.0 | 5.1 | 1.8 | virginica | 5.50 |\n\n",
            "text/latex": "A data.frame: 150 × 6\n\\begin{tabular}{llllll}\n Sepal.Length & Sepal.Width & Petal.Length & Petal.Width & Species & Ave.Length\\\\\n <dbl> & <dbl> & <dbl> & <dbl> & <fct> & <dbl>\\\\\n\\hline\n\t 5.1 & 3.5 & 1.4 & 0.2 & setosa & 3.25\\\\\n\t 4.9 & 3.0 & 1.4 & 0.2 & setosa & 3.15\\\\\n\t 4.7 & 3.2 & 1.3 & 0.2 & setosa & 3.00\\\\\n\t 4.6 & 3.1 & 1.5 & 0.2 & setosa & 3.05\\\\\n\t 5.0 & 3.6 & 1.4 & 0.2 & setosa & 3.20\\\\\n\t 5.4 & 3.9 & 1.7 & 0.4 & setosa & 3.55\\\\\n\t 4.6 & 3.4 & 1.4 & 0.3 & setosa & 3.00\\\\\n\t 5.0 & 3.4 & 1.5 & 0.2 & setosa & 3.25\\\\\n\t 4.4 & 2.9 & 1.4 & 0.2 & setosa & 2.90\\\\\n\t 4.9 & 3.1 & 1.5 & 0.1 & setosa & 3.20\\\\\n\t 5.4 & 3.7 & 1.5 & 0.2 & setosa & 3.45\\\\\n\t 4.8 & 3.4 & 1.6 & 0.2 & setosa & 3.20\\\\\n\t 4.8 & 3.0 & 1.4 & 0.1 & setosa & 3.10\\\\\n\t 4.3 & 3.0 & 1.1 & 0.1 & setosa & 2.70\\\\\n\t 5.8 & 4.0 & 1.2 & 0.2 & setosa & 3.50\\\\\n\t 5.7 & 4.4 & 1.5 & 0.4 & setosa & 3.60\\\\\n\t 5.4 & 3.9 & 1.3 & 0.4 & setosa & 3.35\\\\\n\t 5.1 & 3.5 & 1.4 & 0.3 & setosa & 3.25\\\\\n\t 5.7 & 3.8 & 1.7 & 0.3 & setosa & 3.70\\\\\n\t 5.1 & 3.8 & 1.5 & 0.3 & setosa & 3.30\\\\\n\t 5.4 & 3.4 & 1.7 & 0.2 & setosa & 3.55\\\\\n\t 5.1 & 3.7 & 1.5 & 0.4 & setosa & 3.30\\\\\n\t 4.6 & 3.6 & 1.0 & 0.2 & setosa & 2.80\\\\\n\t 5.1 & 3.3 & 1.7 & 0.5 & setosa & 3.40\\\\\n\t 4.8 & 3.4 & 1.9 & 0.2 & setosa & 3.35\\\\\n\t 5.0 & 3.0 & 1.6 & 0.2 & setosa & 3.30\\\\\n\t 5.0 & 3.4 & 1.6 & 0.4 & setosa & 3.30\\\\\n\t 5.2 & 3.5 & 1.5 & 0.2 & setosa & 3.35\\\\\n\t 5.2 & 3.4 & 1.4 & 0.2 & setosa & 3.30\\\\\n\t 4.7 & 3.2 & 1.6 & 0.2 & setosa & 3.15\\\\\n\t ⋮ & ⋮ & ⋮ & ⋮ & ⋮ & ⋮\\\\\n\t 6.9 & 3.2 & 5.7 & 2.3 & virginica & 6.30\\\\\n\t 5.6 & 2.8 & 4.9 & 2.0 & virginica & 5.25\\\\\n\t 7.7 & 2.8 & 6.7 & 2.0 & virginica & 7.20\\\\\n\t 6.3 & 2.7 & 4.9 & 1.8 & virginica & 5.60\\\\\n\t 6.7 & 3.3 & 5.7 & 2.1 & virginica & 6.20\\\\\n\t 7.2 & 3.2 & 6.0 & 1.8 & virginica & 6.60\\\\\n\t 6.2 & 2.8 & 4.8 & 1.8 & virginica & 5.50\\\\\n\t 6.1 & 3.0 & 4.9 & 1.8 & virginica & 5.50\\\\\n\t 6.4 & 2.8 & 5.6 & 2.1 & virginica & 6.00\\\\\n\t 7.2 & 3.0 & 5.8 & 1.6 & virginica & 6.50\\\\\n\t 7.4 & 2.8 & 6.1 & 1.9 & virginica & 6.75\\\\\n\t 7.9 & 3.8 & 6.4 & 2.0 & virginica & 7.15\\\\\n\t 6.4 & 2.8 & 5.6 & 2.2 & virginica & 6.00\\\\\n\t 6.3 & 2.8 & 5.1 & 1.5 & virginica & 5.70\\\\\n\t 6.1 & 2.6 & 5.6 & 1.4 & virginica & 5.85\\\\\n\t 7.7 & 3.0 & 6.1 & 2.3 & virginica & 6.90\\\\\n\t 6.3 & 3.4 & 5.6 & 2.4 & virginica & 5.95\\\\\n\t 6.4 & 3.1 & 5.5 & 1.8 & virginica & 5.95\\\\\n\t 6.0 & 3.0 & 4.8 & 1.8 & virginica & 5.40\\\\\n\t 6.9 & 3.1 & 5.4 & 2.1 & virginica & 6.15\\\\\n\t 6.7 & 3.1 & 5.6 & 2.4 & virginica & 6.15\\\\\n\t 6.9 & 3.1 & 5.1 & 2.3 & virginica & 6.00\\\\\n\t 5.8 & 2.7 & 5.1 & 1.9 & virginica & 5.45\\\\\n\t 6.8 & 3.2 & 5.9 & 2.3 & virginica & 6.35\\\\\n\t 6.7 & 3.3 & 5.7 & 2.5 & virginica & 6.20\\\\\n\t 6.7 & 3.0 & 5.2 & 2.3 & virginica & 5.95\\\\\n\t 6.3 & 2.5 & 5.0 & 1.9 & virginica & 5.65\\\\\n\t 6.5 & 3.0 & 5.2 & 2.0 & virginica & 5.85\\\\\n\t 6.2 & 3.4 & 5.4 & 2.3 & virginica & 5.80\\\\\n\t 5.9 & 3.0 & 5.1 & 1.8 & virginica & 5.50\\\\\n\\end{tabular}\n",
            "text/plain": [
              "    Sepal.Length Sepal.Width Petal.Length Petal.Width Species   Ave.Length\n",
              "1   5.1          3.5         1.4          0.2         setosa    3.25      \n",
              "2   4.9          3.0         1.4          0.2         setosa    3.15      \n",
              "3   4.7          3.2         1.3          0.2         setosa    3.00      \n",
              "4   4.6          3.1         1.5          0.2         setosa    3.05      \n",
              "5   5.0          3.6         1.4          0.2         setosa    3.20      \n",
              "6   5.4          3.9         1.7          0.4         setosa    3.55      \n",
              "7   4.6          3.4         1.4          0.3         setosa    3.00      \n",
              "8   5.0          3.4         1.5          0.2         setosa    3.25      \n",
              "9   4.4          2.9         1.4          0.2         setosa    2.90      \n",
              "10  4.9          3.1         1.5          0.1         setosa    3.20      \n",
              "11  5.4          3.7         1.5          0.2         setosa    3.45      \n",
              "12  4.8          3.4         1.6          0.2         setosa    3.20      \n",
              "13  4.8          3.0         1.4          0.1         setosa    3.10      \n",
              "14  4.3          3.0         1.1          0.1         setosa    2.70      \n",
              "15  5.8          4.0         1.2          0.2         setosa    3.50      \n",
              "16  5.7          4.4         1.5          0.4         setosa    3.60      \n",
              "17  5.4          3.9         1.3          0.4         setosa    3.35      \n",
              "18  5.1          3.5         1.4          0.3         setosa    3.25      \n",
              "19  5.7          3.8         1.7          0.3         setosa    3.70      \n",
              "20  5.1          3.8         1.5          0.3         setosa    3.30      \n",
              "21  5.4          3.4         1.7          0.2         setosa    3.55      \n",
              "22  5.1          3.7         1.5          0.4         setosa    3.30      \n",
              "23  4.6          3.6         1.0          0.2         setosa    2.80      \n",
              "24  5.1          3.3         1.7          0.5         setosa    3.40      \n",
              "25  4.8          3.4         1.9          0.2         setosa    3.35      \n",
              "26  5.0          3.0         1.6          0.2         setosa    3.30      \n",
              "27  5.0          3.4         1.6          0.4         setosa    3.30      \n",
              "28  5.2          3.5         1.5          0.2         setosa    3.35      \n",
              "29  5.2          3.4         1.4          0.2         setosa    3.30      \n",
              "30  4.7          3.2         1.6          0.2         setosa    3.15      \n",
              "⋮   ⋮            ⋮           ⋮            ⋮           ⋮         ⋮         \n",
              "121 6.9          3.2         5.7          2.3         virginica 6.30      \n",
              "122 5.6          2.8         4.9          2.0         virginica 5.25      \n",
              "123 7.7          2.8         6.7          2.0         virginica 7.20      \n",
              "124 6.3          2.7         4.9          1.8         virginica 5.60      \n",
              "125 6.7          3.3         5.7          2.1         virginica 6.20      \n",
              "126 7.2          3.2         6.0          1.8         virginica 6.60      \n",
              "127 6.2          2.8         4.8          1.8         virginica 5.50      \n",
              "128 6.1          3.0         4.9          1.8         virginica 5.50      \n",
              "129 6.4          2.8         5.6          2.1         virginica 6.00      \n",
              "130 7.2          3.0         5.8          1.6         virginica 6.50      \n",
              "131 7.4          2.8         6.1          1.9         virginica 6.75      \n",
              "132 7.9          3.8         6.4          2.0         virginica 7.15      \n",
              "133 6.4          2.8         5.6          2.2         virginica 6.00      \n",
              "134 6.3          2.8         5.1          1.5         virginica 5.70      \n",
              "135 6.1          2.6         5.6          1.4         virginica 5.85      \n",
              "136 7.7          3.0         6.1          2.3         virginica 6.90      \n",
              "137 6.3          3.4         5.6          2.4         virginica 5.95      \n",
              "138 6.4          3.1         5.5          1.8         virginica 5.95      \n",
              "139 6.0          3.0         4.8          1.8         virginica 5.40      \n",
              "140 6.9          3.1         5.4          2.1         virginica 6.15      \n",
              "141 6.7          3.1         5.6          2.4         virginica 6.15      \n",
              "142 6.9          3.1         5.1          2.3         virginica 6.00      \n",
              "143 5.8          2.7         5.1          1.9         virginica 5.45      \n",
              "144 6.8          3.2         5.9          2.3         virginica 6.35      \n",
              "145 6.7          3.3         5.7          2.5         virginica 6.20      \n",
              "146 6.7          3.0         5.2          2.3         virginica 5.95      \n",
              "147 6.3          2.5         5.0          1.9         virginica 5.65      \n",
              "148 6.5          3.0         5.2          2.0         virginica 5.85      \n",
              "149 6.2          3.4         5.4          2.3         virginica 5.80      \n",
              "150 5.9          3.0         5.1          1.8         virginica 5.50      "
            ]
          },
          "metadata": {}
        }
      ]
    },
    {
      "cell_type": "markdown",
      "source": [
        "16. What\tdoes\tthe\tfollowing\tline\tof\tcode\tdo:<br>\n",
        "`which.min(myIris$Petal.Length)`\n"
      ],
      "metadata": {
        "id": "4TFf5rdm-_bH"
      }
    },
    {
      "cell_type": "code",
      "source": [
        "which.min(myIris$Petal.Length)"
      ],
      "metadata": {
        "id": "6Durf51A_C1J",
        "colab": {
          "base_uri": "https://localhost:8080/",
          "height": 34
        },
        "outputId": "6aaf7a11-b77f-4694-daaf-c602eeff7518"
      },
      "execution_count": 72,
      "outputs": [
        {
          "output_type": "display_data",
          "data": {
            "text/html": [
              "23"
            ],
            "text/markdown": "23",
            "text/latex": "23",
            "text/plain": [
              "[1] 23"
            ]
          },
          "metadata": {}
        }
      ]
    },
    {
      "cell_type": "code",
      "source": [
        "myIris$Petal.Length[23]"
      ],
      "metadata": {
        "colab": {
          "base_uri": "https://localhost:8080/",
          "height": 34
        },
        "id": "Y-yhLpv_yPQx",
        "outputId": "8594061a-134d-4687-8af6-0675b1587e67"
      },
      "execution_count": 73,
      "outputs": [
        {
          "output_type": "display_data",
          "data": {
            "text/html": [
              "1"
            ],
            "text/markdown": "1",
            "text/latex": "1",
            "text/plain": [
              "[1] 1"
            ]
          },
          "metadata": {}
        }
      ]
    },
    {
      "cell_type": "code",
      "source": [
        "min(myIris$Petal.Length)"
      ],
      "metadata": {
        "colab": {
          "base_uri": "https://localhost:8080/",
          "height": 34
        },
        "id": "LHgqRGFzyReE",
        "outputId": "0d15f22c-65ab-476c-b119-d4a220e7c9a7"
      },
      "execution_count": 74,
      "outputs": [
        {
          "output_type": "display_data",
          "data": {
            "text/html": [
              "1"
            ],
            "text/markdown": "1",
            "text/latex": "1",
            "text/plain": [
              "[1] 1"
            ]
          },
          "metadata": {}
        }
      ]
    },
    {
      "cell_type": "code",
      "source": [
        "# find the index of minimum value from the colume \"Petal.Length\" in myIris"
      ],
      "metadata": {
        "id": "uL2Epe-RyX9f"
      },
      "execution_count": 75,
      "outputs": []
    },
    {
      "cell_type": "markdown",
      "source": [
        "17. Using\tthe\tcode\tfrom\tthe\tprevious\tstep,\toutput\tthe\trow\t(iris\tobservation)\twith\tthe\n",
        "smallest\tpetal\tlength.\n"
      ],
      "metadata": {
        "id": "GZYa63M9_C_H"
      }
    },
    {
      "cell_type": "code",
      "source": [
        "myIris$Petal.Length[which.min(myIris$Petal.Length)]"
      ],
      "metadata": {
        "id": "nRmQW55j_GTm",
        "colab": {
          "base_uri": "https://localhost:8080/",
          "height": 34
        },
        "outputId": "e036ccc5-4eb6-4733-b0f5-2a90ee6944f3"
      },
      "execution_count": 77,
      "outputs": [
        {
          "output_type": "display_data",
          "data": {
            "text/html": [
              "1"
            ],
            "text/markdown": "1",
            "text/latex": "1",
            "text/plain": [
              "[1] 1"
            ]
          },
          "metadata": {}
        }
      ]
    },
    {
      "cell_type": "markdown",
      "source": [
        "18. Create\ta\tnew\tdataframe,\twith\tjust\tthe\t**Petal.Length**\tand\t**Petal.Width** attributes\n"
      ],
      "metadata": {
        "id": "yKrYUHZv_Gci"
      }
    },
    {
      "cell_type": "code",
      "source": [
        "newDF <-data.frame(myIris$Petal.Length,myIris$Petal.Width)\n",
        "newDF"
      ],
      "metadata": {
        "id": "TjjiZ_1e_Mlc",
        "colab": {
          "base_uri": "https://localhost:8080/",
          "height": 2011
        },
        "outputId": "b90367dd-3cc2-4ed3-ef73-d101eebdfe70"
      },
      "execution_count": 86,
      "outputs": [
        {
          "output_type": "display_data",
          "data": {
            "text/html": [
              "<table class=\"dataframe\">\n",
              "<caption>A data.frame: 150 × 2</caption>\n",
              "<thead>\n",
              "\t<tr><th scope=col>myIris.Petal.Length</th><th scope=col>myIris.Petal.Width</th></tr>\n",
              "\t<tr><th scope=col>&lt;dbl&gt;</th><th scope=col>&lt;dbl&gt;</th></tr>\n",
              "</thead>\n",
              "<tbody>\n",
              "\t<tr><td>1.4</td><td>0.2</td></tr>\n",
              "\t<tr><td>1.4</td><td>0.2</td></tr>\n",
              "\t<tr><td>1.3</td><td>0.2</td></tr>\n",
              "\t<tr><td>1.5</td><td>0.2</td></tr>\n",
              "\t<tr><td>1.4</td><td>0.2</td></tr>\n",
              "\t<tr><td>1.7</td><td>0.4</td></tr>\n",
              "\t<tr><td>1.4</td><td>0.3</td></tr>\n",
              "\t<tr><td>1.5</td><td>0.2</td></tr>\n",
              "\t<tr><td>1.4</td><td>0.2</td></tr>\n",
              "\t<tr><td>1.5</td><td>0.1</td></tr>\n",
              "\t<tr><td>1.5</td><td>0.2</td></tr>\n",
              "\t<tr><td>1.6</td><td>0.2</td></tr>\n",
              "\t<tr><td>1.4</td><td>0.1</td></tr>\n",
              "\t<tr><td>1.1</td><td>0.1</td></tr>\n",
              "\t<tr><td>1.2</td><td>0.2</td></tr>\n",
              "\t<tr><td>1.5</td><td>0.4</td></tr>\n",
              "\t<tr><td>1.3</td><td>0.4</td></tr>\n",
              "\t<tr><td>1.4</td><td>0.3</td></tr>\n",
              "\t<tr><td>1.7</td><td>0.3</td></tr>\n",
              "\t<tr><td>1.5</td><td>0.3</td></tr>\n",
              "\t<tr><td>1.7</td><td>0.2</td></tr>\n",
              "\t<tr><td>1.5</td><td>0.4</td></tr>\n",
              "\t<tr><td>1.0</td><td>0.2</td></tr>\n",
              "\t<tr><td>1.7</td><td>0.5</td></tr>\n",
              "\t<tr><td>1.9</td><td>0.2</td></tr>\n",
              "\t<tr><td>1.6</td><td>0.2</td></tr>\n",
              "\t<tr><td>1.6</td><td>0.4</td></tr>\n",
              "\t<tr><td>1.5</td><td>0.2</td></tr>\n",
              "\t<tr><td>1.4</td><td>0.2</td></tr>\n",
              "\t<tr><td>1.6</td><td>0.2</td></tr>\n",
              "\t<tr><td>⋮</td><td>⋮</td></tr>\n",
              "\t<tr><td>5.7</td><td>2.3</td></tr>\n",
              "\t<tr><td>4.9</td><td>2.0</td></tr>\n",
              "\t<tr><td>6.7</td><td>2.0</td></tr>\n",
              "\t<tr><td>4.9</td><td>1.8</td></tr>\n",
              "\t<tr><td>5.7</td><td>2.1</td></tr>\n",
              "\t<tr><td>6.0</td><td>1.8</td></tr>\n",
              "\t<tr><td>4.8</td><td>1.8</td></tr>\n",
              "\t<tr><td>4.9</td><td>1.8</td></tr>\n",
              "\t<tr><td>5.6</td><td>2.1</td></tr>\n",
              "\t<tr><td>5.8</td><td>1.6</td></tr>\n",
              "\t<tr><td>6.1</td><td>1.9</td></tr>\n",
              "\t<tr><td>6.4</td><td>2.0</td></tr>\n",
              "\t<tr><td>5.6</td><td>2.2</td></tr>\n",
              "\t<tr><td>5.1</td><td>1.5</td></tr>\n",
              "\t<tr><td>5.6</td><td>1.4</td></tr>\n",
              "\t<tr><td>6.1</td><td>2.3</td></tr>\n",
              "\t<tr><td>5.6</td><td>2.4</td></tr>\n",
              "\t<tr><td>5.5</td><td>1.8</td></tr>\n",
              "\t<tr><td>4.8</td><td>1.8</td></tr>\n",
              "\t<tr><td>5.4</td><td>2.1</td></tr>\n",
              "\t<tr><td>5.6</td><td>2.4</td></tr>\n",
              "\t<tr><td>5.1</td><td>2.3</td></tr>\n",
              "\t<tr><td>5.1</td><td>1.9</td></tr>\n",
              "\t<tr><td>5.9</td><td>2.3</td></tr>\n",
              "\t<tr><td>5.7</td><td>2.5</td></tr>\n",
              "\t<tr><td>5.2</td><td>2.3</td></tr>\n",
              "\t<tr><td>5.0</td><td>1.9</td></tr>\n",
              "\t<tr><td>5.2</td><td>2.0</td></tr>\n",
              "\t<tr><td>5.4</td><td>2.3</td></tr>\n",
              "\t<tr><td>5.1</td><td>1.8</td></tr>\n",
              "</tbody>\n",
              "</table>\n"
            ],
            "text/markdown": "\nA data.frame: 150 × 2\n\n| myIris.Petal.Length &lt;dbl&gt; | myIris.Petal.Width &lt;dbl&gt; |\n|---|---|\n| 1.4 | 0.2 |\n| 1.4 | 0.2 |\n| 1.3 | 0.2 |\n| 1.5 | 0.2 |\n| 1.4 | 0.2 |\n| 1.7 | 0.4 |\n| 1.4 | 0.3 |\n| 1.5 | 0.2 |\n| 1.4 | 0.2 |\n| 1.5 | 0.1 |\n| 1.5 | 0.2 |\n| 1.6 | 0.2 |\n| 1.4 | 0.1 |\n| 1.1 | 0.1 |\n| 1.2 | 0.2 |\n| 1.5 | 0.4 |\n| 1.3 | 0.4 |\n| 1.4 | 0.3 |\n| 1.7 | 0.3 |\n| 1.5 | 0.3 |\n| 1.7 | 0.2 |\n| 1.5 | 0.4 |\n| 1.0 | 0.2 |\n| 1.7 | 0.5 |\n| 1.9 | 0.2 |\n| 1.6 | 0.2 |\n| 1.6 | 0.4 |\n| 1.5 | 0.2 |\n| 1.4 | 0.2 |\n| 1.6 | 0.2 |\n| ⋮ | ⋮ |\n| 5.7 | 2.3 |\n| 4.9 | 2.0 |\n| 6.7 | 2.0 |\n| 4.9 | 1.8 |\n| 5.7 | 2.1 |\n| 6.0 | 1.8 |\n| 4.8 | 1.8 |\n| 4.9 | 1.8 |\n| 5.6 | 2.1 |\n| 5.8 | 1.6 |\n| 6.1 | 1.9 |\n| 6.4 | 2.0 |\n| 5.6 | 2.2 |\n| 5.1 | 1.5 |\n| 5.6 | 1.4 |\n| 6.1 | 2.3 |\n| 5.6 | 2.4 |\n| 5.5 | 1.8 |\n| 4.8 | 1.8 |\n| 5.4 | 2.1 |\n| 5.6 | 2.4 |\n| 5.1 | 2.3 |\n| 5.1 | 1.9 |\n| 5.9 | 2.3 |\n| 5.7 | 2.5 |\n| 5.2 | 2.3 |\n| 5.0 | 1.9 |\n| 5.2 | 2.0 |\n| 5.4 | 2.3 |\n| 5.1 | 1.8 |\n\n",
            "text/latex": "A data.frame: 150 × 2\n\\begin{tabular}{ll}\n myIris.Petal.Length & myIris.Petal.Width\\\\\n <dbl> & <dbl>\\\\\n\\hline\n\t 1.4 & 0.2\\\\\n\t 1.4 & 0.2\\\\\n\t 1.3 & 0.2\\\\\n\t 1.5 & 0.2\\\\\n\t 1.4 & 0.2\\\\\n\t 1.7 & 0.4\\\\\n\t 1.4 & 0.3\\\\\n\t 1.5 & 0.2\\\\\n\t 1.4 & 0.2\\\\\n\t 1.5 & 0.1\\\\\n\t 1.5 & 0.2\\\\\n\t 1.6 & 0.2\\\\\n\t 1.4 & 0.1\\\\\n\t 1.1 & 0.1\\\\\n\t 1.2 & 0.2\\\\\n\t 1.5 & 0.4\\\\\n\t 1.3 & 0.4\\\\\n\t 1.4 & 0.3\\\\\n\t 1.7 & 0.3\\\\\n\t 1.5 & 0.3\\\\\n\t 1.7 & 0.2\\\\\n\t 1.5 & 0.4\\\\\n\t 1.0 & 0.2\\\\\n\t 1.7 & 0.5\\\\\n\t 1.9 & 0.2\\\\\n\t 1.6 & 0.2\\\\\n\t 1.6 & 0.4\\\\\n\t 1.5 & 0.2\\\\\n\t 1.4 & 0.2\\\\\n\t 1.6 & 0.2\\\\\n\t ⋮ & ⋮\\\\\n\t 5.7 & 2.3\\\\\n\t 4.9 & 2.0\\\\\n\t 6.7 & 2.0\\\\\n\t 4.9 & 1.8\\\\\n\t 5.7 & 2.1\\\\\n\t 6.0 & 1.8\\\\\n\t 4.8 & 1.8\\\\\n\t 4.9 & 1.8\\\\\n\t 5.6 & 2.1\\\\\n\t 5.8 & 1.6\\\\\n\t 6.1 & 1.9\\\\\n\t 6.4 & 2.0\\\\\n\t 5.6 & 2.2\\\\\n\t 5.1 & 1.5\\\\\n\t 5.6 & 1.4\\\\\n\t 6.1 & 2.3\\\\\n\t 5.6 & 2.4\\\\\n\t 5.5 & 1.8\\\\\n\t 4.8 & 1.8\\\\\n\t 5.4 & 2.1\\\\\n\t 5.6 & 2.4\\\\\n\t 5.1 & 2.3\\\\\n\t 5.1 & 1.9\\\\\n\t 5.9 & 2.3\\\\\n\t 5.7 & 2.5\\\\\n\t 5.2 & 2.3\\\\\n\t 5.0 & 1.9\\\\\n\t 5.2 & 2.0\\\\\n\t 5.4 & 2.3\\\\\n\t 5.1 & 1.8\\\\\n\\end{tabular}\n",
            "text/plain": [
              "    myIris.Petal.Length myIris.Petal.Width\n",
              "1   1.4                 0.2               \n",
              "2   1.4                 0.2               \n",
              "3   1.3                 0.2               \n",
              "4   1.5                 0.2               \n",
              "5   1.4                 0.2               \n",
              "6   1.7                 0.4               \n",
              "7   1.4                 0.3               \n",
              "8   1.5                 0.2               \n",
              "9   1.4                 0.2               \n",
              "10  1.5                 0.1               \n",
              "11  1.5                 0.2               \n",
              "12  1.6                 0.2               \n",
              "13  1.4                 0.1               \n",
              "14  1.1                 0.1               \n",
              "15  1.2                 0.2               \n",
              "16  1.5                 0.4               \n",
              "17  1.3                 0.4               \n",
              "18  1.4                 0.3               \n",
              "19  1.7                 0.3               \n",
              "20  1.5                 0.3               \n",
              "21  1.7                 0.2               \n",
              "22  1.5                 0.4               \n",
              "23  1.0                 0.2               \n",
              "24  1.7                 0.5               \n",
              "25  1.9                 0.2               \n",
              "26  1.6                 0.2               \n",
              "27  1.6                 0.4               \n",
              "28  1.5                 0.2               \n",
              "29  1.4                 0.2               \n",
              "30  1.6                 0.2               \n",
              "⋮   ⋮                   ⋮                 \n",
              "121 5.7                 2.3               \n",
              "122 4.9                 2.0               \n",
              "123 6.7                 2.0               \n",
              "124 4.9                 1.8               \n",
              "125 5.7                 2.1               \n",
              "126 6.0                 1.8               \n",
              "127 4.8                 1.8               \n",
              "128 4.9                 1.8               \n",
              "129 5.6                 2.1               \n",
              "130 5.8                 1.6               \n",
              "131 6.1                 1.9               \n",
              "132 6.4                 2.0               \n",
              "133 5.6                 2.2               \n",
              "134 5.1                 1.5               \n",
              "135 5.6                 1.4               \n",
              "136 6.1                 2.3               \n",
              "137 5.6                 2.4               \n",
              "138 5.5                 1.8               \n",
              "139 4.8                 1.8               \n",
              "140 5.4                 2.1               \n",
              "141 5.6                 2.4               \n",
              "142 5.1                 2.3               \n",
              "143 5.1                 1.9               \n",
              "144 5.9                 2.3               \n",
              "145 5.7                 2.5               \n",
              "146 5.2                 2.3               \n",
              "147 5.0                 1.9               \n",
              "148 5.2                 2.0               \n",
              "149 5.4                 2.3               \n",
              "150 5.1                 1.8               "
            ]
          },
          "metadata": {}
        }
      ]
    },
    {
      "cell_type": "markdown",
      "source": [
        "19. Create\ta\tnew\tdataframe,\tusing\tthe\t**slice()**\tfunction,\twith\tonly\tthe\tfirst\tthree\trows\n",
        "in\tthe\t**myIris**\tdataframe.\n"
      ],
      "metadata": {
        "id": "EeK_5MHo_M4M"
      }
    },
    {
      "cell_type": "code",
      "source": [
        "slice(myIris,1:3)"
      ],
      "metadata": {
        "id": "t-e8OZHg_RSv",
        "colab": {
          "base_uri": "https://localhost:8080/",
          "height": 192
        },
        "outputId": "82f92ea4-78c7-466d-843c-f06cb549557f"
      },
      "execution_count": 87,
      "outputs": [
        {
          "output_type": "display_data",
          "data": {
            "text/html": [
              "<table class=\"dataframe\">\n",
              "<caption>A data.frame: 3 × 6</caption>\n",
              "<thead>\n",
              "\t<tr><th scope=col>Sepal.Length</th><th scope=col>Sepal.Width</th><th scope=col>Petal.Length</th><th scope=col>Petal.Width</th><th scope=col>Species</th><th scope=col>Ave.Length</th></tr>\n",
              "\t<tr><th scope=col>&lt;dbl&gt;</th><th scope=col>&lt;dbl&gt;</th><th scope=col>&lt;dbl&gt;</th><th scope=col>&lt;dbl&gt;</th><th scope=col>&lt;fct&gt;</th><th scope=col>&lt;dbl&gt;</th></tr>\n",
              "</thead>\n",
              "<tbody>\n",
              "\t<tr><td>5.1</td><td>3.5</td><td>1.4</td><td>0.2</td><td>setosa</td><td>3.25</td></tr>\n",
              "\t<tr><td>4.9</td><td>3.0</td><td>1.4</td><td>0.2</td><td>setosa</td><td>3.15</td></tr>\n",
              "\t<tr><td>4.7</td><td>3.2</td><td>1.3</td><td>0.2</td><td>setosa</td><td>3.00</td></tr>\n",
              "</tbody>\n",
              "</table>\n"
            ],
            "text/markdown": "\nA data.frame: 3 × 6\n\n| Sepal.Length &lt;dbl&gt; | Sepal.Width &lt;dbl&gt; | Petal.Length &lt;dbl&gt; | Petal.Width &lt;dbl&gt; | Species &lt;fct&gt; | Ave.Length &lt;dbl&gt; |\n|---|---|---|---|---|---|\n| 5.1 | 3.5 | 1.4 | 0.2 | setosa | 3.25 |\n| 4.9 | 3.0 | 1.4 | 0.2 | setosa | 3.15 |\n| 4.7 | 3.2 | 1.3 | 0.2 | setosa | 3.00 |\n\n",
            "text/latex": "A data.frame: 3 × 6\n\\begin{tabular}{llllll}\n Sepal.Length & Sepal.Width & Petal.Length & Petal.Width & Species & Ave.Length\\\\\n <dbl> & <dbl> & <dbl> & <dbl> & <fct> & <dbl>\\\\\n\\hline\n\t 5.1 & 3.5 & 1.4 & 0.2 & setosa & 3.25\\\\\n\t 4.9 & 3.0 & 1.4 & 0.2 & setosa & 3.15\\\\\n\t 4.7 & 3.2 & 1.3 & 0.2 & setosa & 3.00\\\\\n\\end{tabular}\n",
            "text/plain": [
              "  Sepal.Length Sepal.Width Petal.Length Petal.Width Species Ave.Length\n",
              "1 5.1          3.5         1.4          0.2         setosa  3.25      \n",
              "2 4.9          3.0         1.4          0.2         setosa  3.15      \n",
              "3 4.7          3.2         1.3          0.2         setosa  3.00      "
            ]
          },
          "metadata": {}
        }
      ]
    },
    {
      "cell_type": "markdown",
      "source": [
        "20. Create a\tnew\tdataframe,\twhich\tis\ta\tsubset\tof\t**myIris**,\tthat\tonly\tincludes\trows\n",
        "where **Petal.Length is\tless\tthan\t1.4**,\tstore\tin\t**shortPetalDF**\n"
      ],
      "metadata": {
        "id": "UyWenCWk_Rc8"
      }
    },
    {
      "cell_type": "code",
      "source": [
        "shortPetalDF = myIris %>%\n",
        "  filter(Petal.Length <1.4)\n",
        "\n",
        "shortPetalDF"
      ],
      "metadata": {
        "id": "Q1xyhecB_Vdx",
        "colab": {
          "base_uri": "https://localhost:8080/",
          "height": 443
        },
        "outputId": "6d13cf6d-51b4-431a-fa2c-4afd613a0db6"
      },
      "execution_count": 99,
      "outputs": [
        {
          "output_type": "display_data",
          "data": {
            "text/html": [
              "<table class=\"dataframe\">\n",
              "<caption>A data.frame: 11 × 6</caption>\n",
              "<thead>\n",
              "\t<tr><th scope=col>Sepal.Length</th><th scope=col>Sepal.Width</th><th scope=col>Petal.Length</th><th scope=col>Petal.Width</th><th scope=col>Species</th><th scope=col>Ave.Length</th></tr>\n",
              "\t<tr><th scope=col>&lt;dbl&gt;</th><th scope=col>&lt;dbl&gt;</th><th scope=col>&lt;dbl&gt;</th><th scope=col>&lt;dbl&gt;</th><th scope=col>&lt;fct&gt;</th><th scope=col>&lt;dbl&gt;</th></tr>\n",
              "</thead>\n",
              "<tbody>\n",
              "\t<tr><td>4.7</td><td>3.2</td><td>1.3</td><td>0.2</td><td>setosa</td><td>3.00</td></tr>\n",
              "\t<tr><td>4.3</td><td>3.0</td><td>1.1</td><td>0.1</td><td>setosa</td><td>2.70</td></tr>\n",
              "\t<tr><td>5.8</td><td>4.0</td><td>1.2</td><td>0.2</td><td>setosa</td><td>3.50</td></tr>\n",
              "\t<tr><td>5.4</td><td>3.9</td><td>1.3</td><td>0.4</td><td>setosa</td><td>3.35</td></tr>\n",
              "\t<tr><td>4.6</td><td>3.6</td><td>1.0</td><td>0.2</td><td>setosa</td><td>2.80</td></tr>\n",
              "\t<tr><td>5.0</td><td>3.2</td><td>1.2</td><td>0.2</td><td>setosa</td><td>3.10</td></tr>\n",
              "\t<tr><td>5.5</td><td>3.5</td><td>1.3</td><td>0.2</td><td>setosa</td><td>3.40</td></tr>\n",
              "\t<tr><td>4.4</td><td>3.0</td><td>1.3</td><td>0.2</td><td>setosa</td><td>2.85</td></tr>\n",
              "\t<tr><td>5.0</td><td>3.5</td><td>1.3</td><td>0.3</td><td>setosa</td><td>3.15</td></tr>\n",
              "\t<tr><td>4.5</td><td>2.3</td><td>1.3</td><td>0.3</td><td>setosa</td><td>2.90</td></tr>\n",
              "\t<tr><td>4.4</td><td>3.2</td><td>1.3</td><td>0.2</td><td>setosa</td><td>2.85</td></tr>\n",
              "</tbody>\n",
              "</table>\n"
            ],
            "text/markdown": "\nA data.frame: 11 × 6\n\n| Sepal.Length &lt;dbl&gt; | Sepal.Width &lt;dbl&gt; | Petal.Length &lt;dbl&gt; | Petal.Width &lt;dbl&gt; | Species &lt;fct&gt; | Ave.Length &lt;dbl&gt; |\n|---|---|---|---|---|---|\n| 4.7 | 3.2 | 1.3 | 0.2 | setosa | 3.00 |\n| 4.3 | 3.0 | 1.1 | 0.1 | setosa | 2.70 |\n| 5.8 | 4.0 | 1.2 | 0.2 | setosa | 3.50 |\n| 5.4 | 3.9 | 1.3 | 0.4 | setosa | 3.35 |\n| 4.6 | 3.6 | 1.0 | 0.2 | setosa | 2.80 |\n| 5.0 | 3.2 | 1.2 | 0.2 | setosa | 3.10 |\n| 5.5 | 3.5 | 1.3 | 0.2 | setosa | 3.40 |\n| 4.4 | 3.0 | 1.3 | 0.2 | setosa | 2.85 |\n| 5.0 | 3.5 | 1.3 | 0.3 | setosa | 3.15 |\n| 4.5 | 2.3 | 1.3 | 0.3 | setosa | 2.90 |\n| 4.4 | 3.2 | 1.3 | 0.2 | setosa | 2.85 |\n\n",
            "text/latex": "A data.frame: 11 × 6\n\\begin{tabular}{llllll}\n Sepal.Length & Sepal.Width & Petal.Length & Petal.Width & Species & Ave.Length\\\\\n <dbl> & <dbl> & <dbl> & <dbl> & <fct> & <dbl>\\\\\n\\hline\n\t 4.7 & 3.2 & 1.3 & 0.2 & setosa & 3.00\\\\\n\t 4.3 & 3.0 & 1.1 & 0.1 & setosa & 2.70\\\\\n\t 5.8 & 4.0 & 1.2 & 0.2 & setosa & 3.50\\\\\n\t 5.4 & 3.9 & 1.3 & 0.4 & setosa & 3.35\\\\\n\t 4.6 & 3.6 & 1.0 & 0.2 & setosa & 2.80\\\\\n\t 5.0 & 3.2 & 1.2 & 0.2 & setosa & 3.10\\\\\n\t 5.5 & 3.5 & 1.3 & 0.2 & setosa & 3.40\\\\\n\t 4.4 & 3.0 & 1.3 & 0.2 & setosa & 2.85\\\\\n\t 5.0 & 3.5 & 1.3 & 0.3 & setosa & 3.15\\\\\n\t 4.5 & 2.3 & 1.3 & 0.3 & setosa & 2.90\\\\\n\t 4.4 & 3.2 & 1.3 & 0.2 & setosa & 2.85\\\\\n\\end{tabular}\n",
            "text/plain": [
              "   Sepal.Length Sepal.Width Petal.Length Petal.Width Species Ave.Length\n",
              "1  4.7          3.2         1.3          0.2         setosa  3.00      \n",
              "2  4.3          3.0         1.1          0.1         setosa  2.70      \n",
              "3  5.8          4.0         1.2          0.2         setosa  3.50      \n",
              "4  5.4          3.9         1.3          0.4         setosa  3.35      \n",
              "5  4.6          3.6         1.0          0.2         setosa  2.80      \n",
              "6  5.0          3.2         1.2          0.2         setosa  3.10      \n",
              "7  5.5          3.5         1.3          0.2         setosa  3.40      \n",
              "8  4.4          3.0         1.3          0.2         setosa  2.85      \n",
              "9  5.0          3.5         1.3          0.3         setosa  3.15      \n",
              "10 4.5          2.3         1.3          0.3         setosa  2.90      \n",
              "11 4.4          3.2         1.3          0.2         setosa  2.85      "
            ]
          },
          "metadata": {}
        }
      ]
    },
    {
      "cell_type": "markdown",
      "source": [
        "21. How\tmany\trows\tare\tin\tthe\t**shortPetalDF**?\n"
      ],
      "metadata": {
        "id": "1cNmhWwD_Vns"
      }
    },
    {
      "cell_type": "code",
      "source": [
        "#11"
      ],
      "metadata": {
        "id": "-rPd3LDU_XYL"
      },
      "execution_count": 94,
      "outputs": []
    },
    {
      "cell_type": "markdown",
      "source": [
        "22. The\thomework\tasks\tyou\tto\tcreate\ta\tconditional\tstatement\twith\t**if**\tand\t**else**.\tA\n",
        "conditional\tstatement\tis\tpart\tof\ta\tlarger\tgroup\tof\tspecialized\tcommands\tthat\n",
        "control\tthe\t“flow”\tof\ta\tprogram\t–\twhat\tcommand\tgets\trun\tand\twhen.\tYou\tcan\tget\n",
        "help\ton\tif,\telse,\tand\tother\tcontrol\twords.\tAdd\tand\trun\tthese\tcommands:<br>\n",
        "`help(\"if\")` <br>\n",
        "`help(\"Control\")`<br>\n",
        "Now\tadd\tand\trun\tyour\tfirst\tconditional\tstatement:<br>\n",
        "`if\t(sum(myNumbers)\t>\t40)\tprint(\"The\tsum\tis\tgreater\tthan\t40.\")`"
      ],
      "metadata": {
        "id": "UcNltFY9_Xhj"
      }
    },
    {
      "cell_type": "code",
      "source": [
        "help(\"if\")"
      ],
      "metadata": {
        "id": "KBlk7rn-_kfG"
      },
      "execution_count": 100,
      "outputs": []
    },
    {
      "cell_type": "code",
      "source": [
        "help(\"Control\")"
      ],
      "metadata": {
        "id": "lv4PJprW_lOM"
      },
      "execution_count": 101,
      "outputs": []
    },
    {
      "cell_type": "code",
      "source": [
        "myNumbers <- c(10,20,30,40,50,60)\n",
        "if (sum(myNumbers) > 40) print(\"The sum is greater than 40.\")"
      ],
      "metadata": {
        "colab": {
          "base_uri": "https://localhost:8080/",
          "height": 0
        },
        "id": "Lw4Yw0uI2WWv",
        "outputId": "8bc809cb-7e3b-42d8-d37c-f130c094f855"
      },
      "execution_count": 105,
      "outputs": [
        {
          "output_type": "stream",
          "name": "stdout",
          "text": [
            "[1] \"The sum is greater than 40.\"\n"
          ]
        }
      ]
    },
    {
      "cell_type": "code",
      "source": [
        "myNumbers <- c(10)\n",
        "if (sum(myNumbers) > 40) {\n",
        "  print(\"The sum is greater than 40.\")\n",
        "}else{\n",
        "  print(\"The sum is smaller than 40.\")\n",
        "}"
      ],
      "metadata": {
        "colab": {
          "base_uri": "https://localhost:8080/",
          "height": 0
        },
        "id": "k-vzf1TO3Jjw",
        "outputId": "6959e9ef-10c2-4864-dba6-42fe1ed1d4fd"
      },
      "execution_count": 106,
      "outputs": [
        {
          "output_type": "stream",
          "name": "stdout",
          "text": [
            "[1] \"The sum is smaller than 40.\"\n"
          ]
        }
      ]
    }
  ]
}