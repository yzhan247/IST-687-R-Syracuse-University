{
  "nbformat": 4,
  "nbformat_minor": 0,
  "metadata": {
    "colab": {
      "provenance": [],
      "include_colab_link": true
    },
    "kernelspec": {
      "name": "ir",
      "display_name": "R"
    },
    "language_info": {
      "name": "R"
    }
  },
  "cells": [
    {
      "cell_type": "markdown",
      "metadata": {
        "id": "view-in-github",
        "colab_type": "text"
      },
      "source": [
        "<a href=\"https://colab.research.google.com/github/yzhan247/IST-687-R-Syracuse-University/blob/main/HW2_2022.ipynb\" target=\"_parent\"><img src=\"https://colab.research.google.com/assets/colab-badge.svg\" alt=\"Open In Colab\"/></a>"
      ]
    },
    {
      "cell_type": "markdown",
      "metadata": {
        "id": "AZhYskSPHemQ"
      },
      "source": [
        "# Intro to Data Science - HW 2\n",
        "\n",
        "##### Copyright 2022, Jeffrey Stanton, Jeffrey Saltz, and Jasmina Tacheva"
      ]
    },
    {
      "cell_type": "code",
      "execution_count": 1,
      "metadata": {
        "id": "WbLnuuEtHemQ"
      },
      "outputs": [],
      "source": [
        "# Enter your name here: Yuqing Zhang"
      ]
    },
    {
      "cell_type": "markdown",
      "metadata": {
        "id": "wmBxE7GXHemR"
      },
      "source": [
        "### Attribution statement: (choose only one and delete the rest)"
      ]
    },
    {
      "cell_type": "code",
      "execution_count": 2,
      "metadata": {
        "id": "sIIKMY6iHemR"
      },
      "outputs": [],
      "source": [
        "# 1. I did this homework by myself, with help from the book and the professor."
      ]
    },
    {
      "cell_type": "markdown",
      "metadata": {
        "id": "CQ6l66X6HemS"
      },
      "source": [
        "### Reminders of things to practice from last week: \n",
        "Assignment arrow:  \t\t<- <br>\n",
        "The combine command: \tc( ) <br>\n",
        "Descriptive statistics: \tmean( ) sum( ) max( ) <br>\n",
        "Arithmetic operators:\t\t+ - * /<br>\n",
        "Boolean operators:\t\t>    <    >=    <=   ==   !=  <br>\n",
        "\n",
        "**This Week:** Explore the **quakes** dataset (which is included in R). \n",
        "\n",
        "\n",
        "<br>\n",
        "<br>\n",
        "\n",
        "**Step 0:** Prepare the data <br>\n",
        "A. Copy the **quakes** dataset into a new dataframe (call it **myQuakes**), so that if you need to start over, you can do so easily (by copying **quakes** into **myQuakes** again). Summarize the variables in **myQuakes** using an R command. Also, explore the structure of the dataframe - using another R command. In a brief comment, describe what this dataset is about based on your analysis of the variables in it. \n"
      ]
    },
    {
      "cell_type": "code",
      "execution_count": 9,
      "metadata": {
        "id": "pqkZ_1vsHemS",
        "colab": {
          "base_uri": "https://localhost:8080/",
          "height": 2011
        },
        "outputId": "f0f3ce52-edd6-4a55-f15d-7a702f66ea92"
      },
      "outputs": [
        {
          "output_type": "display_data",
          "data": {
            "text/html": [
              "<table class=\"dataframe\">\n",
              "<caption>A data.frame: 1000 × 5</caption>\n",
              "<thead>\n",
              "\t<tr><th scope=col>lat</th><th scope=col>long</th><th scope=col>depth</th><th scope=col>mag</th><th scope=col>stations</th></tr>\n",
              "\t<tr><th scope=col>&lt;dbl&gt;</th><th scope=col>&lt;dbl&gt;</th><th scope=col>&lt;int&gt;</th><th scope=col>&lt;dbl&gt;</th><th scope=col>&lt;int&gt;</th></tr>\n",
              "</thead>\n",
              "<tbody>\n",
              "\t<tr><td>-20.42</td><td>181.62</td><td>562</td><td>4.8</td><td>41</td></tr>\n",
              "\t<tr><td>-20.62</td><td>181.03</td><td>650</td><td>4.2</td><td>15</td></tr>\n",
              "\t<tr><td>-26.00</td><td>184.10</td><td> 42</td><td>5.4</td><td>43</td></tr>\n",
              "\t<tr><td>-17.97</td><td>181.66</td><td>626</td><td>4.1</td><td>19</td></tr>\n",
              "\t<tr><td>-20.42</td><td>181.96</td><td>649</td><td>4.0</td><td>11</td></tr>\n",
              "\t<tr><td>-19.68</td><td>184.31</td><td>195</td><td>4.0</td><td>12</td></tr>\n",
              "\t<tr><td>-11.70</td><td>166.10</td><td> 82</td><td>4.8</td><td>43</td></tr>\n",
              "\t<tr><td>-28.11</td><td>181.93</td><td>194</td><td>4.4</td><td>15</td></tr>\n",
              "\t<tr><td>-28.74</td><td>181.74</td><td>211</td><td>4.7</td><td>35</td></tr>\n",
              "\t<tr><td>-17.47</td><td>179.59</td><td>622</td><td>4.3</td><td>19</td></tr>\n",
              "\t<tr><td>-21.44</td><td>180.69</td><td>583</td><td>4.4</td><td>13</td></tr>\n",
              "\t<tr><td>-12.26</td><td>167.00</td><td>249</td><td>4.6</td><td>16</td></tr>\n",
              "\t<tr><td>-18.54</td><td>182.11</td><td>554</td><td>4.4</td><td>19</td></tr>\n",
              "\t<tr><td>-21.00</td><td>181.66</td><td>600</td><td>4.4</td><td>10</td></tr>\n",
              "\t<tr><td>-20.70</td><td>169.92</td><td>139</td><td>6.1</td><td>94</td></tr>\n",
              "\t<tr><td>-15.94</td><td>184.95</td><td>306</td><td>4.3</td><td>11</td></tr>\n",
              "\t<tr><td>-13.64</td><td>165.96</td><td> 50</td><td>6.0</td><td>83</td></tr>\n",
              "\t<tr><td>-17.83</td><td>181.50</td><td>590</td><td>4.5</td><td>21</td></tr>\n",
              "\t<tr><td>-23.50</td><td>179.78</td><td>570</td><td>4.4</td><td>13</td></tr>\n",
              "\t<tr><td>-22.63</td><td>180.31</td><td>598</td><td>4.4</td><td>18</td></tr>\n",
              "\t<tr><td>-20.84</td><td>181.16</td><td>576</td><td>4.5</td><td>17</td></tr>\n",
              "\t<tr><td>-10.98</td><td>166.32</td><td>211</td><td>4.2</td><td>12</td></tr>\n",
              "\t<tr><td>-23.30</td><td>180.16</td><td>512</td><td>4.4</td><td>18</td></tr>\n",
              "\t<tr><td>-30.20</td><td>182.00</td><td>125</td><td>4.7</td><td>22</td></tr>\n",
              "\t<tr><td>-19.66</td><td>180.28</td><td>431</td><td>5.4</td><td>57</td></tr>\n",
              "\t<tr><td>-17.94</td><td>181.49</td><td>537</td><td>4.0</td><td>15</td></tr>\n",
              "\t<tr><td>-14.72</td><td>167.51</td><td>155</td><td>4.6</td><td>18</td></tr>\n",
              "\t<tr><td>-16.46</td><td>180.79</td><td>498</td><td>5.2</td><td>79</td></tr>\n",
              "\t<tr><td>-20.97</td><td>181.47</td><td>582</td><td>4.5</td><td>25</td></tr>\n",
              "\t<tr><td>-19.84</td><td>182.37</td><td>328</td><td>4.4</td><td>17</td></tr>\n",
              "\t<tr><td>⋮</td><td>⋮</td><td>⋮</td><td>⋮</td><td>⋮</td></tr>\n",
              "\t<tr><td>-25.79</td><td>182.38</td><td>172</td><td>4.4</td><td> 14</td></tr>\n",
              "\t<tr><td>-23.75</td><td>184.50</td><td> 54</td><td>5.2</td><td> 74</td></tr>\n",
              "\t<tr><td>-24.10</td><td>184.50</td><td> 68</td><td>4.7</td><td> 23</td></tr>\n",
              "\t<tr><td>-18.56</td><td>169.05</td><td>217</td><td>4.9</td><td> 35</td></tr>\n",
              "\t<tr><td>-23.30</td><td>184.68</td><td>102</td><td>4.9</td><td> 27</td></tr>\n",
              "\t<tr><td>-17.03</td><td>185.74</td><td>178</td><td>4.2</td><td> 32</td></tr>\n",
              "\t<tr><td>-20.77</td><td>183.71</td><td>251</td><td>4.4</td><td> 47</td></tr>\n",
              "\t<tr><td>-28.10</td><td>183.50</td><td> 42</td><td>4.4</td><td> 17</td></tr>\n",
              "\t<tr><td>-18.83</td><td>182.26</td><td>575</td><td>4.3</td><td> 11</td></tr>\n",
              "\t<tr><td>-23.00</td><td>170.70</td><td> 43</td><td>4.9</td><td> 20</td></tr>\n",
              "\t<tr><td>-20.82</td><td>181.67</td><td>577</td><td>5.0</td><td> 67</td></tr>\n",
              "\t<tr><td>-22.95</td><td>170.56</td><td> 42</td><td>4.7</td><td> 21</td></tr>\n",
              "\t<tr><td>-28.22</td><td>183.60</td><td> 75</td><td>4.9</td><td> 49</td></tr>\n",
              "\t<tr><td>-27.99</td><td>183.50</td><td> 71</td><td>4.3</td><td> 22</td></tr>\n",
              "\t<tr><td>-15.54</td><td>187.15</td><td> 60</td><td>4.5</td><td> 17</td></tr>\n",
              "\t<tr><td>-12.37</td><td>166.93</td><td>291</td><td>4.2</td><td> 16</td></tr>\n",
              "\t<tr><td>-22.33</td><td>171.66</td><td>125</td><td>5.2</td><td> 51</td></tr>\n",
              "\t<tr><td>-22.70</td><td>170.30</td><td> 69</td><td>4.8</td><td> 27</td></tr>\n",
              "\t<tr><td>-17.86</td><td>181.30</td><td>614</td><td>4.0</td><td> 12</td></tr>\n",
              "\t<tr><td>-16.00</td><td>184.53</td><td>108</td><td>4.7</td><td> 33</td></tr>\n",
              "\t<tr><td>-20.73</td><td>181.42</td><td>575</td><td>4.3</td><td> 18</td></tr>\n",
              "\t<tr><td>-15.45</td><td>181.42</td><td>409</td><td>4.3</td><td> 27</td></tr>\n",
              "\t<tr><td>-20.05</td><td>183.86</td><td>243</td><td>4.9</td><td> 65</td></tr>\n",
              "\t<tr><td>-17.95</td><td>181.37</td><td>642</td><td>4.0</td><td> 17</td></tr>\n",
              "\t<tr><td>-17.70</td><td>188.10</td><td> 45</td><td>4.2</td><td> 10</td></tr>\n",
              "\t<tr><td>-25.93</td><td>179.54</td><td>470</td><td>4.4</td><td> 22</td></tr>\n",
              "\t<tr><td>-12.28</td><td>167.06</td><td>248</td><td>4.7</td><td> 35</td></tr>\n",
              "\t<tr><td>-20.13</td><td>184.20</td><td>244</td><td>4.5</td><td> 34</td></tr>\n",
              "\t<tr><td>-17.40</td><td>187.80</td><td> 40</td><td>4.5</td><td> 14</td></tr>\n",
              "\t<tr><td>-21.59</td><td>170.56</td><td>165</td><td>6.0</td><td>119</td></tr>\n",
              "</tbody>\n",
              "</table>\n"
            ],
            "text/markdown": "\nA data.frame: 1000 × 5\n\n| lat &lt;dbl&gt; | long &lt;dbl&gt; | depth &lt;int&gt; | mag &lt;dbl&gt; | stations &lt;int&gt; |\n|---|---|---|---|---|\n| -20.42 | 181.62 | 562 | 4.8 | 41 |\n| -20.62 | 181.03 | 650 | 4.2 | 15 |\n| -26.00 | 184.10 |  42 | 5.4 | 43 |\n| -17.97 | 181.66 | 626 | 4.1 | 19 |\n| -20.42 | 181.96 | 649 | 4.0 | 11 |\n| -19.68 | 184.31 | 195 | 4.0 | 12 |\n| -11.70 | 166.10 |  82 | 4.8 | 43 |\n| -28.11 | 181.93 | 194 | 4.4 | 15 |\n| -28.74 | 181.74 | 211 | 4.7 | 35 |\n| -17.47 | 179.59 | 622 | 4.3 | 19 |\n| -21.44 | 180.69 | 583 | 4.4 | 13 |\n| -12.26 | 167.00 | 249 | 4.6 | 16 |\n| -18.54 | 182.11 | 554 | 4.4 | 19 |\n| -21.00 | 181.66 | 600 | 4.4 | 10 |\n| -20.70 | 169.92 | 139 | 6.1 | 94 |\n| -15.94 | 184.95 | 306 | 4.3 | 11 |\n| -13.64 | 165.96 |  50 | 6.0 | 83 |\n| -17.83 | 181.50 | 590 | 4.5 | 21 |\n| -23.50 | 179.78 | 570 | 4.4 | 13 |\n| -22.63 | 180.31 | 598 | 4.4 | 18 |\n| -20.84 | 181.16 | 576 | 4.5 | 17 |\n| -10.98 | 166.32 | 211 | 4.2 | 12 |\n| -23.30 | 180.16 | 512 | 4.4 | 18 |\n| -30.20 | 182.00 | 125 | 4.7 | 22 |\n| -19.66 | 180.28 | 431 | 5.4 | 57 |\n| -17.94 | 181.49 | 537 | 4.0 | 15 |\n| -14.72 | 167.51 | 155 | 4.6 | 18 |\n| -16.46 | 180.79 | 498 | 5.2 | 79 |\n| -20.97 | 181.47 | 582 | 4.5 | 25 |\n| -19.84 | 182.37 | 328 | 4.4 | 17 |\n| ⋮ | ⋮ | ⋮ | ⋮ | ⋮ |\n| -25.79 | 182.38 | 172 | 4.4 |  14 |\n| -23.75 | 184.50 |  54 | 5.2 |  74 |\n| -24.10 | 184.50 |  68 | 4.7 |  23 |\n| -18.56 | 169.05 | 217 | 4.9 |  35 |\n| -23.30 | 184.68 | 102 | 4.9 |  27 |\n| -17.03 | 185.74 | 178 | 4.2 |  32 |\n| -20.77 | 183.71 | 251 | 4.4 |  47 |\n| -28.10 | 183.50 |  42 | 4.4 |  17 |\n| -18.83 | 182.26 | 575 | 4.3 |  11 |\n| -23.00 | 170.70 |  43 | 4.9 |  20 |\n| -20.82 | 181.67 | 577 | 5.0 |  67 |\n| -22.95 | 170.56 |  42 | 4.7 |  21 |\n| -28.22 | 183.60 |  75 | 4.9 |  49 |\n| -27.99 | 183.50 |  71 | 4.3 |  22 |\n| -15.54 | 187.15 |  60 | 4.5 |  17 |\n| -12.37 | 166.93 | 291 | 4.2 |  16 |\n| -22.33 | 171.66 | 125 | 5.2 |  51 |\n| -22.70 | 170.30 |  69 | 4.8 |  27 |\n| -17.86 | 181.30 | 614 | 4.0 |  12 |\n| -16.00 | 184.53 | 108 | 4.7 |  33 |\n| -20.73 | 181.42 | 575 | 4.3 |  18 |\n| -15.45 | 181.42 | 409 | 4.3 |  27 |\n| -20.05 | 183.86 | 243 | 4.9 |  65 |\n| -17.95 | 181.37 | 642 | 4.0 |  17 |\n| -17.70 | 188.10 |  45 | 4.2 |  10 |\n| -25.93 | 179.54 | 470 | 4.4 |  22 |\n| -12.28 | 167.06 | 248 | 4.7 |  35 |\n| -20.13 | 184.20 | 244 | 4.5 |  34 |\n| -17.40 | 187.80 |  40 | 4.5 |  14 |\n| -21.59 | 170.56 | 165 | 6.0 | 119 |\n\n",
            "text/latex": "A data.frame: 1000 × 5\n\\begin{tabular}{lllll}\n lat & long & depth & mag & stations\\\\\n <dbl> & <dbl> & <int> & <dbl> & <int>\\\\\n\\hline\n\t -20.42 & 181.62 & 562 & 4.8 & 41\\\\\n\t -20.62 & 181.03 & 650 & 4.2 & 15\\\\\n\t -26.00 & 184.10 &  42 & 5.4 & 43\\\\\n\t -17.97 & 181.66 & 626 & 4.1 & 19\\\\\n\t -20.42 & 181.96 & 649 & 4.0 & 11\\\\\n\t -19.68 & 184.31 & 195 & 4.0 & 12\\\\\n\t -11.70 & 166.10 &  82 & 4.8 & 43\\\\\n\t -28.11 & 181.93 & 194 & 4.4 & 15\\\\\n\t -28.74 & 181.74 & 211 & 4.7 & 35\\\\\n\t -17.47 & 179.59 & 622 & 4.3 & 19\\\\\n\t -21.44 & 180.69 & 583 & 4.4 & 13\\\\\n\t -12.26 & 167.00 & 249 & 4.6 & 16\\\\\n\t -18.54 & 182.11 & 554 & 4.4 & 19\\\\\n\t -21.00 & 181.66 & 600 & 4.4 & 10\\\\\n\t -20.70 & 169.92 & 139 & 6.1 & 94\\\\\n\t -15.94 & 184.95 & 306 & 4.3 & 11\\\\\n\t -13.64 & 165.96 &  50 & 6.0 & 83\\\\\n\t -17.83 & 181.50 & 590 & 4.5 & 21\\\\\n\t -23.50 & 179.78 & 570 & 4.4 & 13\\\\\n\t -22.63 & 180.31 & 598 & 4.4 & 18\\\\\n\t -20.84 & 181.16 & 576 & 4.5 & 17\\\\\n\t -10.98 & 166.32 & 211 & 4.2 & 12\\\\\n\t -23.30 & 180.16 & 512 & 4.4 & 18\\\\\n\t -30.20 & 182.00 & 125 & 4.7 & 22\\\\\n\t -19.66 & 180.28 & 431 & 5.4 & 57\\\\\n\t -17.94 & 181.49 & 537 & 4.0 & 15\\\\\n\t -14.72 & 167.51 & 155 & 4.6 & 18\\\\\n\t -16.46 & 180.79 & 498 & 5.2 & 79\\\\\n\t -20.97 & 181.47 & 582 & 4.5 & 25\\\\\n\t -19.84 & 182.37 & 328 & 4.4 & 17\\\\\n\t ⋮ & ⋮ & ⋮ & ⋮ & ⋮\\\\\n\t -25.79 & 182.38 & 172 & 4.4 &  14\\\\\n\t -23.75 & 184.50 &  54 & 5.2 &  74\\\\\n\t -24.10 & 184.50 &  68 & 4.7 &  23\\\\\n\t -18.56 & 169.05 & 217 & 4.9 &  35\\\\\n\t -23.30 & 184.68 & 102 & 4.9 &  27\\\\\n\t -17.03 & 185.74 & 178 & 4.2 &  32\\\\\n\t -20.77 & 183.71 & 251 & 4.4 &  47\\\\\n\t -28.10 & 183.50 &  42 & 4.4 &  17\\\\\n\t -18.83 & 182.26 & 575 & 4.3 &  11\\\\\n\t -23.00 & 170.70 &  43 & 4.9 &  20\\\\\n\t -20.82 & 181.67 & 577 & 5.0 &  67\\\\\n\t -22.95 & 170.56 &  42 & 4.7 &  21\\\\\n\t -28.22 & 183.60 &  75 & 4.9 &  49\\\\\n\t -27.99 & 183.50 &  71 & 4.3 &  22\\\\\n\t -15.54 & 187.15 &  60 & 4.5 &  17\\\\\n\t -12.37 & 166.93 & 291 & 4.2 &  16\\\\\n\t -22.33 & 171.66 & 125 & 5.2 &  51\\\\\n\t -22.70 & 170.30 &  69 & 4.8 &  27\\\\\n\t -17.86 & 181.30 & 614 & 4.0 &  12\\\\\n\t -16.00 & 184.53 & 108 & 4.7 &  33\\\\\n\t -20.73 & 181.42 & 575 & 4.3 &  18\\\\\n\t -15.45 & 181.42 & 409 & 4.3 &  27\\\\\n\t -20.05 & 183.86 & 243 & 4.9 &  65\\\\\n\t -17.95 & 181.37 & 642 & 4.0 &  17\\\\\n\t -17.70 & 188.10 &  45 & 4.2 &  10\\\\\n\t -25.93 & 179.54 & 470 & 4.4 &  22\\\\\n\t -12.28 & 167.06 & 248 & 4.7 &  35\\\\\n\t -20.13 & 184.20 & 244 & 4.5 &  34\\\\\n\t -17.40 & 187.80 &  40 & 4.5 &  14\\\\\n\t -21.59 & 170.56 & 165 & 6.0 & 119\\\\\n\\end{tabular}\n",
            "text/plain": [
              "     lat    long   depth mag stations\n",
              "1    -20.42 181.62 562   4.8 41      \n",
              "2    -20.62 181.03 650   4.2 15      \n",
              "3    -26.00 184.10  42   5.4 43      \n",
              "4    -17.97 181.66 626   4.1 19      \n",
              "5    -20.42 181.96 649   4.0 11      \n",
              "6    -19.68 184.31 195   4.0 12      \n",
              "7    -11.70 166.10  82   4.8 43      \n",
              "8    -28.11 181.93 194   4.4 15      \n",
              "9    -28.74 181.74 211   4.7 35      \n",
              "10   -17.47 179.59 622   4.3 19      \n",
              "11   -21.44 180.69 583   4.4 13      \n",
              "12   -12.26 167.00 249   4.6 16      \n",
              "13   -18.54 182.11 554   4.4 19      \n",
              "14   -21.00 181.66 600   4.4 10      \n",
              "15   -20.70 169.92 139   6.1 94      \n",
              "16   -15.94 184.95 306   4.3 11      \n",
              "17   -13.64 165.96  50   6.0 83      \n",
              "18   -17.83 181.50 590   4.5 21      \n",
              "19   -23.50 179.78 570   4.4 13      \n",
              "20   -22.63 180.31 598   4.4 18      \n",
              "21   -20.84 181.16 576   4.5 17      \n",
              "22   -10.98 166.32 211   4.2 12      \n",
              "23   -23.30 180.16 512   4.4 18      \n",
              "24   -30.20 182.00 125   4.7 22      \n",
              "25   -19.66 180.28 431   5.4 57      \n",
              "26   -17.94 181.49 537   4.0 15      \n",
              "27   -14.72 167.51 155   4.6 18      \n",
              "28   -16.46 180.79 498   5.2 79      \n",
              "29   -20.97 181.47 582   4.5 25      \n",
              "30   -19.84 182.37 328   4.4 17      \n",
              "⋮    ⋮      ⋮      ⋮     ⋮   ⋮       \n",
              "971  -25.79 182.38 172   4.4  14     \n",
              "972  -23.75 184.50  54   5.2  74     \n",
              "973  -24.10 184.50  68   4.7  23     \n",
              "974  -18.56 169.05 217   4.9  35     \n",
              "975  -23.30 184.68 102   4.9  27     \n",
              "976  -17.03 185.74 178   4.2  32     \n",
              "977  -20.77 183.71 251   4.4  47     \n",
              "978  -28.10 183.50  42   4.4  17     \n",
              "979  -18.83 182.26 575   4.3  11     \n",
              "980  -23.00 170.70  43   4.9  20     \n",
              "981  -20.82 181.67 577   5.0  67     \n",
              "982  -22.95 170.56  42   4.7  21     \n",
              "983  -28.22 183.60  75   4.9  49     \n",
              "984  -27.99 183.50  71   4.3  22     \n",
              "985  -15.54 187.15  60   4.5  17     \n",
              "986  -12.37 166.93 291   4.2  16     \n",
              "987  -22.33 171.66 125   5.2  51     \n",
              "988  -22.70 170.30  69   4.8  27     \n",
              "989  -17.86 181.30 614   4.0  12     \n",
              "990  -16.00 184.53 108   4.7  33     \n",
              "991  -20.73 181.42 575   4.3  18     \n",
              "992  -15.45 181.42 409   4.3  27     \n",
              "993  -20.05 183.86 243   4.9  65     \n",
              "994  -17.95 181.37 642   4.0  17     \n",
              "995  -17.70 188.10  45   4.2  10     \n",
              "996  -25.93 179.54 470   4.4  22     \n",
              "997  -12.28 167.06 248   4.7  35     \n",
              "998  -20.13 184.20 244   4.5  34     \n",
              "999  -17.40 187.80  40   4.5  14     \n",
              "1000 -21.59 170.56 165   6.0 119     "
            ]
          },
          "metadata": {}
        }
      ],
      "source": [
        "myQuakes<-quakes\n",
        "myQuakes"
      ]
    },
    {
      "cell_type": "markdown",
      "metadata": {
        "id": "1VmtTmOiHemS"
      },
      "source": [
        "**Step 1:** Explore the earthquake magnitude variable called **mag**  <br>\n",
        "\n",
        "A.\tWhat is the average magnitude? Use mean() or summary():"
      ]
    },
    {
      "cell_type": "code",
      "execution_count": 12,
      "metadata": {
        "id": "ph516hxrHemT",
        "colab": {
          "base_uri": "https://localhost:8080/",
          "height": 34
        },
        "outputId": "27225241-25f4-476c-999d-a4c1a1b06327"
      },
      "outputs": [
        {
          "output_type": "display_data",
          "data": {
            "text/html": [
              "4.6204"
            ],
            "text/markdown": "4.6204",
            "text/latex": "4.6204",
            "text/plain": [
              "[1] 4.6204"
            ]
          },
          "metadata": {}
        }
      ],
      "source": [
        "mean(myQuakes$mag)"
      ]
    },
    {
      "cell_type": "markdown",
      "metadata": {
        "id": "ApkafuZlHemT"
      },
      "source": [
        "B.\tWhat is the magnitude of the smallest earthquake? Use min() or summary() and save the result in a variable called **minQuake**:"
      ]
    },
    {
      "cell_type": "code",
      "execution_count": 13,
      "metadata": {
        "id": "BDcYUNhiHemU",
        "colab": {
          "base_uri": "https://localhost:8080/",
          "height": 34
        },
        "outputId": "d03347fa-09ca-45ed-eee7-b2ea38f209db"
      },
      "outputs": [
        {
          "output_type": "display_data",
          "data": {
            "text/html": [
              "4"
            ],
            "text/markdown": "4",
            "text/latex": "4",
            "text/plain": [
              "[1] 4"
            ]
          },
          "metadata": {}
        }
      ],
      "source": [
        "min(myQuakes$mag)"
      ]
    },
    {
      "cell_type": "code",
      "source": [
        "minQuake<-min(myQuakes$mag)"
      ],
      "metadata": {
        "id": "MK1Z6VHuw8wI"
      },
      "execution_count": 14,
      "outputs": []
    },
    {
      "cell_type": "markdown",
      "metadata": {
        "id": "RMy1_PNOHemT"
      },
      "source": [
        "C.\tWhat is the magnitude of the largest earthquake? Use max() or summary() and save the result in a variable called **maxQuake**:"
      ]
    },
    {
      "cell_type": "code",
      "source": [
        "max(myQuakes$mag)"
      ],
      "metadata": {
        "id": "osJy96H1fvwj",
        "colab": {
          "base_uri": "https://localhost:8080/",
          "height": 34
        },
        "outputId": "298c8edf-b86b-48bb-ff15-594d6379cd49"
      },
      "execution_count": 15,
      "outputs": [
        {
          "output_type": "display_data",
          "data": {
            "text/html": [
              "6.4"
            ],
            "text/markdown": "6.4",
            "text/latex": "6.4",
            "text/plain": [
              "[1] 6.4"
            ]
          },
          "metadata": {}
        }
      ]
    },
    {
      "cell_type": "code",
      "source": [
        "maxQuake<-max(myQuakes$mag)"
      ],
      "metadata": {
        "id": "FXaaF_uTxIyU"
      },
      "execution_count": 23,
      "outputs": []
    },
    {
      "cell_type": "markdown",
      "metadata": {
        "id": "17gWHZV3HemU"
      },
      "source": [
        "D.\tOutput the **fourth row** of the dataframe:"
      ]
    },
    {
      "cell_type": "code",
      "execution_count": 17,
      "metadata": {
        "id": "NRPUu5H2a2xk",
        "colab": {
          "base_uri": "https://localhost:8080/",
          "height": 129
        },
        "outputId": "23adbf0a-7387-44f4-c2e3-b109b9ac880d"
      },
      "outputs": [
        {
          "output_type": "display_data",
          "data": {
            "text/html": [
              "<table class=\"dataframe\">\n",
              "<caption>A data.frame: 1 × 5</caption>\n",
              "<thead>\n",
              "\t<tr><th></th><th scope=col>lat</th><th scope=col>long</th><th scope=col>depth</th><th scope=col>mag</th><th scope=col>stations</th></tr>\n",
              "\t<tr><th></th><th scope=col>&lt;dbl&gt;</th><th scope=col>&lt;dbl&gt;</th><th scope=col>&lt;int&gt;</th><th scope=col>&lt;dbl&gt;</th><th scope=col>&lt;int&gt;</th></tr>\n",
              "</thead>\n",
              "<tbody>\n",
              "\t<tr><th scope=row>4</th><td>-17.97</td><td>181.66</td><td>626</td><td>4.1</td><td>19</td></tr>\n",
              "</tbody>\n",
              "</table>\n"
            ],
            "text/markdown": "\nA data.frame: 1 × 5\n\n| <!--/--> | lat &lt;dbl&gt; | long &lt;dbl&gt; | depth &lt;int&gt; | mag &lt;dbl&gt; | stations &lt;int&gt; |\n|---|---|---|---|---|---|\n| 4 | -17.97 | 181.66 | 626 | 4.1 | 19 |\n\n",
            "text/latex": "A data.frame: 1 × 5\n\\begin{tabular}{r|lllll}\n  & lat & long & depth & mag & stations\\\\\n  & <dbl> & <dbl> & <int> & <dbl> & <int>\\\\\n\\hline\n\t4 & -17.97 & 181.66 & 626 & 4.1 & 19\\\\\n\\end{tabular}\n",
            "text/plain": [
              "  lat    long   depth mag stations\n",
              "4 -17.97 181.66 626   4.1 19      "
            ]
          },
          "metadata": {}
        }
      ],
      "source": [
        "myQuakes[4,]"
      ]
    },
    {
      "cell_type": "markdown",
      "metadata": {
        "id": "mlA9luqwa2xl"
      },
      "source": [
        "E. Create a new dataframe, with only the rows where the **magnitude is greater than 4**. How many rows are in that dataframe (report this number using code, do not count by looking at the output):"
      ]
    },
    {
      "cell_type": "code",
      "execution_count": 48,
      "metadata": {
        "id": "T-mIHYfaHemU",
        "colab": {
          "base_uri": "https://localhost:8080/",
          "height": 34
        },
        "outputId": "66f2a760-91c5-4919-ae27-14bcd74d9054"
      },
      "outputs": [
        {
          "output_type": "display_data",
          "data": {
            "text/html": [
              "954"
            ],
            "text/markdown": "954",
            "text/latex": "954",
            "text/plain": [
              "[1] 954"
            ]
          },
          "metadata": {}
        }
      ],
      "source": [
        "nrow(myQuakes[myQuakes$mag > 4,])"
      ]
    },
    {
      "cell_type": "markdown",
      "metadata": {
        "id": "NqBV_eU9WnZk"
      },
      "source": [
        "F.\tUsing the **arrange()** function, create a **sorted dataframe** based on magnitude and store it in **quakeSorted1**. Explain how this function works."
      ]
    },
    {
      "cell_type": "code",
      "source": [
        "library(tidyverse)"
      ],
      "metadata": {
        "colab": {
          "base_uri": "https://localhost:8080/",
          "height": 0
        },
        "id": "bS8T0meK3g71",
        "outputId": "7992a2a2-f6fa-4120-b389-7a8b47fd4acf"
      },
      "execution_count": 66,
      "outputs": [
        {
          "output_type": "stream",
          "name": "stderr",
          "text": [
            "Warning message in system(\"timedatectl\", intern = TRUE):\n",
            "“running command 'timedatectl' had status 1”\n",
            "── \u001b[1mAttaching packages\u001b[22m ─────────────────────────────────────── tidyverse 1.3.1 ──\n",
            "\n",
            "\u001b[32m✔\u001b[39m \u001b[34mggplot2\u001b[39m 3.4.0      \u001b[32m✔\u001b[39m \u001b[34mpurrr  \u001b[39m 1.0.1 \n",
            "\u001b[32m✔\u001b[39m \u001b[34mtibble \u001b[39m 3.1.8      \u001b[32m✔\u001b[39m \u001b[34mdplyr  \u001b[39m 1.0.10\n",
            "\u001b[32m✔\u001b[39m \u001b[34mtidyr  \u001b[39m 1.3.0      \u001b[32m✔\u001b[39m \u001b[34mstringr\u001b[39m 1.4.1 \n",
            "\u001b[32m✔\u001b[39m \u001b[34mreadr  \u001b[39m 2.1.3      \u001b[32m✔\u001b[39m \u001b[34mforcats\u001b[39m 0.5.2 \n",
            "\n",
            "── \u001b[1mConflicts\u001b[22m ────────────────────────────────────────── tidyverse_conflicts() ──\n",
            "\u001b[31m✖\u001b[39m \u001b[34mdplyr\u001b[39m::\u001b[32mfilter()\u001b[39m masks \u001b[34mstats\u001b[39m::filter()\n",
            "\u001b[31m✖\u001b[39m \u001b[34mdplyr\u001b[39m::\u001b[32mlag()\u001b[39m    masks \u001b[34mstats\u001b[39m::lag()\n",
            "\n"
          ]
        }
      ]
    },
    {
      "cell_type": "code",
      "source": [
        "quakeSorted1 <- myQuakes %>%\n",
        "  arrange(mag)\n",
        "glimpse(quakeSorted1)"
      ],
      "metadata": {
        "colab": {
          "base_uri": "https://localhost:8080/",
          "height": 0
        },
        "id": "ThTAEKLk0hmw",
        "outputId": "f451d2f3-481c-4033-adcb-c54ec7e45e74"
      },
      "execution_count": 67,
      "outputs": [
        {
          "output_type": "stream",
          "name": "stdout",
          "text": [
            "Rows: 1,000\n",
            "Columns: 5\n",
            "$ lat      \u001b[3m\u001b[90m<dbl>\u001b[39m\u001b[23m -20.42, -19.68, -17.94, -23.55, -19.26, -22.06, -15.31, -17.7…\n",
            "$ long     \u001b[3m\u001b[90m<dbl>\u001b[39m\u001b[23m 181.96, 184.31, 181.49, 180.80, 184.42, 180.60, 185.80, 181.7…\n",
            "$ depth    \u001b[3m\u001b[90m<int>\u001b[39m\u001b[23m 649, 195, 537, 349, 223, 584, 152, 450, 375, 477, 582, 573, 4…\n",
            "$ mag      \u001b[3m\u001b[90m<dbl>\u001b[39m\u001b[23m 4, 4, 4, 4, 4, 4, 4, 4, 4, 4, 4, 4, 4, 4, 4, 4, 4, 4, 4, 4, 4…\n",
            "$ stations \u001b[3m\u001b[90m<int>\u001b[39m\u001b[23m 11, 12, 15, 10, 15, 11, 11, 11, 18, 16, 14, 19, 12, 12, 10, 1…\n"
          ]
        }
      ]
    },
    {
      "cell_type": "markdown",
      "source": [
        "G. Now create a second sorted dataframe called **quakeSorted2** using the **order()** function. Explain in a comment how the function works."
      ],
      "metadata": {
        "id": "RSaAg7XydWH1"
      }
    },
    {
      "cell_type": "code",
      "source": [
        "index<-order(myQuakes[,\"mag\"])\n",
        "quakeSorted2<-myQuakes[index,]\n",
        "quakeSorted2"
      ],
      "metadata": {
        "id": "0rB5_i_cdVfI",
        "colab": {
          "base_uri": "https://localhost:8080/",
          "height": 2011
        },
        "outputId": "0a6e6eef-5ad0-4de3-aef1-ce66cc6d7408"
      },
      "execution_count": 72,
      "outputs": [
        {
          "output_type": "display_data",
          "data": {
            "text/html": [
              "<table class=\"dataframe\">\n",
              "<caption>A data.frame: 1000 × 5</caption>\n",
              "<thead>\n",
              "\t<tr><th></th><th scope=col>lat</th><th scope=col>long</th><th scope=col>depth</th><th scope=col>mag</th><th scope=col>stations</th></tr>\n",
              "\t<tr><th></th><th scope=col>&lt;dbl&gt;</th><th scope=col>&lt;dbl&gt;</th><th scope=col>&lt;int&gt;</th><th scope=col>&lt;dbl&gt;</th><th scope=col>&lt;int&gt;</th></tr>\n",
              "</thead>\n",
              "<tbody>\n",
              "\t<tr><th scope=row>5</th><td>-20.42</td><td>181.96</td><td>649</td><td>4</td><td>11</td></tr>\n",
              "\t<tr><th scope=row>6</th><td>-19.68</td><td>184.31</td><td>195</td><td>4</td><td>12</td></tr>\n",
              "\t<tr><th scope=row>26</th><td>-17.94</td><td>181.49</td><td>537</td><td>4</td><td>15</td></tr>\n",
              "\t<tr><th scope=row>34</th><td>-23.55</td><td>180.80</td><td>349</td><td>4</td><td>10</td></tr>\n",
              "\t<tr><th scope=row>52</th><td>-19.26</td><td>184.42</td><td>223</td><td>4</td><td>15</td></tr>\n",
              "\t<tr><th scope=row>58</th><td>-22.06</td><td>180.60</td><td>584</td><td>4</td><td>11</td></tr>\n",
              "\t<tr><th scope=row>71</th><td>-15.31</td><td>185.80</td><td>152</td><td>4</td><td>11</td></tr>\n",
              "\t<tr><th scope=row>85</th><td>-17.70</td><td>181.70</td><td>450</td><td>4</td><td>11</td></tr>\n",
              "\t<tr><th scope=row>96</th><td>-19.73</td><td>182.40</td><td>375</td><td>4</td><td>18</td></tr>\n",
              "\t<tr><th scope=row>113</th><td>-19.06</td><td>182.45</td><td>477</td><td>4</td><td>16</td></tr>\n",
              "\t<tr><th scope=row>142</th><td>-20.65</td><td>181.40</td><td>582</td><td>4</td><td>14</td></tr>\n",
              "\t<tr><th scope=row>150</th><td>-17.90</td><td>181.50</td><td>573</td><td>4</td><td>19</td></tr>\n",
              "\t<tr><th scope=row>202</th><td>-17.70</td><td>182.20</td><td>445</td><td>4</td><td>12</td></tr>\n",
              "\t<tr><th scope=row>236</th><td>-23.54</td><td>179.93</td><td>574</td><td>4</td><td>12</td></tr>\n",
              "\t<tr><th scope=row>284</th><td>-17.70</td><td>185.00</td><td>383</td><td>4</td><td>10</td></tr>\n",
              "\t<tr><th scope=row>298</th><td>-17.94</td><td>181.51</td><td>601</td><td>4</td><td>16</td></tr>\n",
              "\t<tr><th scope=row>299</th><td>-30.64</td><td>181.20</td><td>175</td><td>4</td><td>16</td></tr>\n",
              "\t<tr><th scope=row>362</th><td>-16.90</td><td>185.72</td><td>135</td><td>4</td><td>22</td></tr>\n",
              "\t<tr><th scope=row>389</th><td>-10.72</td><td>165.99</td><td>195</td><td>4</td><td>14</td></tr>\n",
              "\t<tr><th scope=row>433</th><td>-18.55</td><td>182.23</td><td>563</td><td>4</td><td>17</td></tr>\n",
              "\t<tr><th scope=row>483</th><td>-22.70</td><td>183.30</td><td>180</td><td>4</td><td>13</td></tr>\n",
              "\t<tr><th scope=row>533</th><td>-21.00</td><td>183.20</td><td>296</td><td>4</td><td>16</td></tr>\n",
              "\t<tr><th scope=row>598</th><td>-17.02</td><td>182.93</td><td>406</td><td>4</td><td>17</td></tr>\n",
              "\t<tr><th scope=row>637</th><td>-19.51</td><td>183.97</td><td>280</td><td>4</td><td>16</td></tr>\n",
              "\t<tr><th scope=row>698</th><td>-15.43</td><td>185.19</td><td>249</td><td>4</td><td>11</td></tr>\n",
              "\t<tr><th scope=row>722</th><td>-17.91</td><td>181.48</td><td>555</td><td>4</td><td>17</td></tr>\n",
              "\t<tr><th scope=row>727</th><td>-17.10</td><td>182.80</td><td>390</td><td>4</td><td>14</td></tr>\n",
              "\t<tr><th scope=row>733</th><td>-30.30</td><td>180.80</td><td>275</td><td>4</td><td>14</td></tr>\n",
              "\t<tr><th scope=row>750</th><td>-25.60</td><td>180.30</td><td>440</td><td>4</td><td>12</td></tr>\n",
              "\t<tr><th scope=row>770</th><td>-20.70</td><td>186.30</td><td> 80</td><td>4</td><td>10</td></tr>\n",
              "\t<tr><th scope=row>⋮</th><td>⋮</td><td>⋮</td><td>⋮</td><td>⋮</td><td>⋮</td></tr>\n",
              "\t<tr><th scope=row>531</th><td>-15.77</td><td>167.01</td><td> 64</td><td>5.5</td><td> 73</td></tr>\n",
              "\t<tr><th scope=row>541</th><td>-15.90</td><td>167.42</td><td> 40</td><td>5.5</td><td> 86</td></tr>\n",
              "\t<tr><th scope=row>663</th><td>-18.14</td><td>180.87</td><td>624</td><td>5.5</td><td>105</td></tr>\n",
              "\t<tr><th scope=row>893</th><td>-13.80</td><td>166.53</td><td> 42</td><td>5.5</td><td> 70</td></tr>\n",
              "\t<tr><th scope=row>948</th><td>-27.89</td><td>182.92</td><td> 87</td><td>5.5</td><td> 67</td></tr>\n",
              "\t<tr><th scope=row>952</th><td>-35.94</td><td>178.52</td><td>138</td><td>5.5</td><td> 78</td></tr>\n",
              "\t<tr><th scope=row>167</th><td>-26.00</td><td>182.12</td><td>205</td><td>5.6</td><td> 98</td></tr>\n",
              "\t<tr><th scope=row>297</th><td>-24.57</td><td>178.40</td><td>562</td><td>5.6</td><td> 80</td></tr>\n",
              "\t<tr><th scope=row>570</th><td>-34.68</td><td>179.82</td><td> 75</td><td>5.6</td><td> 79</td></tr>\n",
              "\t<tr><th scope=row>636</th><td>-18.82</td><td>182.21</td><td>417</td><td>5.6</td><td>129</td></tr>\n",
              "\t<tr><th scope=row>649</th><td>-37.03</td><td>177.52</td><td>153</td><td>5.6</td><td> 87</td></tr>\n",
              "\t<tr><th scope=row>653</th><td>-11.40</td><td>166.07</td><td> 93</td><td>5.6</td><td> 94</td></tr>\n",
              "\t<tr><th scope=row>712</th><td>-15.93</td><td>167.91</td><td>183</td><td>5.6</td><td>109</td></tr>\n",
              "\t<tr><th scope=row>920</th><td>-17.85</td><td>181.44</td><td>589</td><td>5.6</td><td>115</td></tr>\n",
              "\t<tr><th scope=row>935</th><td>-20.25</td><td>184.75</td><td>107</td><td>5.6</td><td>121</td></tr>\n",
              "\t<tr><th scope=row>109</th><td>-22.55</td><td>185.90</td><td> 42</td><td>5.7</td><td> 76</td></tr>\n",
              "\t<tr><th scope=row>151</th><td>-23.34</td><td>184.50</td><td> 56</td><td>5.7</td><td>106</td></tr>\n",
              "\t<tr><th scope=row>176</th><td>-32.22</td><td>180.20</td><td>216</td><td>5.7</td><td> 90</td></tr>\n",
              "\t<tr><th scope=row>275</th><td>-22.13</td><td>180.38</td><td>577</td><td>5.7</td><td>104</td></tr>\n",
              "\t<tr><th scope=row>376</th><td>-15.33</td><td>186.75</td><td> 48</td><td>5.7</td><td>123</td></tr>\n",
              "\t<tr><th scope=row>399</th><td>-17.84</td><td>181.30</td><td>535</td><td>5.7</td><td>112</td></tr>\n",
              "\t<tr><th scope=row>605</th><td>-19.89</td><td>174.46</td><td>546</td><td>5.7</td><td> 99</td></tr>\n",
              "\t<tr><th scope=row>869</th><td>-21.14</td><td>174.21</td><td> 40</td><td>5.7</td><td> 78</td></tr>\n",
              "\t<tr><th scope=row>558</th><td>-22.91</td><td>183.95</td><td> 64</td><td>5.9</td><td>118</td></tr>\n",
              "\t<tr><th scope=row>753</th><td>-21.08</td><td>180.85</td><td>627</td><td>5.9</td><td>119</td></tr>\n",
              "\t<tr><th scope=row>17</th><td>-13.64</td><td>165.96</td><td> 50</td><td>6.0</td><td> 83</td></tr>\n",
              "\t<tr><th scope=row>870</th><td>-12.23</td><td>167.02</td><td>242</td><td>6.0</td><td>132</td></tr>\n",
              "\t<tr><th scope=row>1000</th><td>-21.59</td><td>170.56</td><td>165</td><td>6.0</td><td>119</td></tr>\n",
              "\t<tr><th scope=row>15</th><td>-20.70</td><td>169.92</td><td>139</td><td>6.1</td><td> 94</td></tr>\n",
              "\t<tr><th scope=row>152</th><td>-15.56</td><td>167.62</td><td>127</td><td>6.4</td><td>122</td></tr>\n",
              "</tbody>\n",
              "</table>\n"
            ],
            "text/markdown": "\nA data.frame: 1000 × 5\n\n| <!--/--> | lat &lt;dbl&gt; | long &lt;dbl&gt; | depth &lt;int&gt; | mag &lt;dbl&gt; | stations &lt;int&gt; |\n|---|---|---|---|---|---|\n| 5 | -20.42 | 181.96 | 649 | 4 | 11 |\n| 6 | -19.68 | 184.31 | 195 | 4 | 12 |\n| 26 | -17.94 | 181.49 | 537 | 4 | 15 |\n| 34 | -23.55 | 180.80 | 349 | 4 | 10 |\n| 52 | -19.26 | 184.42 | 223 | 4 | 15 |\n| 58 | -22.06 | 180.60 | 584 | 4 | 11 |\n| 71 | -15.31 | 185.80 | 152 | 4 | 11 |\n| 85 | -17.70 | 181.70 | 450 | 4 | 11 |\n| 96 | -19.73 | 182.40 | 375 | 4 | 18 |\n| 113 | -19.06 | 182.45 | 477 | 4 | 16 |\n| 142 | -20.65 | 181.40 | 582 | 4 | 14 |\n| 150 | -17.90 | 181.50 | 573 | 4 | 19 |\n| 202 | -17.70 | 182.20 | 445 | 4 | 12 |\n| 236 | -23.54 | 179.93 | 574 | 4 | 12 |\n| 284 | -17.70 | 185.00 | 383 | 4 | 10 |\n| 298 | -17.94 | 181.51 | 601 | 4 | 16 |\n| 299 | -30.64 | 181.20 | 175 | 4 | 16 |\n| 362 | -16.90 | 185.72 | 135 | 4 | 22 |\n| 389 | -10.72 | 165.99 | 195 | 4 | 14 |\n| 433 | -18.55 | 182.23 | 563 | 4 | 17 |\n| 483 | -22.70 | 183.30 | 180 | 4 | 13 |\n| 533 | -21.00 | 183.20 | 296 | 4 | 16 |\n| 598 | -17.02 | 182.93 | 406 | 4 | 17 |\n| 637 | -19.51 | 183.97 | 280 | 4 | 16 |\n| 698 | -15.43 | 185.19 | 249 | 4 | 11 |\n| 722 | -17.91 | 181.48 | 555 | 4 | 17 |\n| 727 | -17.10 | 182.80 | 390 | 4 | 14 |\n| 733 | -30.30 | 180.80 | 275 | 4 | 14 |\n| 750 | -25.60 | 180.30 | 440 | 4 | 12 |\n| 770 | -20.70 | 186.30 |  80 | 4 | 10 |\n| ⋮ | ⋮ | ⋮ | ⋮ | ⋮ | ⋮ |\n| 531 | -15.77 | 167.01 |  64 | 5.5 |  73 |\n| 541 | -15.90 | 167.42 |  40 | 5.5 |  86 |\n| 663 | -18.14 | 180.87 | 624 | 5.5 | 105 |\n| 893 | -13.80 | 166.53 |  42 | 5.5 |  70 |\n| 948 | -27.89 | 182.92 |  87 | 5.5 |  67 |\n| 952 | -35.94 | 178.52 | 138 | 5.5 |  78 |\n| 167 | -26.00 | 182.12 | 205 | 5.6 |  98 |\n| 297 | -24.57 | 178.40 | 562 | 5.6 |  80 |\n| 570 | -34.68 | 179.82 |  75 | 5.6 |  79 |\n| 636 | -18.82 | 182.21 | 417 | 5.6 | 129 |\n| 649 | -37.03 | 177.52 | 153 | 5.6 |  87 |\n| 653 | -11.40 | 166.07 |  93 | 5.6 |  94 |\n| 712 | -15.93 | 167.91 | 183 | 5.6 | 109 |\n| 920 | -17.85 | 181.44 | 589 | 5.6 | 115 |\n| 935 | -20.25 | 184.75 | 107 | 5.6 | 121 |\n| 109 | -22.55 | 185.90 |  42 | 5.7 |  76 |\n| 151 | -23.34 | 184.50 |  56 | 5.7 | 106 |\n| 176 | -32.22 | 180.20 | 216 | 5.7 |  90 |\n| 275 | -22.13 | 180.38 | 577 | 5.7 | 104 |\n| 376 | -15.33 | 186.75 |  48 | 5.7 | 123 |\n| 399 | -17.84 | 181.30 | 535 | 5.7 | 112 |\n| 605 | -19.89 | 174.46 | 546 | 5.7 |  99 |\n| 869 | -21.14 | 174.21 |  40 | 5.7 |  78 |\n| 558 | -22.91 | 183.95 |  64 | 5.9 | 118 |\n| 753 | -21.08 | 180.85 | 627 | 5.9 | 119 |\n| 17 | -13.64 | 165.96 |  50 | 6.0 |  83 |\n| 870 | -12.23 | 167.02 | 242 | 6.0 | 132 |\n| 1000 | -21.59 | 170.56 | 165 | 6.0 | 119 |\n| 15 | -20.70 | 169.92 | 139 | 6.1 |  94 |\n| 152 | -15.56 | 167.62 | 127 | 6.4 | 122 |\n\n",
            "text/latex": "A data.frame: 1000 × 5\n\\begin{tabular}{r|lllll}\n  & lat & long & depth & mag & stations\\\\\n  & <dbl> & <dbl> & <int> & <dbl> & <int>\\\\\n\\hline\n\t5 & -20.42 & 181.96 & 649 & 4 & 11\\\\\n\t6 & -19.68 & 184.31 & 195 & 4 & 12\\\\\n\t26 & -17.94 & 181.49 & 537 & 4 & 15\\\\\n\t34 & -23.55 & 180.80 & 349 & 4 & 10\\\\\n\t52 & -19.26 & 184.42 & 223 & 4 & 15\\\\\n\t58 & -22.06 & 180.60 & 584 & 4 & 11\\\\\n\t71 & -15.31 & 185.80 & 152 & 4 & 11\\\\\n\t85 & -17.70 & 181.70 & 450 & 4 & 11\\\\\n\t96 & -19.73 & 182.40 & 375 & 4 & 18\\\\\n\t113 & -19.06 & 182.45 & 477 & 4 & 16\\\\\n\t142 & -20.65 & 181.40 & 582 & 4 & 14\\\\\n\t150 & -17.90 & 181.50 & 573 & 4 & 19\\\\\n\t202 & -17.70 & 182.20 & 445 & 4 & 12\\\\\n\t236 & -23.54 & 179.93 & 574 & 4 & 12\\\\\n\t284 & -17.70 & 185.00 & 383 & 4 & 10\\\\\n\t298 & -17.94 & 181.51 & 601 & 4 & 16\\\\\n\t299 & -30.64 & 181.20 & 175 & 4 & 16\\\\\n\t362 & -16.90 & 185.72 & 135 & 4 & 22\\\\\n\t389 & -10.72 & 165.99 & 195 & 4 & 14\\\\\n\t433 & -18.55 & 182.23 & 563 & 4 & 17\\\\\n\t483 & -22.70 & 183.30 & 180 & 4 & 13\\\\\n\t533 & -21.00 & 183.20 & 296 & 4 & 16\\\\\n\t598 & -17.02 & 182.93 & 406 & 4 & 17\\\\\n\t637 & -19.51 & 183.97 & 280 & 4 & 16\\\\\n\t698 & -15.43 & 185.19 & 249 & 4 & 11\\\\\n\t722 & -17.91 & 181.48 & 555 & 4 & 17\\\\\n\t727 & -17.10 & 182.80 & 390 & 4 & 14\\\\\n\t733 & -30.30 & 180.80 & 275 & 4 & 14\\\\\n\t750 & -25.60 & 180.30 & 440 & 4 & 12\\\\\n\t770 & -20.70 & 186.30 &  80 & 4 & 10\\\\\n\t⋮ & ⋮ & ⋮ & ⋮ & ⋮ & ⋮\\\\\n\t531 & -15.77 & 167.01 &  64 & 5.5 &  73\\\\\n\t541 & -15.90 & 167.42 &  40 & 5.5 &  86\\\\\n\t663 & -18.14 & 180.87 & 624 & 5.5 & 105\\\\\n\t893 & -13.80 & 166.53 &  42 & 5.5 &  70\\\\\n\t948 & -27.89 & 182.92 &  87 & 5.5 &  67\\\\\n\t952 & -35.94 & 178.52 & 138 & 5.5 &  78\\\\\n\t167 & -26.00 & 182.12 & 205 & 5.6 &  98\\\\\n\t297 & -24.57 & 178.40 & 562 & 5.6 &  80\\\\\n\t570 & -34.68 & 179.82 &  75 & 5.6 &  79\\\\\n\t636 & -18.82 & 182.21 & 417 & 5.6 & 129\\\\\n\t649 & -37.03 & 177.52 & 153 & 5.6 &  87\\\\\n\t653 & -11.40 & 166.07 &  93 & 5.6 &  94\\\\\n\t712 & -15.93 & 167.91 & 183 & 5.6 & 109\\\\\n\t920 & -17.85 & 181.44 & 589 & 5.6 & 115\\\\\n\t935 & -20.25 & 184.75 & 107 & 5.6 & 121\\\\\n\t109 & -22.55 & 185.90 &  42 & 5.7 &  76\\\\\n\t151 & -23.34 & 184.50 &  56 & 5.7 & 106\\\\\n\t176 & -32.22 & 180.20 & 216 & 5.7 &  90\\\\\n\t275 & -22.13 & 180.38 & 577 & 5.7 & 104\\\\\n\t376 & -15.33 & 186.75 &  48 & 5.7 & 123\\\\\n\t399 & -17.84 & 181.30 & 535 & 5.7 & 112\\\\\n\t605 & -19.89 & 174.46 & 546 & 5.7 &  99\\\\\n\t869 & -21.14 & 174.21 &  40 & 5.7 &  78\\\\\n\t558 & -22.91 & 183.95 &  64 & 5.9 & 118\\\\\n\t753 & -21.08 & 180.85 & 627 & 5.9 & 119\\\\\n\t17 & -13.64 & 165.96 &  50 & 6.0 &  83\\\\\n\t870 & -12.23 & 167.02 & 242 & 6.0 & 132\\\\\n\t1000 & -21.59 & 170.56 & 165 & 6.0 & 119\\\\\n\t15 & -20.70 & 169.92 & 139 & 6.1 &  94\\\\\n\t152 & -15.56 & 167.62 & 127 & 6.4 & 122\\\\\n\\end{tabular}\n",
            "text/plain": [
              "     lat    long   depth mag stations\n",
              "5    -20.42 181.96 649   4   11      \n",
              "6    -19.68 184.31 195   4   12      \n",
              "26   -17.94 181.49 537   4   15      \n",
              "34   -23.55 180.80 349   4   10      \n",
              "52   -19.26 184.42 223   4   15      \n",
              "58   -22.06 180.60 584   4   11      \n",
              "71   -15.31 185.80 152   4   11      \n",
              "85   -17.70 181.70 450   4   11      \n",
              "96   -19.73 182.40 375   4   18      \n",
              "113  -19.06 182.45 477   4   16      \n",
              "142  -20.65 181.40 582   4   14      \n",
              "150  -17.90 181.50 573   4   19      \n",
              "202  -17.70 182.20 445   4   12      \n",
              "236  -23.54 179.93 574   4   12      \n",
              "284  -17.70 185.00 383   4   10      \n",
              "298  -17.94 181.51 601   4   16      \n",
              "299  -30.64 181.20 175   4   16      \n",
              "362  -16.90 185.72 135   4   22      \n",
              "389  -10.72 165.99 195   4   14      \n",
              "433  -18.55 182.23 563   4   17      \n",
              "483  -22.70 183.30 180   4   13      \n",
              "533  -21.00 183.20 296   4   16      \n",
              "598  -17.02 182.93 406   4   17      \n",
              "637  -19.51 183.97 280   4   16      \n",
              "698  -15.43 185.19 249   4   11      \n",
              "722  -17.91 181.48 555   4   17      \n",
              "727  -17.10 182.80 390   4   14      \n",
              "733  -30.30 180.80 275   4   14      \n",
              "750  -25.60 180.30 440   4   12      \n",
              "770  -20.70 186.30  80   4   10      \n",
              "⋮    ⋮      ⋮      ⋮     ⋮   ⋮       \n",
              "531  -15.77 167.01  64   5.5  73     \n",
              "541  -15.90 167.42  40   5.5  86     \n",
              "663  -18.14 180.87 624   5.5 105     \n",
              "893  -13.80 166.53  42   5.5  70     \n",
              "948  -27.89 182.92  87   5.5  67     \n",
              "952  -35.94 178.52 138   5.5  78     \n",
              "167  -26.00 182.12 205   5.6  98     \n",
              "297  -24.57 178.40 562   5.6  80     \n",
              "570  -34.68 179.82  75   5.6  79     \n",
              "636  -18.82 182.21 417   5.6 129     \n",
              "649  -37.03 177.52 153   5.6  87     \n",
              "653  -11.40 166.07  93   5.6  94     \n",
              "712  -15.93 167.91 183   5.6 109     \n",
              "920  -17.85 181.44 589   5.6 115     \n",
              "935  -20.25 184.75 107   5.6 121     \n",
              "109  -22.55 185.90  42   5.7  76     \n",
              "151  -23.34 184.50  56   5.7 106     \n",
              "176  -32.22 180.20 216   5.7  90     \n",
              "275  -22.13 180.38 577   5.7 104     \n",
              "376  -15.33 186.75  48   5.7 123     \n",
              "399  -17.84 181.30 535   5.7 112     \n",
              "605  -19.89 174.46 546   5.7  99     \n",
              "869  -21.14 174.21  40   5.7  78     \n",
              "558  -22.91 183.95  64   5.9 118     \n",
              "753  -21.08 180.85 627   5.9 119     \n",
              "17   -13.64 165.96  50   6.0  83     \n",
              "870  -12.23 167.02 242   6.0 132     \n",
              "1000 -21.59 170.56 165   6.0 119     \n",
              "15   -20.70 169.92 139   6.1  94     \n",
              "152  -15.56 167.62 127   6.4 122     "
            ]
          },
          "metadata": {}
        }
      ]
    },
    {
      "cell_type": "code",
      "source": [
        "# find the index for magnitude in the myQuakes first, then reorder the magnitude from lowest to highest. \",\" means return the first colume of magnitude."
      ],
      "metadata": {
        "id": "gr9WExxZ5vuP"
      },
      "execution_count": 85,
      "outputs": []
    },
    {
      "cell_type": "markdown",
      "source": [
        "H. Print the top rows of each of the sorted dataframes using the **head()** function and explain in a comment what you see - did the two sorting functions produce a similar result?"
      ],
      "metadata": {
        "id": "OBaP4SJvdmVf"
      }
    },
    {
      "cell_type": "code",
      "source": [
        "head(quakeSorted1,5)"
      ],
      "metadata": {
        "id": "S-PaSK1Ad58m",
        "colab": {
          "base_uri": "https://localhost:8080/",
          "height": 255
        },
        "outputId": "63ff2799-3bd4-4106-faf9-660132d5b36b"
      },
      "execution_count": 88,
      "outputs": [
        {
          "output_type": "display_data",
          "data": {
            "text/html": [
              "<table class=\"dataframe\">\n",
              "<caption>A data.frame: 5 × 5</caption>\n",
              "<thead>\n",
              "\t<tr><th></th><th scope=col>lat</th><th scope=col>long</th><th scope=col>depth</th><th scope=col>mag</th><th scope=col>stations</th></tr>\n",
              "\t<tr><th></th><th scope=col>&lt;dbl&gt;</th><th scope=col>&lt;dbl&gt;</th><th scope=col>&lt;int&gt;</th><th scope=col>&lt;dbl&gt;</th><th scope=col>&lt;int&gt;</th></tr>\n",
              "</thead>\n",
              "<tbody>\n",
              "\t<tr><th scope=row>1</th><td>-20.42</td><td>181.96</td><td>649</td><td>4</td><td>11</td></tr>\n",
              "\t<tr><th scope=row>2</th><td>-19.68</td><td>184.31</td><td>195</td><td>4</td><td>12</td></tr>\n",
              "\t<tr><th scope=row>3</th><td>-17.94</td><td>181.49</td><td>537</td><td>4</td><td>15</td></tr>\n",
              "\t<tr><th scope=row>4</th><td>-23.55</td><td>180.80</td><td>349</td><td>4</td><td>10</td></tr>\n",
              "\t<tr><th scope=row>5</th><td>-19.26</td><td>184.42</td><td>223</td><td>4</td><td>15</td></tr>\n",
              "</tbody>\n",
              "</table>\n"
            ],
            "text/markdown": "\nA data.frame: 5 × 5\n\n| <!--/--> | lat &lt;dbl&gt; | long &lt;dbl&gt; | depth &lt;int&gt; | mag &lt;dbl&gt; | stations &lt;int&gt; |\n|---|---|---|---|---|---|\n| 1 | -20.42 | 181.96 | 649 | 4 | 11 |\n| 2 | -19.68 | 184.31 | 195 | 4 | 12 |\n| 3 | -17.94 | 181.49 | 537 | 4 | 15 |\n| 4 | -23.55 | 180.80 | 349 | 4 | 10 |\n| 5 | -19.26 | 184.42 | 223 | 4 | 15 |\n\n",
            "text/latex": "A data.frame: 5 × 5\n\\begin{tabular}{r|lllll}\n  & lat & long & depth & mag & stations\\\\\n  & <dbl> & <dbl> & <int> & <dbl> & <int>\\\\\n\\hline\n\t1 & -20.42 & 181.96 & 649 & 4 & 11\\\\\n\t2 & -19.68 & 184.31 & 195 & 4 & 12\\\\\n\t3 & -17.94 & 181.49 & 537 & 4 & 15\\\\\n\t4 & -23.55 & 180.80 & 349 & 4 & 10\\\\\n\t5 & -19.26 & 184.42 & 223 & 4 & 15\\\\\n\\end{tabular}\n",
            "text/plain": [
              "  lat    long   depth mag stations\n",
              "1 -20.42 181.96 649   4   11      \n",
              "2 -19.68 184.31 195   4   12      \n",
              "3 -17.94 181.49 537   4   15      \n",
              "4 -23.55 180.80 349   4   10      \n",
              "5 -19.26 184.42 223   4   15      "
            ]
          },
          "metadata": {}
        }
      ]
    },
    {
      "cell_type": "code",
      "source": [
        "head(quakeSorted2,5)"
      ],
      "metadata": {
        "colab": {
          "base_uri": "https://localhost:8080/",
          "height": 255
        },
        "id": "xD-9jlKO-Es4",
        "outputId": "f4e3e7d7-dbea-48d2-dfef-18f8ae18c82b"
      },
      "execution_count": 90,
      "outputs": [
        {
          "output_type": "display_data",
          "data": {
            "text/html": [
              "<table class=\"dataframe\">\n",
              "<caption>A data.frame: 5 × 5</caption>\n",
              "<thead>\n",
              "\t<tr><th></th><th scope=col>lat</th><th scope=col>long</th><th scope=col>depth</th><th scope=col>mag</th><th scope=col>stations</th></tr>\n",
              "\t<tr><th></th><th scope=col>&lt;dbl&gt;</th><th scope=col>&lt;dbl&gt;</th><th scope=col>&lt;int&gt;</th><th scope=col>&lt;dbl&gt;</th><th scope=col>&lt;int&gt;</th></tr>\n",
              "</thead>\n",
              "<tbody>\n",
              "\t<tr><th scope=row>5</th><td>-20.42</td><td>181.96</td><td>649</td><td>4</td><td>11</td></tr>\n",
              "\t<tr><th scope=row>6</th><td>-19.68</td><td>184.31</td><td>195</td><td>4</td><td>12</td></tr>\n",
              "\t<tr><th scope=row>26</th><td>-17.94</td><td>181.49</td><td>537</td><td>4</td><td>15</td></tr>\n",
              "\t<tr><th scope=row>34</th><td>-23.55</td><td>180.80</td><td>349</td><td>4</td><td>10</td></tr>\n",
              "\t<tr><th scope=row>52</th><td>-19.26</td><td>184.42</td><td>223</td><td>4</td><td>15</td></tr>\n",
              "</tbody>\n",
              "</table>\n"
            ],
            "text/markdown": "\nA data.frame: 5 × 5\n\n| <!--/--> | lat &lt;dbl&gt; | long &lt;dbl&gt; | depth &lt;int&gt; | mag &lt;dbl&gt; | stations &lt;int&gt; |\n|---|---|---|---|---|---|\n| 5 | -20.42 | 181.96 | 649 | 4 | 11 |\n| 6 | -19.68 | 184.31 | 195 | 4 | 12 |\n| 26 | -17.94 | 181.49 | 537 | 4 | 15 |\n| 34 | -23.55 | 180.80 | 349 | 4 | 10 |\n| 52 | -19.26 | 184.42 | 223 | 4 | 15 |\n\n",
            "text/latex": "A data.frame: 5 × 5\n\\begin{tabular}{r|lllll}\n  & lat & long & depth & mag & stations\\\\\n  & <dbl> & <dbl> & <int> & <dbl> & <int>\\\\\n\\hline\n\t5 & -20.42 & 181.96 & 649 & 4 & 11\\\\\n\t6 & -19.68 & 184.31 & 195 & 4 & 12\\\\\n\t26 & -17.94 & 181.49 & 537 & 4 & 15\\\\\n\t34 & -23.55 & 180.80 & 349 & 4 & 10\\\\\n\t52 & -19.26 & 184.42 & 223 & 4 & 15\\\\\n\\end{tabular}\n",
            "text/plain": [
              "   lat    long   depth mag stations\n",
              "5  -20.42 181.96 649   4   11      \n",
              "6  -19.68 184.31 195   4   12      \n",
              "26 -17.94 181.49 537   4   15      \n",
              "34 -23.55 180.80 349   4   10      \n",
              "52 -19.26 184.42 223   4   15      "
            ]
          },
          "metadata": {}
        }
      ]
    },
    {
      "cell_type": "markdown",
      "metadata": {
        "id": "OmTi7AL3HemV"
      },
      "source": [
        "I.\tWhat are the latitude and longitude of the quake reported by the largest number of stations?  "
      ]
    },
    {
      "cell_type": "code",
      "execution_count": 94,
      "metadata": {
        "id": "0qZqdfiBHemV",
        "colab": {
          "base_uri": "https://localhost:8080/",
          "height": 34
        },
        "outputId": "af90f4c1-0b4e-4b4c-f6f8-b4dacbaea72b"
      },
      "outputs": [
        {
          "output_type": "display_data",
          "data": {
            "text/html": [
              "-12.23"
            ],
            "text/markdown": "-12.23",
            "text/latex": "-12.23",
            "text/plain": [
              "[1] -12.23"
            ]
          },
          "metadata": {}
        }
      ],
      "source": [
        "# latitude\n",
        "myQuakes[which.max(myQuakes$stations),1]"
      ]
    },
    {
      "cell_type": "code",
      "source": [
        "#longitude\n",
        "myQuakes[which.max(myQuakes$stations),2]"
      ],
      "metadata": {
        "colab": {
          "base_uri": "https://localhost:8080/",
          "height": 34
        },
        "id": "qTWsmvsu-4wY",
        "outputId": "40d61049-d72e-4320-99c9-c4ea9b0e9ceb"
      },
      "execution_count": 95,
      "outputs": [
        {
          "output_type": "display_data",
          "data": {
            "text/html": [
              "167.02"
            ],
            "text/markdown": "167.02",
            "text/latex": "167.02",
            "text/plain": [
              "[1] 167.02"
            ]
          },
          "metadata": {}
        }
      ]
    },
    {
      "cell_type": "markdown",
      "metadata": {
        "id": "dpJyNdxmHemV"
      },
      "source": [
        "J.\tWhat are the latitude and longitude of the quake with the smallest magnitude?  "
      ]
    },
    {
      "cell_type": "code",
      "execution_count": 96,
      "metadata": {
        "id": "vbvrXXc0HemV",
        "colab": {
          "base_uri": "https://localhost:8080/",
          "height": 34
        },
        "outputId": "91b5dfc9-cd37-475e-fad5-345e5d8ee077"
      },
      "outputs": [
        {
          "output_type": "display_data",
          "data": {
            "text/html": [
              "-21"
            ],
            "text/markdown": "-21",
            "text/latex": "-21",
            "text/plain": [
              "[1] -21"
            ]
          },
          "metadata": {}
        }
      ],
      "source": [
        "#latitude\n",
        "myQuakes[which.min(myQuakes$stations),1]"
      ]
    },
    {
      "cell_type": "code",
      "source": [
        "#longitude\n",
        "myQuakes[which.min(myQuakes$stations),2]"
      ],
      "metadata": {
        "colab": {
          "base_uri": "https://localhost:8080/",
          "height": 34
        },
        "id": "QEZiyLZI_K_J",
        "outputId": "cef84cf6-537f-4de9-e49f-c13d6c048b9b"
      },
      "execution_count": 97,
      "outputs": [
        {
          "output_type": "display_data",
          "data": {
            "text/html": [
              "181.66"
            ],
            "text/markdown": "181.66",
            "text/latex": "181.66",
            "text/plain": [
              "[1] 181.66"
            ]
          },
          "metadata": {}
        }
      ]
    },
    {
      "cell_type": "markdown",
      "metadata": {
        "id": "I_aby-FLHemV"
      },
      "source": [
        "**Step 3:** Using conditional if statements <br>\n",
        "\n",
        "A.\t Test if **maxQuake** is greater than 6 (output “yes” or “no”) <br>\n",
        "**Hint:** Try modifying the following code in R: "
      ]
    },
    {
      "cell_type": "code",
      "execution_count": 116,
      "metadata": {
        "id": "DOy2M88qHemW",
        "colab": {
          "base_uri": "https://localhost:8080/",
          "height": 0
        },
        "outputId": "4392ce49-2697-4007-8161-a470de3be913"
      },
      "outputs": [
        {
          "output_type": "stream",
          "name": "stdout",
          "text": [
            "[1] \"yes\"\n"
          ]
        }
      ],
      "source": [
        "if(maxQuake > 6){print(\"yes\")}else{print(\"no\")}"
      ]
    },
    {
      "cell_type": "markdown",
      "metadata": {
        "id": "UeO6bqXQHemW"
      },
      "source": [
        "B.\t Following the same logic, test if **minQuake** is less than 3 (output “yes” or “no”):"
      ]
    },
    {
      "cell_type": "code",
      "source": [
        "if(minQuake<3) print(\"yes\") else print(\"no\")"
      ],
      "metadata": {
        "id": "tseS6XfzoYIY",
        "colab": {
          "base_uri": "https://localhost:8080/",
          "height": 0
        },
        "outputId": "c32bd292-78b7-4826-82f8-10f0c845b927"
      },
      "execution_count": 115,
      "outputs": [
        {
          "output_type": "stream",
          "name": "stdout",
          "text": [
            "[1] \"no\"\n"
          ]
        }
      ]
    }
  ]
}